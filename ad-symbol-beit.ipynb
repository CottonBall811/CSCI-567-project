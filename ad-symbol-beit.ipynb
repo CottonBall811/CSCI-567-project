{
 "cells": [
  {
   "cell_type": "markdown",
   "id": "5bae64ca",
   "metadata": {
    "id": "uOk6ZUPLX3dz",
    "papermill": {
     "duration": 0.009896,
     "end_time": "2023-11-30T06:09:55.013653",
     "exception": false,
     "start_time": "2023-11-30T06:09:55.003757",
     "status": "completed"
    },
    "tags": []
   },
   "source": [
    "## load data"
   ]
  },
  {
   "cell_type": "code",
   "execution_count": 1,
   "id": "58310a82",
   "metadata": {
    "execution": {
     "iopub.execute_input": "2023-11-30T06:09:55.034514Z",
     "iopub.status.busy": "2023-11-30T06:09:55.033613Z",
     "iopub.status.idle": "2023-11-30T06:11:05.285071Z",
     "shell.execute_reply": "2023-11-30T06:11:05.284053Z"
    },
    "executionInfo": {
     "elapsed": 37610,
     "status": "ok",
     "timestamp": 1698790503275,
     "user": {
      "displayName": "Yusen Luo",
      "userId": "05429475045693260270"
     },
     "user_tz": 420
    },
    "id": "CYj_NKgHg7yo",
    "outputId": "a58e3f37-4476-46ea-980a-f95a6578a9fa",
    "papermill": {
     "duration": 70.264503,
     "end_time": "2023-11-30T06:11:05.287624",
     "exception": false,
     "start_time": "2023-11-30T06:09:55.023121",
     "status": "completed"
    },
    "tags": []
   },
   "outputs": [
    {
     "name": "stdout",
     "output_type": "stream",
     "text": [
      "Requirement already satisfied: datasets in /opt/conda/lib/python3.10/site-packages (2.1.0)\r\n",
      "Requirement already satisfied: numpy>=1.17 in /opt/conda/lib/python3.10/site-packages (from datasets) (1.24.3)\r\n",
      "Requirement already satisfied: pyarrow>=5.0.0 in /opt/conda/lib/python3.10/site-packages (from datasets) (11.0.0)\r\n",
      "Requirement already satisfied: dill in /opt/conda/lib/python3.10/site-packages (from datasets) (0.3.7)\r\n",
      "Requirement already satisfied: pandas in /opt/conda/lib/python3.10/site-packages (from datasets) (2.0.3)\r\n",
      "Requirement already satisfied: requests>=2.19.0 in /opt/conda/lib/python3.10/site-packages (from datasets) (2.31.0)\r\n",
      "Requirement already satisfied: tqdm>=4.62.1 in /opt/conda/lib/python3.10/site-packages (from datasets) (4.66.1)\r\n",
      "Requirement already satisfied: xxhash in /opt/conda/lib/python3.10/site-packages (from datasets) (3.4.1)\r\n",
      "Requirement already satisfied: multiprocess in /opt/conda/lib/python3.10/site-packages (from datasets) (0.70.15)\r\n",
      "Requirement already satisfied: fsspec[http]>=2021.05.0 in /opt/conda/lib/python3.10/site-packages (from datasets) (2023.10.0)\r\n",
      "Requirement already satisfied: aiohttp in /opt/conda/lib/python3.10/site-packages (from datasets) (3.8.5)\r\n",
      "Requirement already satisfied: huggingface-hub<1.0.0,>=0.1.0 in /opt/conda/lib/python3.10/site-packages (from datasets) (0.17.3)\r\n",
      "Requirement already satisfied: packaging in /opt/conda/lib/python3.10/site-packages (from datasets) (21.3)\r\n",
      "Requirement already satisfied: responses<0.19 in /opt/conda/lib/python3.10/site-packages (from datasets) (0.18.0)\r\n",
      "Requirement already satisfied: attrs>=17.3.0 in /opt/conda/lib/python3.10/site-packages (from aiohttp->datasets) (23.1.0)\r\n",
      "Requirement already satisfied: charset-normalizer<4.0,>=2.0 in /opt/conda/lib/python3.10/site-packages (from aiohttp->datasets) (3.2.0)\r\n",
      "Requirement already satisfied: multidict<7.0,>=4.5 in /opt/conda/lib/python3.10/site-packages (from aiohttp->datasets) (6.0.4)\r\n",
      "Requirement already satisfied: async-timeout<5.0,>=4.0.0a3 in /opt/conda/lib/python3.10/site-packages (from aiohttp->datasets) (4.0.3)\r\n",
      "Requirement already satisfied: yarl<2.0,>=1.0 in /opt/conda/lib/python3.10/site-packages (from aiohttp->datasets) (1.9.2)\r\n",
      "Requirement already satisfied: frozenlist>=1.1.1 in /opt/conda/lib/python3.10/site-packages (from aiohttp->datasets) (1.4.0)\r\n",
      "Requirement already satisfied: aiosignal>=1.1.2 in /opt/conda/lib/python3.10/site-packages (from aiohttp->datasets) (1.3.1)\r\n",
      "Requirement already satisfied: filelock in /opt/conda/lib/python3.10/site-packages (from huggingface-hub<1.0.0,>=0.1.0->datasets) (3.12.2)\r\n",
      "Requirement already satisfied: pyyaml>=5.1 in /opt/conda/lib/python3.10/site-packages (from huggingface-hub<1.0.0,>=0.1.0->datasets) (6.0.1)\r\n",
      "Requirement already satisfied: typing-extensions>=3.7.4.3 in /opt/conda/lib/python3.10/site-packages (from huggingface-hub<1.0.0,>=0.1.0->datasets) (4.5.0)\r\n",
      "Requirement already satisfied: pyparsing!=3.0.5,>=2.0.2 in /opt/conda/lib/python3.10/site-packages (from packaging->datasets) (3.0.9)\r\n",
      "Requirement already satisfied: idna<4,>=2.5 in /opt/conda/lib/python3.10/site-packages (from requests>=2.19.0->datasets) (3.4)\r\n",
      "Requirement already satisfied: urllib3<3,>=1.21.1 in /opt/conda/lib/python3.10/site-packages (from requests>=2.19.0->datasets) (1.26.15)\r\n",
      "Requirement already satisfied: certifi>=2017.4.17 in /opt/conda/lib/python3.10/site-packages (from requests>=2.19.0->datasets) (2023.7.22)\r\n",
      "Requirement already satisfied: python-dateutil>=2.8.2 in /opt/conda/lib/python3.10/site-packages (from pandas->datasets) (2.8.2)\r\n",
      "Requirement already satisfied: pytz>=2020.1 in /opt/conda/lib/python3.10/site-packages (from pandas->datasets) (2023.3)\r\n",
      "Requirement already satisfied: tzdata>=2022.1 in /opt/conda/lib/python3.10/site-packages (from pandas->datasets) (2023.3)\r\n",
      "Requirement already satisfied: six>=1.5 in /opt/conda/lib/python3.10/site-packages (from python-dateutil>=2.8.2->pandas->datasets) (1.16.0)\r\n",
      "Requirement already satisfied: numpy in /opt/conda/lib/python3.10/site-packages (1.24.3)\r\n",
      "Requirement already satisfied: transformers in /opt/conda/lib/python3.10/site-packages (4.35.0)\r\n",
      "Requirement already satisfied: filelock in /opt/conda/lib/python3.10/site-packages (from transformers) (3.12.2)\r\n",
      "Requirement already satisfied: huggingface-hub<1.0,>=0.16.4 in /opt/conda/lib/python3.10/site-packages (from transformers) (0.17.3)\r\n",
      "Requirement already satisfied: numpy>=1.17 in /opt/conda/lib/python3.10/site-packages (from transformers) (1.24.3)\r\n",
      "Requirement already satisfied: packaging>=20.0 in /opt/conda/lib/python3.10/site-packages (from transformers) (21.3)\r\n",
      "Requirement already satisfied: pyyaml>=5.1 in /opt/conda/lib/python3.10/site-packages (from transformers) (6.0.1)\r\n",
      "Requirement already satisfied: regex!=2019.12.17 in /opt/conda/lib/python3.10/site-packages (from transformers) (2023.8.8)\r\n",
      "Requirement already satisfied: requests in /opt/conda/lib/python3.10/site-packages (from transformers) (2.31.0)\r\n",
      "Requirement already satisfied: tokenizers<0.15,>=0.14 in /opt/conda/lib/python3.10/site-packages (from transformers) (0.14.1)\r\n",
      "Requirement already satisfied: safetensors>=0.3.1 in /opt/conda/lib/python3.10/site-packages (from transformers) (0.4.0)\r\n",
      "Requirement already satisfied: tqdm>=4.27 in /opt/conda/lib/python3.10/site-packages (from transformers) (4.66.1)\r\n",
      "Requirement already satisfied: fsspec in /opt/conda/lib/python3.10/site-packages (from huggingface-hub<1.0,>=0.16.4->transformers) (2023.10.0)\r\n",
      "Requirement already satisfied: typing-extensions>=3.7.4.3 in /opt/conda/lib/python3.10/site-packages (from huggingface-hub<1.0,>=0.16.4->transformers) (4.5.0)\r\n",
      "Requirement already satisfied: pyparsing!=3.0.5,>=2.0.2 in /opt/conda/lib/python3.10/site-packages (from packaging>=20.0->transformers) (3.0.9)\r\n",
      "Requirement already satisfied: charset-normalizer<4,>=2 in /opt/conda/lib/python3.10/site-packages (from requests->transformers) (3.2.0)\r\n",
      "Requirement already satisfied: idna<4,>=2.5 in /opt/conda/lib/python3.10/site-packages (from requests->transformers) (3.4)\r\n",
      "Requirement already satisfied: urllib3<3,>=1.21.1 in /opt/conda/lib/python3.10/site-packages (from requests->transformers) (1.26.15)\r\n",
      "Requirement already satisfied: certifi>=2017.4.17 in /opt/conda/lib/python3.10/site-packages (from requests->transformers) (2023.7.22)\r\n",
      "Requirement already satisfied: accelerate in /opt/conda/lib/python3.10/site-packages (0.24.1)\r\n",
      "Requirement already satisfied: numpy>=1.17 in /opt/conda/lib/python3.10/site-packages (from accelerate) (1.24.3)\r\n",
      "Requirement already satisfied: packaging>=20.0 in /opt/conda/lib/python3.10/site-packages (from accelerate) (21.3)\r\n",
      "Requirement already satisfied: psutil in /opt/conda/lib/python3.10/site-packages (from accelerate) (5.9.3)\r\n",
      "Requirement already satisfied: pyyaml in /opt/conda/lib/python3.10/site-packages (from accelerate) (6.0.1)\r\n",
      "Requirement already satisfied: torch>=1.10.0 in /opt/conda/lib/python3.10/site-packages (from accelerate) (2.0.0)\r\n",
      "Requirement already satisfied: huggingface-hub in /opt/conda/lib/python3.10/site-packages (from accelerate) (0.17.3)\r\n",
      "Requirement already satisfied: pyparsing!=3.0.5,>=2.0.2 in /opt/conda/lib/python3.10/site-packages (from packaging>=20.0->accelerate) (3.0.9)\r\n",
      "Requirement already satisfied: filelock in /opt/conda/lib/python3.10/site-packages (from torch>=1.10.0->accelerate) (3.12.2)\r\n",
      "Requirement already satisfied: typing-extensions in /opt/conda/lib/python3.10/site-packages (from torch>=1.10.0->accelerate) (4.5.0)\r\n",
      "Requirement already satisfied: sympy in /opt/conda/lib/python3.10/site-packages (from torch>=1.10.0->accelerate) (1.12)\r\n",
      "Requirement already satisfied: networkx in /opt/conda/lib/python3.10/site-packages (from torch>=1.10.0->accelerate) (3.1)\r\n",
      "Requirement already satisfied: jinja2 in /opt/conda/lib/python3.10/site-packages (from torch>=1.10.0->accelerate) (3.1.2)\r\n",
      "Requirement already satisfied: fsspec in /opt/conda/lib/python3.10/site-packages (from huggingface-hub->accelerate) (2023.10.0)\r\n",
      "Requirement already satisfied: requests in /opt/conda/lib/python3.10/site-packages (from huggingface-hub->accelerate) (2.31.0)\r\n",
      "Requirement already satisfied: tqdm>=4.42.1 in /opt/conda/lib/python3.10/site-packages (from huggingface-hub->accelerate) (4.66.1)\r\n",
      "Requirement already satisfied: MarkupSafe>=2.0 in /opt/conda/lib/python3.10/site-packages (from jinja2->torch>=1.10.0->accelerate) (2.1.3)\r\n",
      "Requirement already satisfied: charset-normalizer<4,>=2 in /opt/conda/lib/python3.10/site-packages (from requests->huggingface-hub->accelerate) (3.2.0)\r\n",
      "Requirement already satisfied: idna<4,>=2.5 in /opt/conda/lib/python3.10/site-packages (from requests->huggingface-hub->accelerate) (3.4)\r\n",
      "Requirement already satisfied: urllib3<3,>=1.21.1 in /opt/conda/lib/python3.10/site-packages (from requests->huggingface-hub->accelerate) (1.26.15)\r\n",
      "Requirement already satisfied: certifi>=2017.4.17 in /opt/conda/lib/python3.10/site-packages (from requests->huggingface-hub->accelerate) (2023.7.22)\r\n",
      "Requirement already satisfied: mpmath>=0.19 in /opt/conda/lib/python3.10/site-packages (from sympy->torch>=1.10.0->accelerate) (1.3.0)\r\n",
      "Collecting evaluate\r\n",
      "  Obtaining dependency information for evaluate from https://files.pythonhosted.org/packages/70/63/7644a1eb7b0297e585a6adec98ed9e575309bb973c33b394dae66bc35c69/evaluate-0.4.1-py3-none-any.whl.metadata\r\n",
      "  Downloading evaluate-0.4.1-py3-none-any.whl.metadata (9.4 kB)\r\n",
      "Requirement already satisfied: datasets>=2.0.0 in /opt/conda/lib/python3.10/site-packages (from evaluate) (2.1.0)\r\n",
      "Requirement already satisfied: numpy>=1.17 in /opt/conda/lib/python3.10/site-packages (from evaluate) (1.24.3)\r\n",
      "Requirement already satisfied: dill in /opt/conda/lib/python3.10/site-packages (from evaluate) (0.3.7)\r\n",
      "Requirement already satisfied: pandas in /opt/conda/lib/python3.10/site-packages (from evaluate) (2.0.3)\r\n",
      "Requirement already satisfied: requests>=2.19.0 in /opt/conda/lib/python3.10/site-packages (from evaluate) (2.31.0)\r\n",
      "Requirement already satisfied: tqdm>=4.62.1 in /opt/conda/lib/python3.10/site-packages (from evaluate) (4.66.1)\r\n",
      "Requirement already satisfied: xxhash in /opt/conda/lib/python3.10/site-packages (from evaluate) (3.4.1)\r\n",
      "Requirement already satisfied: multiprocess in /opt/conda/lib/python3.10/site-packages (from evaluate) (0.70.15)\r\n",
      "Requirement already satisfied: fsspec[http]>=2021.05.0 in /opt/conda/lib/python3.10/site-packages (from evaluate) (2023.10.0)\r\n",
      "Requirement already satisfied: huggingface-hub>=0.7.0 in /opt/conda/lib/python3.10/site-packages (from evaluate) (0.17.3)\r\n",
      "Requirement already satisfied: packaging in /opt/conda/lib/python3.10/site-packages (from evaluate) (21.3)\r\n",
      "Requirement already satisfied: responses<0.19 in /opt/conda/lib/python3.10/site-packages (from evaluate) (0.18.0)\r\n",
      "Requirement already satisfied: pyarrow>=5.0.0 in /opt/conda/lib/python3.10/site-packages (from datasets>=2.0.0->evaluate) (11.0.0)\r\n",
      "Requirement already satisfied: aiohttp in /opt/conda/lib/python3.10/site-packages (from datasets>=2.0.0->evaluate) (3.8.5)\r\n",
      "Requirement already satisfied: filelock in /opt/conda/lib/python3.10/site-packages (from huggingface-hub>=0.7.0->evaluate) (3.12.2)\r\n",
      "Requirement already satisfied: pyyaml>=5.1 in /opt/conda/lib/python3.10/site-packages (from huggingface-hub>=0.7.0->evaluate) (6.0.1)\r\n",
      "Requirement already satisfied: typing-extensions>=3.7.4.3 in /opt/conda/lib/python3.10/site-packages (from huggingface-hub>=0.7.0->evaluate) (4.5.0)\r\n",
      "Requirement already satisfied: pyparsing!=3.0.5,>=2.0.2 in /opt/conda/lib/python3.10/site-packages (from packaging->evaluate) (3.0.9)\r\n",
      "Requirement already satisfied: charset-normalizer<4,>=2 in /opt/conda/lib/python3.10/site-packages (from requests>=2.19.0->evaluate) (3.2.0)\r\n",
      "Requirement already satisfied: idna<4,>=2.5 in /opt/conda/lib/python3.10/site-packages (from requests>=2.19.0->evaluate) (3.4)\r\n",
      "Requirement already satisfied: urllib3<3,>=1.21.1 in /opt/conda/lib/python3.10/site-packages (from requests>=2.19.0->evaluate) (1.26.15)\r\n",
      "Requirement already satisfied: certifi>=2017.4.17 in /opt/conda/lib/python3.10/site-packages (from requests>=2.19.0->evaluate) (2023.7.22)\r\n",
      "Requirement already satisfied: python-dateutil>=2.8.2 in /opt/conda/lib/python3.10/site-packages (from pandas->evaluate) (2.8.2)\r\n",
      "Requirement already satisfied: pytz>=2020.1 in /opt/conda/lib/python3.10/site-packages (from pandas->evaluate) (2023.3)\r\n",
      "Requirement already satisfied: tzdata>=2022.1 in /opt/conda/lib/python3.10/site-packages (from pandas->evaluate) (2023.3)\r\n",
      "Requirement already satisfied: attrs>=17.3.0 in /opt/conda/lib/python3.10/site-packages (from aiohttp->datasets>=2.0.0->evaluate) (23.1.0)\r\n",
      "Requirement already satisfied: multidict<7.0,>=4.5 in /opt/conda/lib/python3.10/site-packages (from aiohttp->datasets>=2.0.0->evaluate) (6.0.4)\r\n",
      "Requirement already satisfied: async-timeout<5.0,>=4.0.0a3 in /opt/conda/lib/python3.10/site-packages (from aiohttp->datasets>=2.0.0->evaluate) (4.0.3)\r\n",
      "Requirement already satisfied: yarl<2.0,>=1.0 in /opt/conda/lib/python3.10/site-packages (from aiohttp->datasets>=2.0.0->evaluate) (1.9.2)\r\n",
      "Requirement already satisfied: frozenlist>=1.1.1 in /opt/conda/lib/python3.10/site-packages (from aiohttp->datasets>=2.0.0->evaluate) (1.4.0)\r\n",
      "Requirement already satisfied: aiosignal>=1.1.2 in /opt/conda/lib/python3.10/site-packages (from aiohttp->datasets>=2.0.0->evaluate) (1.3.1)\r\n",
      "Requirement already satisfied: six>=1.5 in /opt/conda/lib/python3.10/site-packages (from python-dateutil>=2.8.2->pandas->evaluate) (1.16.0)\r\n",
      "Downloading evaluate-0.4.1-py3-none-any.whl (84 kB)\r\n",
      "\u001b[2K   \u001b[90m━━━━━━━━━━━━━━━━━━━━━━━━━━━━━━━━━━━━━━━━\u001b[0m \u001b[32m84.1/84.1 kB\u001b[0m \u001b[31m5.3 MB/s\u001b[0m eta \u001b[36m0:00:00\u001b[0m\r\n",
      "\u001b[?25hInstalling collected packages: evaluate\r\n",
      "Successfully installed evaluate-0.4.1\r\n"
     ]
    }
   ],
   "source": [
    "!pip install datasets\n",
    "!pip install numpy\n",
    "!pip install transformers\n",
    "!pip install accelerate -U\n",
    "!pip install evaluate\n",
    "!pip install --upgrade -q wandb"
   ]
  },
  {
   "cell_type": "code",
   "execution_count": 2,
   "id": "823f7e9e",
   "metadata": {
    "execution": {
     "iopub.execute_input": "2023-11-30T06:11:05.313133Z",
     "iopub.status.busy": "2023-11-30T06:11:05.312811Z",
     "iopub.status.idle": "2023-11-30T06:11:05.317046Z",
     "shell.execute_reply": "2023-11-30T06:11:05.316259Z"
    },
    "id": "pb83aRzWX3d1",
    "papermill": {
     "duration": 0.018906,
     "end_time": "2023-11-30T06:11:05.318826",
     "exception": false,
     "start_time": "2023-11-30T06:11:05.299920",
     "status": "completed"
    },
    "tags": []
   },
   "outputs": [],
   "source": [
    "# dataset_path = \"/MyDrive/Colab_Notebooks/CSCI-567_project/data/Topic_data/topic_data.csv\"\n",
    "dataset_path = \"/kaggle/input/ad-symbol/symbol_data_for_clustering.csv\""
   ]
  },
  {
   "cell_type": "code",
   "execution_count": 3,
   "id": "17433ee6",
   "metadata": {
    "execution": {
     "iopub.execute_input": "2023-11-30T06:11:05.344204Z",
     "iopub.status.busy": "2023-11-30T06:11:05.343939Z",
     "iopub.status.idle": "2023-11-30T06:11:05.367354Z",
     "shell.execute_reply": "2023-11-30T06:11:05.366648Z"
    },
    "papermill": {
     "duration": 0.03865,
     "end_time": "2023-11-30T06:11:05.369287",
     "exception": false,
     "start_time": "2023-11-30T06:11:05.330637",
     "status": "completed"
    },
    "tags": []
   },
   "outputs": [],
   "source": [
    "# id2label = {0: 'entertainment', 1: 'active', 2: 'sport', 3: 'home', 4: 'strong', 5: 'strength', 6: 'sexy', 7: 'lust', \n",
    "#             8: 'sexuality', 9: 'sex', 10: 'humor', 11: 'nature', 12: 'natural', 13: 'childhood', 14: 'excitement', 15: 'fun', \n",
    "#             16: 'clean', 17: 'beauty', 18: 'friendship', 19: 'mystery', 20: 'death', 21: 'halloween', 22: 'violence', 23: 'abuse', \n",
    "#             24: 'cleanliness', 25: 'family', 26: 'communication', 27: 'technology', 28: 'danger', 29: 'dangerous', 30: 'injury', 31: 'harm', \n",
    "#             32: 'color', 33: 'birth', 34: 'protection', 35: 'candy', 36: 'desire', 37: 'travel', 38: 'fashion', 39: 'music', 40: 'light', \n",
    "#             41: 'food', 42: 'environment', 43: 'support', 44: 'pollution', 45: 'wealth', 46: 'fresh', 47: 'smoking', 48: 'innocence', \n",
    "#             49: 'exotic', 50: 'vacation', 51: 'sexual', 52: 'fantasy', 53: 'freedom', 54: 'delicious', 55: 'celebration', 56: 'health', \n",
    "#             57: 'heart', 58: 'global warming', 59: 'pain', 60: 'quality', 61: 'holiday', 62: 'youth', 63: 'sports', 64: 'automobile', \n",
    "#             65: 'messy', 66: 'water', 67: 'freshness', 68: 'break', 69: 'speed', 70: 'energy', 71: 'athleticism', 72: 'adventure', \n",
    "#             73: 'sharp', 74: 'confidence', 75: 'fitness', 76: 'contrast', 77: 'safe', 78: 'party', 79: 'play', 80: 'animal cruelty', \n",
    "#             81: 'animal abuse', 82: 'innovation', 83: 'suicide', 84: 'creativity', 85: 'relax', 86: 'odd', 87: 'different', 88: 'hunger', \n",
    "#             89: 'control', 90: 'coffee', 91: 'refreshing', 92: 'game', 93: 'space', 94: 'peace', 95: 'happy', 96: 'physical abuse', \n",
    "#             97: 'domestic violence', 98: 'thirst', 99: 'relaxation', 100: 'outdoors', 101: 'glamour', 102: 'growth', 103: 'beer', \n",
    "#             104: 'weight loss', 105: 'nutrition', 106: 'flight', 107: 'future', 108: 'stylish', 109: 'sharing', 110: 'sex appeal', \n",
    "#             111: 'royalty', 112: 'alcohol', 113: 'art', 114: 'cool', 115: 'sadness', 116: 'love', 117: 'diversity', 118: 'healthy', \n",
    "#             119: 'seduction', 120: 'simplicity', 121: 'unhealthy', 122: 'easy', 123: 'choices', 124: 'clothing', 125: 'work', \n",
    "#             126: 'imagination', 127: 'safety', 128: 'size', 129: 'variety', 130: 'classic', 131: 'culture', 132: 'fear', 133: 'flavor', \n",
    "#             134: 'harmful', 135: 'fast', 136: 'ice cream', 137: 'attraction', 138: 'comfort', 139: 'surprise', 140: 'athletic', 141: 'tasty', \n",
    "#             142: 'hungry', 143: 'precision', 144: 'time', 145: 'simple', 146: 'wildlife', 147: 'purity', 148: 'coolness', 149: 'accident', \n",
    "#             150: 'class', 151: 'cold', 152: 'unity', 153: 'elegance', 154: 'craving', 155: 'change', 156: 'style', 157: 'pizza', 158: 'power', \n",
    "#             159: 'happiness', 160: 'no symbol detected', 161: 'exercise', 162: 'tough', 163: 'rugged', 164: 'shoes', 165: 'chocolate', \n",
    "#             166: 'destruction', 167: 'intelligence', 168: 'adventurous', 169: 'awake', 170: 'sad', 171: 'options', 172: 'new', 173: 'attractive', \n",
    "#             174: 'care', 175: 'christmas', 176: 'winter', 177: 'individuality', 178: 'success', 179: 'flying', 180: 'animal', 181: 'broken', \n",
    "#             182: 'drink', 183: 'togetherness', 184: 'taste', 185: 'exploration', 186: 'old', 187: 'spicy', 188: 'education', 189: 'action', \n",
    "#             190: 'money', 191: 'car', 192: 'small', 193: 'balance', 194: 'hot', 195: 'bullying', 196: 'joy', 197: 'indulgence', 198: 'luxury', \n",
    "#             199: 'smooth', 200: 'innovative', 201: 'history', 202: 'fancy', 203: 'monster', 204: 'unique', 205: 'heat', 206: 'scary', \n",
    "#             207: 'life', 208: 'flavorful', 209: 'war', 210: 'big', 211: 'wild', 212: 'gift', 213: 'dirty', 214: 'competition', 215: 'romance', \n",
    "#             216: 'toughness', 217: 'strange', 218: 'milk', 219: 'tired', 220: 'fire', 221: 'america', 222: 'powerful', 223: 'nostalgia', \n",
    "#             224: 'anger', 225: 'obesity', 226: 'confusion', 227: 'enjoyment', 228: 'victory'}\n",
    "\n",
    "origin_label2id = {'entertainment': 0, 'active': 1, 'sport': 2, 'home': 3, 'strong': 4, 'strength': 5, 'sexy': 6, 'lust': 7, 'sexuality': 8, \n",
    "            'sex': 9, 'humor': 10, 'nature': 11, 'natural': 12, 'childhood': 13, 'excitement': 14, 'fun': 15, 'clean': 16, 'beauty': 17, \n",
    "            'friendship': 18, 'mystery': 19, 'death': 20, 'halloween': 21, 'violence': 22, 'abuse': 23, 'cleanliness': 24, 'family': 25, \n",
    "            'communication': 26, 'technology': 27, 'danger': 28, 'dangerous': 29, 'injury': 30, 'harm': 31, 'color': 32, 'birth': 33, \n",
    "            'protection': 34, 'candy': 35, 'desire': 36, 'travel': 37, 'fashion': 38, 'music': 39, 'light': 40, 'food': 41, 'environment': 42, \n",
    "            'support': 43, 'pollution': 44, 'wealth': 45, 'fresh': 46, 'smoking': 47, 'innocence': 48, 'exotic': 49, 'vacation': 50, 'sexual': 51, \n",
    "            'fantasy': 52, 'freedom': 53, 'delicious': 54, 'celebration': 55, 'health': 56, 'heart': 57, 'global warming': 58, 'pain': 59, \n",
    "            'quality': 60, 'holiday': 61, 'youth': 62, 'sports': 63, 'automobile': 64, 'messy': 65, 'water': 66, 'freshness': 67, 'break': 68, \n",
    "            'speed': 69, 'energy': 70, 'athleticism': 71, 'adventure': 72, 'sharp': 73, 'confidence': 74, 'fitness': 75, 'contrast': 76, 'safe': 77, \n",
    "            'party': 78, 'play': 79, 'animal cruelty': 80, 'animal abuse': 81, 'innovation': 82, 'suicide': 83, 'creativity': 84, 'relax': 85, \n",
    "            'odd': 86, 'different': 87, 'hunger': 88, 'control': 89, 'coffee': 90, 'refreshing': 91, 'game': 92, 'space': 93, 'peace': 94, \n",
    "            'happy': 95, 'physical abuse': 96, 'domestic violence': 97, 'thirst': 98, 'relaxation': 99, 'outdoors': 100, 'glamour': 101, \n",
    "            'growth': 102, 'beer': 103, 'weight loss': 104, 'nutrition': 105, 'flight': 106, 'future': 107, 'stylish': 108, 'sharing': 109, \n",
    "            'sex appeal': 110, 'royalty': 111, 'alcohol': 112, 'art': 113, 'cool': 114, 'sadness': 115, 'love': 116, 'diversity': 117, \n",
    "            'healthy': 118, 'seduction': 119, 'simplicity': 120, 'unhealthy': 121, 'easy': 122, 'choices': 123, 'clothing': 124, 'work': 125, \n",
    "            'imagination': 126, 'safety': 127, 'size': 128, 'variety': 129, 'classic': 130, 'culture': 131, 'fear': 132, 'flavor': 133, \n",
    "            'harmful': 134, 'fast': 135, 'ice cream': 136, 'attraction': 137, 'comfort': 138, 'surprise': 139, 'athletic': 140, 'tasty': 141, \n",
    "            'hungry': 142, 'precision': 143, 'time': 144, 'simple': 145, 'wildlife': 146, 'purity': 147, 'coolness': 148, 'accident': 149, \n",
    "            'class': 150, 'cold': 151, 'unity': 152, 'elegance': 153, 'craving': 154, 'change': 155, 'style': 156, 'pizza': 157, 'power': 158, \n",
    "            'happiness': 159, 'no symbol detected': 160, 'exercise': 161, 'tough': 162, 'rugged': 163, 'shoes': 164, 'chocolate': 165, \n",
    "            'destruction': 166, 'intelligence': 167, 'adventurous': 168, 'awake': 169, 'sad': 170, 'options': 171, 'new': 172, 'attractive': 173, \n",
    "            'care': 174, 'christmas': 175, 'winter': 176, 'individuality': 177, 'success': 178, 'flying': 179, 'animal': 180, 'broken': 181, \n",
    "            'drink': 182, 'togetherness': 183, 'taste': 184, 'exploration': 185, 'old': 186, 'spicy': 187, 'education': 188, 'action': 189, \n",
    "            'money': 190, 'car': 191, 'small': 192, 'balance': 193, 'hot': 194, 'bullying': 195, 'joy': 196, 'indulgence': 197, 'luxury': 198, \n",
    "            'smooth': 199, 'innovative': 200, 'history': 201, 'fancy': 202, 'monster': 203, 'unique': 204, 'heat': 205, 'scary': 206, 'life': 207, \n",
    "            'flavorful': 208, 'war': 209, 'big': 210, 'wild': 211, 'gift': 212, 'dirty': 213, 'competition': 214, 'romance': 215, 'toughness': 216, \n",
    "            'strange': 217, 'milk': 218, 'tired': 219, 'fire': 220, 'america': 221, 'powerful': 222, 'nostalgia': 223, 'anger': 224, 'obesity': 225, \n",
    "            'confusion': 226, 'enjoyment': 227, 'victory': 228}"
   ]
  },
  {
   "cell_type": "code",
   "execution_count": 4,
   "id": "accb0f99",
   "metadata": {
    "execution": {
     "iopub.execute_input": "2023-11-30T06:11:05.393571Z",
     "iopub.status.busy": "2023-11-30T06:11:05.393304Z",
     "iopub.status.idle": "2023-11-30T06:11:05.418041Z",
     "shell.execute_reply": "2023-11-30T06:11:05.417422Z"
    },
    "papermill": {
     "duration": 0.038953,
     "end_time": "2023-11-30T06:11:05.419854",
     "exception": false,
     "start_time": "2023-11-30T06:11:05.380901",
     "status": "completed"
    },
    "tags": []
   },
   "outputs": [],
   "source": [
    "id_map = {1: 0, 189: 0, 221: 1, 19: 2, 52: 2, 101: 2, 119: 2, 126: 2, 137: 2, 173: 2, 174: 3, 191: 3, 16: 4, 24: 4, 48: 4, 147: 4, 124: 5, 164: 5, 148: 6, 151: 6, 176: 6, 32: 7, 74: 8, 226: 9, 89: 10, 131: 11, 188: 11, 201: 11, 20: 12, 22: 12, 23: 12, 28: 12, 29: 12, 30: 12, 31: 12, 59: 12, 73: 12, 80: 12, 81: 12, 83: 12, 96: 12, 97: 12, 134: 12, 149: 12, 162: 12, 166: 12, 181: 12, 195: 12, 203: 12, 209: 12, 216: 12, 36: 13, 154: 13, 197: 13, 202: 13, 49: 14, 76: 14, 86: 14, 87: 14, 117: 14, 123: 14, 129: 14, 143: 14, 152: 14, 155: 14, 156: 14, 171: 14, 177: 14, 204: 14, 217: 14, 65: 15, 213: 15, 139: 16, 70: 17, 158: 17, 222: 17, 0: 18, 37: 18, 39: 18, 79: 18, 85: 18, 92: 18, 99: 18, 113: 18, 38: 19, 108: 19, 114: 19, 153: 19, 106: 20, 179: 20, 35: 21, 41: 21, 54: 21, 90: 21, 133: 21, 136: 21, 141: 21, 142: 21, 157: 21, 165: 21, 184: 21, 187: 21, 208: 21, 212: 22, 13: 23, 62: 23, 144: 23, 33: 24, 56: 24, 57: 24, 102: 24, 104: 24, 105: 24, 118: 24, 207: 24, 21: 25, 50: 25, 55: 25, 61: 25, 68: 25, 78: 25, 175: 25, 3: 26, 194: 27, 205: 27, 220: 27, 88: 28, 40: 29, 11: 30, 12: 30, 46: 30, 67: 30, 115: 31, 132: 31, 170: 31, 206: 31, 219: 31, 224: 31, 72: 32, 82: 32, 84: 32, 91: 32, 107: 32, 167: 32, 168: 32, 172: 32, 185: 32, 200: 32, 160: 33, 130: 34, 150: 34, 186: 34, 223: 34, 44: 35, 47: 35, 58: 35, 10: 36, 14: 36, 15: 36, 53: 36, 95: 36, 159: 36, 196: 36, 227: 36, 60: 37, 18: 38, 25: 38, 26: 38, 109: 38, 183: 38, 214: 38, 215: 38, 163: 39, 34: 40, 77: 40, 94: 40, 116: 40, 127: 40, 138: 40, 169: 40, 193: 40, 199: 40, 6: 41, 7: 41, 8: 41, 9: 41, 17: 41, 51: 41, 110: 41, 120: 42, 122: 42, 145: 42, 93: 43, 128: 43, 192: 43, 210: 43, 69: 44, 135: 44, 2: 45, 63: 45, 71: 45, 75: 45, 140: 45, 161: 45, 4: 46, 5: 46, 125: 47, 228: 47, 43: 48, 121: 49, 225: 49, 66: 50, 98: 50, 103: 50, 112: 50, 182: 50, 218: 50, 27: 51, 45: 51, 64: 51, 111: 51, 190: 51, 198: 51, 42: 52, 100: 52, 146: 52, 180: 52, 211: 52, 178: 47}\n",
    "id2label = {0: 'action', 1: 'america', 2: 'attractive', 3: 'care', 4: 'clean', 5: 'clothing', 6: 'cold', 7: 'color', 8: 'confidence', 9: 'confusion', 10: 'control', 11: 'culture', 12: 'danger', 13: 'desire', 14: 'differ', 15: 'dirty', 16: 'emotion', 17: 'energy', 18: 'entertainment', 19: 'fashion', 20: 'flight', 21: 'food', 22: 'gift', 23: 'growth', 24: 'health', 25: 'holiday', 26: 'home', 27: 'hot', 28: 'hunger', 29: 'light', 30: 'natural', 31: 'negative emotion', 32: 'new', 33: 'none', 34: 'old', 35: 'pollution', 36: 'positive emotion', 37: 'quality', 38: 'relationship', 39: 'rugged', 40: 'safe', 41: 'sex', 42: 'simple', 43: 'size', 44: 'speed', 45: 'sport', 46: 'strength', 47: 'success', 48: 'support', 49: 'unhealthy', 50: 'water', 51: 'wealth', 52: 'wild'}\n",
    "label2id = {'action': 0, 'america': 1, 'attractive': 2, 'care': 3, 'clean': 4, 'clothing': 5, 'cold': 6, 'color': 7, 'confidence': 8, 'confusion': 9, 'control': 10, 'culture': 11, 'danger': 12, 'desire': 13, 'differ': 14, 'dirty': 15, 'emotion': 16, 'energy': 17, 'entertainment': 18, 'fashion': 19, 'flight': 20, 'food': 21, 'gift': 22, 'growth': 23, 'health': 24, 'holiday': 25, 'home': 26, 'hot': 27, 'hunger': 28, 'light': 29, 'natural': 30, 'negative emotion': 31, 'new': 32, 'none': 33, 'old': 34, 'pollution': 35, 'positive emotion': 36, 'quality': 37, 'relationship': 38, 'rugged': 39, 'safe': 40, 'sex': 41, 'simple': 42, 'size': 43, 'speed': 44, 'sport': 45, 'strength': 46, 'success': 47, 'support': 48, 'unhealthy': 49, 'water': 50, 'wealth': 51, 'wild': 52}\n"
   ]
  },
  {
   "cell_type": "code",
   "execution_count": 5,
   "id": "ee3570ad",
   "metadata": {
    "execution": {
     "iopub.execute_input": "2023-11-30T06:11:05.444171Z",
     "iopub.status.busy": "2023-11-30T06:11:05.443916Z",
     "iopub.status.idle": "2023-11-30T06:11:07.227508Z",
     "shell.execute_reply": "2023-11-30T06:11:07.226468Z"
    },
    "executionInfo": {
     "elapsed": 1094,
     "status": "error",
     "timestamp": 1698790536833,
     "user": {
      "displayName": "Yusen Luo",
      "userId": "05429475045693260270"
     },
     "user_tz": 420
    },
    "id": "Tqx4lCrOX3d1",
    "outputId": "f3d17ec5-be67-40a5-d55f-278c0a0a4ef6",
    "papermill": {
     "duration": 1.7981,
     "end_time": "2023-11-30T06:11:07.229500",
     "exception": false,
     "start_time": "2023-11-30T06:11:05.431400",
     "status": "completed"
    },
    "tags": []
   },
   "outputs": [
    {
     "name": "stdout",
     "output_type": "stream",
     "text": [
      "{'img': Image(decode=True, id=None), 'label_one_hot': Sequence(feature=Value(dtype='float64', id=None), length=-1, id=None)}\n"
     ]
    }
   ],
   "source": [
    "import csv\n",
    "import numpy as np\n",
    "from datasets import Dataset, Image\n",
    "# from charset_normalizer import md__mypyc\n",
    "num_labels = 53\n",
    "data_rows = 11685\n",
    "\n",
    "def load_data(data_path):\n",
    "    csv_data_list = []\n",
    "    with open(data_path, encoding=\"UTF-8\") as f:\n",
    "        reader = csv.reader(f)\n",
    "        header_row = next(reader)\n",
    "        # print(header_row)\n",
    "\n",
    "        for row in reader:\n",
    "            csv_data_list.append(row)\n",
    "\n",
    "    # imgs = []\n",
    "    # label_ids = []\n",
    "    # labels = []\n",
    "    path_label_dict = {}\n",
    "    dataset_dict = {'img': [], 'label_one_hot': [[]]}  # \"image\": path,\n",
    "    label_one_hot_list = []\n",
    "    id2label_dict = {}\n",
    "    label2id_dict = {}\n",
    "\n",
    "\n",
    "    for row in csv_data_list:\n",
    "        img_path = \"/kaggle/input/csci-567/\" + row[0]\n",
    "        \n",
    "        label_names = row[1].split(\"&\")\n",
    "        one_hot_labels = np.zeros(num_labels).tolist()\n",
    "        \n",
    "        for label_name in label_names:\n",
    "            origin_label_id = int(origin_label2id[label_name])\n",
    "            label_id = id_map[origin_label_id]\n",
    "            one_hot_labels[label_id] = 1\n",
    "        \n",
    "        \n",
    "#         label_id = int(row[2]) - 1 \n",
    "        # label_ids.append(label_id)\n",
    "#         dataset_dict['label_id'].append(label_id)\n",
    "        dataset_dict['label_one_hot'].append(one_hot_labels)\n",
    "#         label_one_hot_list.append(one_hot_labels)\n",
    "\n",
    "#         label_name = row[1]\n",
    "#         if label_id not in id2label_dict.keys():\n",
    "#             id2label_dict[label_id] = label_name\n",
    "        \n",
    "#         if label_name not in label2id_dict.keys():\n",
    "#             label2id_dict[label_name] = label_id;\n",
    "        # labels.append(label_name)\n",
    "\n",
    "        # img_file = Image.open(img_path)\n",
    "        # img_array = np.array(img_file)\n",
    "        dataset_dict['img'].append(img_path)\n",
    "\n",
    "\n",
    "\n",
    "#         path_label_dict[img_path] = label_id\n",
    "        # print(img_array.shape)\n",
    "    \n",
    "#     dataset_dict['label_one_hot'] = dataset_dict['label_one_hot'].reshape(data_rows, num_labels)\n",
    "#     dataset_dict['label_one_hot'] = [label_one_hot_list[i:i + num_labels] for i in range(0, len(label_one_hot_list), num_labels)]\n",
    "    dataset_dict['label_one_hot'] = dataset_dict['label_one_hot'][1:]\n",
    "    return_dataset = Dataset.from_dict(dataset_dict).cast_column(\"img\", Image())\n",
    "\n",
    "    return return_dataset\n",
    "\n",
    "whole_set = load_data(dataset_path)\n",
    "splits = whole_set.train_test_split(test_size=0.2)\n",
    "train_val_set = splits['train']\n",
    "test_set = splits['test']\n",
    "splits = train_val_set.train_test_split(test_size=0.25)\n",
    "train_set = splits['train']\n",
    "val_set = splits['test']\n",
    "# num_labels = len(id2label)\n",
    "# print(len(whole_set))\n",
    "# print(len(train_set))\n",
    "# print(len(val_set))\n",
    "# print(len(test_set))\n",
    "print(train_set.features)"
   ]
  },
  {
   "cell_type": "code",
   "execution_count": 6,
   "id": "48acb4c2",
   "metadata": {
    "execution": {
     "iopub.execute_input": "2023-11-30T06:11:07.254878Z",
     "iopub.status.busy": "2023-11-30T06:11:07.254418Z",
     "iopub.status.idle": "2023-11-30T06:11:07.258252Z",
     "shell.execute_reply": "2023-11-30T06:11:07.257484Z"
    },
    "id": "-AeIeUlyX3d2",
    "papermill": {
     "duration": 0.018857,
     "end_time": "2023-11-30T06:11:07.260473",
     "exception": false,
     "start_time": "2023-11-30T06:11:07.241616",
     "status": "completed"
    },
    "tags": []
   },
   "outputs": [],
   "source": [
    "# print(type(train_set['label_id']))\n",
    "# temp_list = list(id2label.keys())\n",
    "# temp_list.sort()\n",
    "# print(temp_list)"
   ]
  },
  {
   "cell_type": "code",
   "execution_count": 7,
   "id": "40b13cfc",
   "metadata": {
    "execution": {
     "iopub.execute_input": "2023-11-30T06:11:07.285736Z",
     "iopub.status.busy": "2023-11-30T06:11:07.285415Z",
     "iopub.status.idle": "2023-11-30T06:11:07.289898Z",
     "shell.execute_reply": "2023-11-30T06:11:07.289073Z"
    },
    "papermill": {
     "duration": 0.018866,
     "end_time": "2023-11-30T06:11:07.291832",
     "exception": false,
     "start_time": "2023-11-30T06:11:07.272966",
     "status": "completed"
    },
    "tags": []
   },
   "outputs": [
    {
     "name": "stdout",
     "output_type": "stream",
     "text": [
      "{0: 'action', 1: 'america', 2: 'attractive', 3: 'care', 4: 'clean', 5: 'clothing', 6: 'cold', 7: 'color', 8: 'confidence', 9: 'confusion', 10: 'control', 11: 'culture', 12: 'danger', 13: 'desire', 14: 'differ', 15: 'dirty', 16: 'emotion', 17: 'energy', 18: 'entertainment', 19: 'fashion', 20: 'flight', 21: 'food', 22: 'gift', 23: 'growth', 24: 'health', 25: 'holiday', 26: 'home', 27: 'hot', 28: 'hunger', 29: 'light', 30: 'natural', 31: 'negative emotion', 32: 'new', 33: 'none', 34: 'old', 35: 'pollution', 36: 'positive emotion', 37: 'quality', 38: 'relationship', 39: 'rugged', 40: 'safe', 41: 'sex', 42: 'simple', 43: 'size', 44: 'speed', 45: 'sport', 46: 'strength', 47: 'success', 48: 'support', 49: 'unhealthy', 50: 'water', 51: 'wealth', 52: 'wild'}\n",
      "{'action': 0, 'america': 1, 'attractive': 2, 'care': 3, 'clean': 4, 'clothing': 5, 'cold': 6, 'color': 7, 'confidence': 8, 'confusion': 9, 'control': 10, 'culture': 11, 'danger': 12, 'desire': 13, 'differ': 14, 'dirty': 15, 'emotion': 16, 'energy': 17, 'entertainment': 18, 'fashion': 19, 'flight': 20, 'food': 21, 'gift': 22, 'growth': 23, 'health': 24, 'holiday': 25, 'home': 26, 'hot': 27, 'hunger': 28, 'light': 29, 'natural': 30, 'negative emotion': 31, 'new': 32, 'none': 33, 'old': 34, 'pollution': 35, 'positive emotion': 36, 'quality': 37, 'relationship': 38, 'rugged': 39, 'safe': 40, 'sex': 41, 'simple': 42, 'size': 43, 'speed': 44, 'sport': 45, 'strength': 46, 'success': 47, 'support': 48, 'unhealthy': 49, 'water': 50, 'wealth': 51, 'wild': 52}\n"
     ]
    }
   ],
   "source": [
    "print(id2label)\n",
    "print(label2id)"
   ]
  },
  {
   "cell_type": "markdown",
   "id": "a4bfb0be",
   "metadata": {
    "id": "CFm2H01sX3d3",
    "papermill": {
     "duration": 0.011594,
     "end_time": "2023-11-30T06:11:07.315119",
     "exception": false,
     "start_time": "2023-11-30T06:11:07.303525",
     "status": "completed"
    },
    "tags": []
   },
   "source": [
    "## Preprocessing"
   ]
  },
  {
   "cell_type": "code",
   "execution_count": 8,
   "id": "83987b3c",
   "metadata": {
    "execution": {
     "iopub.execute_input": "2023-11-30T06:11:07.340222Z",
     "iopub.status.busy": "2023-11-30T06:11:07.339950Z",
     "iopub.status.idle": "2023-11-30T06:11:22.979867Z",
     "shell.execute_reply": "2023-11-30T06:11:22.978969Z"
    },
    "id": "fboT5WThX3d3",
    "papermill": {
     "duration": 15.658903,
     "end_time": "2023-11-30T06:11:22.985798",
     "exception": false,
     "start_time": "2023-11-30T06:11:07.326895",
     "status": "completed"
    },
    "tags": []
   },
   "outputs": [
    {
     "name": "stderr",
     "output_type": "stream",
     "text": [
      "/opt/conda/lib/python3.10/site-packages/scipy/__init__.py:146: UserWarning: A NumPy version >=1.16.5 and <1.23.0 is required for this version of SciPy (detected version 1.24.3\n",
      "  warnings.warn(f\"A NumPy version >={np_minversion} and <{np_maxversion}\"\n"
     ]
    },
    {
     "data": {
      "application/vnd.jupyter.widget-view+json": {
       "model_id": "aa53f750522b495680199ac19ebf16a5",
       "version_major": 2,
       "version_minor": 0
      },
      "text/plain": [
       "Downloading (…)rocessor_config.json:   0%|          | 0.00/276 [00:00<?, ?B/s]"
      ]
     },
     "metadata": {},
     "output_type": "display_data"
    }
   ],
   "source": [
    "from transformers import ViTImageProcessor, BeitImageProcessor\n",
    "\n",
    "processor = BeitImageProcessor.from_pretrained('microsoft/beit-base-patch16-224', num_labels = num_labels)"
   ]
  },
  {
   "cell_type": "code",
   "execution_count": 9,
   "id": "0c6d624d",
   "metadata": {
    "execution": {
     "iopub.execute_input": "2023-11-30T06:11:23.011746Z",
     "iopub.status.busy": "2023-11-30T06:11:23.011160Z",
     "iopub.status.idle": "2023-11-30T06:11:23.258411Z",
     "shell.execute_reply": "2023-11-30T06:11:23.257632Z"
    },
    "id": "fshBFRxaX3d3",
    "papermill": {
     "duration": 0.26242,
     "end_time": "2023-11-30T06:11:23.260569",
     "exception": false,
     "start_time": "2023-11-30T06:11:22.998149",
     "status": "completed"
    },
    "tags": []
   },
   "outputs": [],
   "source": [
    "from torchvision.transforms import (CenterCrop,\n",
    "                                    Compose,\n",
    "                                    Normalize,\n",
    "                                    RandomHorizontalFlip,\n",
    "                                    RandomResizedCrop,\n",
    "                                    Resize,\n",
    "                                    ToTensor,\n",
    "                                    RandomRotation)\n",
    "\n",
    "image_mean, image_std = processor.image_mean, processor.image_std\n",
    "size = processor.size\n",
    "# size = processor.size[\"height\"]\n",
    "\n",
    "normalize = Normalize(mean=image_mean, std=image_std)\n",
    "transform_train = Compose(\n",
    "        [\n",
    "            Resize([size[\"height\"], size[\"width\"]]),\n",
    "#             RandomResizedCrop(size),\n",
    "            RandomHorizontalFlip(),\n",
    "            RandomRotation(30),\n",
    "            ToTensor(),\n",
    "            normalize,\n",
    "        ]\n",
    "    )\n",
    "\n",
    "transform_val = Compose(\n",
    "        [\n",
    "            Resize([size[\"height\"], size[\"width\"]]),\n",
    "            # CenterCrop(size),\n",
    "            ToTensor(),\n",
    "            normalize,\n",
    "        ]\n",
    "    )\n",
    "\n",
    "def train_transforms(examples):\n",
    "    examples['pixel_values'] = [transform_train(image.convert(\"RGB\")) for image in examples['img']]\n",
    "    return examples\n",
    "\n",
    "def val_transforms(examples):\n",
    "    examples['pixel_values'] = [transform_val(image.convert(\"RGB\")) for image in examples['img']]\n",
    "    return examples"
   ]
  },
  {
   "cell_type": "code",
   "execution_count": 10,
   "id": "cb429919",
   "metadata": {
    "execution": {
     "iopub.execute_input": "2023-11-30T06:11:23.286078Z",
     "iopub.status.busy": "2023-11-30T06:11:23.285783Z",
     "iopub.status.idle": "2023-11-30T06:11:23.289546Z",
     "shell.execute_reply": "2023-11-30T06:11:23.288817Z"
    },
    "id": "8Zq9ojkMX3d3",
    "papermill": {
     "duration": 0.018491,
     "end_time": "2023-11-30T06:11:23.291426",
     "exception": false,
     "start_time": "2023-11-30T06:11:23.272935",
     "status": "completed"
    },
    "tags": []
   },
   "outputs": [],
   "source": [
    "# print(size)"
   ]
  },
  {
   "cell_type": "code",
   "execution_count": 11,
   "id": "f95c9e87",
   "metadata": {
    "execution": {
     "iopub.execute_input": "2023-11-30T06:11:23.316314Z",
     "iopub.status.busy": "2023-11-30T06:11:23.316047Z",
     "iopub.status.idle": "2023-11-30T06:11:23.322650Z",
     "shell.execute_reply": "2023-11-30T06:11:23.321824Z"
    },
    "id": "eO0clYcvX3d3",
    "papermill": {
     "duration": 0.021122,
     "end_time": "2023-11-30T06:11:23.324572",
     "exception": false,
     "start_time": "2023-11-30T06:11:23.303450",
     "status": "completed"
    },
    "tags": []
   },
   "outputs": [],
   "source": [
    "train_set.set_transform(train_transforms)\n",
    "val_set.set_transform(val_transforms)\n",
    "test_set.set_transform(val_transforms)"
   ]
  },
  {
   "cell_type": "markdown",
   "id": "b7e8282f",
   "metadata": {
    "id": "L4jaZR5IX3d4",
    "papermill": {
     "duration": 0.011774,
     "end_time": "2023-11-30T06:11:23.348400",
     "exception": false,
     "start_time": "2023-11-30T06:11:23.336626",
     "status": "completed"
    },
    "tags": []
   },
   "source": [
    "## Define the model"
   ]
  },
  {
   "cell_type": "code",
   "execution_count": 12,
   "id": "3ccbcfda",
   "metadata": {
    "execution": {
     "iopub.execute_input": "2023-11-30T06:11:23.373602Z",
     "iopub.status.busy": "2023-11-30T06:11:23.373265Z",
     "iopub.status.idle": "2023-11-30T06:11:23.446234Z",
     "shell.execute_reply": "2023-11-30T06:11:23.445255Z"
    },
    "papermill": {
     "duration": 0.08795,
     "end_time": "2023-11-30T06:11:23.448281",
     "exception": false,
     "start_time": "2023-11-30T06:11:23.360331",
     "status": "completed"
    },
    "tags": []
   },
   "outputs": [
    {
     "name": "stdout",
     "output_type": "stream",
     "text": [
      "cuda\n"
     ]
    }
   ],
   "source": [
    "import torch\n",
    "\n",
    "device = torch.device(\"cuda\" if torch.cuda.is_available() else \"cpu\")\n",
    "# device = \"cpu\"\n",
    "print(device)"
   ]
  },
  {
   "cell_type": "code",
   "execution_count": 13,
   "id": "bb88b1f2",
   "metadata": {
    "execution": {
     "iopub.execute_input": "2023-11-30T06:11:23.474611Z",
     "iopub.status.busy": "2023-11-30T06:11:23.474262Z",
     "iopub.status.idle": "2023-11-30T06:11:31.321512Z",
     "shell.execute_reply": "2023-11-30T06:11:31.320488Z"
    },
    "id": "YrNUbk40X3d4",
    "papermill": {
     "duration": 7.863179,
     "end_time": "2023-11-30T06:11:31.323825",
     "exception": false,
     "start_time": "2023-11-30T06:11:23.460646",
     "status": "completed"
    },
    "tags": []
   },
   "outputs": [
    {
     "data": {
      "application/vnd.jupyter.widget-view+json": {
       "model_id": "d2edf93031174450afb00aa73628042a",
       "version_major": 2,
       "version_minor": 0
      },
      "text/plain": [
       "Downloading config.json:   0%|          | 0.00/69.9k [00:00<?, ?B/s]"
      ]
     },
     "metadata": {},
     "output_type": "display_data"
    },
    {
     "data": {
      "application/vnd.jupyter.widget-view+json": {
       "model_id": "4994d4e8a2304ac19c72903eee8ac84d",
       "version_major": 2,
       "version_minor": 0
      },
      "text/plain": [
       "Downloading pytorch_model.bin:   0%|          | 0.00/350M [00:00<?, ?B/s]"
      ]
     },
     "metadata": {},
     "output_type": "display_data"
    },
    {
     "name": "stderr",
     "output_type": "stream",
     "text": [
      "Some weights of BeitForImageClassification were not initialized from the model checkpoint at microsoft/beit-base-patch16-224 and are newly initialized because the shapes did not match:\n",
      "- classifier.weight: found shape torch.Size([1000, 768]) in the checkpoint and torch.Size([53, 768]) in the model instantiated\n",
      "- classifier.bias: found shape torch.Size([1000]) in the checkpoint and torch.Size([53]) in the model instantiated\n",
      "You should probably TRAIN this model on a down-stream task to be able to use it for predictions and inference.\n"
     ]
    }
   ],
   "source": [
    "from transformers import BeitForImageClassification\n",
    "\n",
    "model = BeitForImageClassification.from_pretrained\\\n",
    "        ('microsoft/beit-base-patch16-224',\n",
    "         id2label=id2label,\n",
    "         label2id=label2id,\n",
    "         ignore_mismatched_sizes=True,\n",
    "         num_labels = num_labels,\n",
    "         problem_type=\"multi_label_classification\",)\n",
    "\n",
    "model = model.to(device)"
   ]
  },
  {
   "cell_type": "code",
   "execution_count": 14,
   "id": "25c5e478",
   "metadata": {
    "execution": {
     "iopub.execute_input": "2023-11-30T06:11:31.351148Z",
     "iopub.status.busy": "2023-11-30T06:11:31.350829Z",
     "iopub.status.idle": "2023-11-30T06:11:31.355737Z",
     "shell.execute_reply": "2023-11-30T06:11:31.354906Z"
    },
    "id": "b8E83UPRX3d4",
    "papermill": {
     "duration": 0.020464,
     "end_time": "2023-11-30T06:11:31.357555",
     "exception": false,
     "start_time": "2023-11-30T06:11:31.337091",
     "status": "completed"
    },
    "tags": []
   },
   "outputs": [],
   "source": [
    "import torch\n",
    "def collate_fn(examples):\n",
    "    pixel_values = torch.stack([example[\"pixel_values\"] for example in examples])\n",
    "    # labels = torch.tensor([example[\"label\"] for example in examples])\n",
    "    labels = torch.tensor([example[\"label_one_hot\"] for example in examples])\n",
    "    return {\"pixel_values\": pixel_values, \"labels\": labels}"
   ]
  },
  {
   "cell_type": "code",
   "execution_count": 15,
   "id": "4a15ae0c",
   "metadata": {
    "execution": {
     "iopub.execute_input": "2023-11-30T06:11:31.383506Z",
     "iopub.status.busy": "2023-11-30T06:11:31.383196Z",
     "iopub.status.idle": "2023-11-30T06:11:34.799066Z",
     "shell.execute_reply": "2023-11-30T06:11:34.798189Z"
    },
    "papermill": {
     "duration": 3.431123,
     "end_time": "2023-11-30T06:11:34.801144",
     "exception": false,
     "start_time": "2023-11-30T06:11:31.370021",
     "status": "completed"
    },
    "tags": []
   },
   "outputs": [
    {
     "data": {
      "application/vnd.jupyter.widget-view+json": {
       "model_id": "a79dacc1998e46499ed144e251967845",
       "version_major": 2,
       "version_minor": 0
      },
      "text/plain": [
       "Downloading builder script:   0%|          | 0.00/2.06k [00:00<?, ?B/s]"
      ]
     },
     "metadata": {},
     "output_type": "display_data"
    }
   ],
   "source": [
    "from datasets import load_metric\n",
    "from sklearn.metrics import accuracy_score\n",
    "from sklearn.metrics import f1_score\n",
    "import numpy as np\n",
    "import evaluate\n",
    "import torch\n",
    "\n",
    "# def compute_metrics(eval_pred):\n",
    "#     predictions, labels = eval_pred\n",
    "#     predictions = np.argmax(predictions, axis=1)\n",
    "#     return dict(accuracy=accuracy_score(predictions, labels))\n",
    "\n",
    "# def compute_metrics(eval_preds):\n",
    "#     metric = evaluate.load(\"glue\", \"mrpc\")\n",
    "#     logits, labels = eval_preds\n",
    "#     predictions = np.argmax(logits, axis=-1)\n",
    "#     return metric.compute(predictions=predictions, references=labels)\n",
    "\n",
    "metric = load_metric(\"f1\", average=\"micro\")\n",
    "threshold = 0.7\n",
    "# def compute_metrics(eval_pred):\n",
    "#     predictions = np.argmax(eval_pred.predictions, axis=1)\n",
    "#     return metric.compute(predictions=predictions, references=eval_pred.label_ids)\n",
    "# def compute_metrics(eval_pred):\n",
    "#     logits, labels = eval_pred\n",
    "#     print(\"label\")\n",
    "#     print(labels.shape)\n",
    "#     print(logits.shape)\n",
    "# #     logits = eval_pred.predictions\n",
    "# #     labels = eval_pred.\n",
    "#     predictions = (logits > threshold).astype(int)  # 设置阈值为 0，转换为整数标签\n",
    "#     print(predictions.shape)\n",
    "#     return metric.compute(predictions=predictions, references=labels)\n",
    "\n",
    "def f1Sample(eval_pred):\n",
    "    logits, labels = eval_pred\n",
    "    predictions = np.where(logits > threshold, 1, 0)\n",
    "    return {'f1Sample': f1_score(y_true=labels, y_pred=predictions, average='samples')}\n",
    "\n",
    "def compute_metrics(eval_pred):\n",
    "    logits, labels = eval_pred\n",
    "    # 根据需要对 logits 进行转换，例如使用 sigmoid 来获取概率\n",
    "    predictions = np.where(logits > threshold, 1, 0)\n",
    "\n",
    "    # 计算指标\n",
    "    f1 = f1_score(labels, predictions, average='samples')  # 'samples' for multi-label\n",
    "    acc = accuracy_score(labels, predictions)\n",
    "\n",
    "    return {\n",
    "        'f1': f1,\n",
    "        'accuracy': acc\n",
    "    }"
   ]
  },
  {
   "cell_type": "code",
   "execution_count": 16,
   "id": "f3020c9e",
   "metadata": {
    "execution": {
     "iopub.execute_input": "2023-11-30T06:11:34.873532Z",
     "iopub.status.busy": "2023-11-30T06:11:34.872803Z",
     "iopub.status.idle": "2023-11-30T06:11:34.897790Z",
     "shell.execute_reply": "2023-11-30T06:11:34.896915Z"
    },
    "id": "7h6v_H9kX3d4",
    "papermill": {
     "duration": 0.040831,
     "end_time": "2023-11-30T06:11:34.899680",
     "exception": false,
     "start_time": "2023-11-30T06:11:34.858849",
     "status": "completed"
    },
    "tags": []
   },
   "outputs": [],
   "source": [
    "from transformers import TrainingArguments, Trainer\n",
    "\n",
    "metric_name = \"accuracy\"\n",
    "\n",
    "args = TrainingArguments(\n",
    "    f\"checkpoints\",\n",
    "    save_strategy=\"epoch\",\n",
    "    evaluation_strategy=\"epoch\",\n",
    "    learning_rate=2e-5,\n",
    "    per_device_train_batch_size=30, # 10\n",
    "    per_device_eval_batch_size=20, # 4\n",
    "    num_train_epochs=70, # 3\n",
    "    weight_decay=0.01,\n",
    "    load_best_model_at_end=True,\n",
    "#     metric_for_best_model=metric_name,\n",
    "    metric_for_best_model=\"f1Sample\",\n",
    "#     metric_for_best_model=\"compute_metrics\",\n",
    "    logging_dir='logs',\n",
    "    remove_unused_columns=False,\n",
    "    save_total_limit=5,\n",
    "    optim='adamw_torch',\n",
    "#     output_dir='pt_symbol',\n",
    ")"
   ]
  },
  {
   "cell_type": "code",
   "execution_count": 17,
   "id": "2ce71de6",
   "metadata": {
    "execution": {
     "iopub.execute_input": "2023-11-30T06:11:34.926081Z",
     "iopub.status.busy": "2023-11-30T06:11:34.925821Z",
     "iopub.status.idle": "2023-11-30T06:11:34.931315Z",
     "shell.execute_reply": "2023-11-30T06:11:34.930469Z"
    },
    "papermill": {
     "duration": 0.020868,
     "end_time": "2023-11-30T06:11:34.933134",
     "exception": false,
     "start_time": "2023-11-30T06:11:34.912266",
     "status": "completed"
    },
    "tags": []
   },
   "outputs": [],
   "source": [
    "import torch.nn as nn\n",
    "loss_function = nn.BCEWithLogitsLoss()\n",
    "class CustomTrainer(Trainer):\n",
    "    def compute_loss(self, model, inputs, return_outputs=False):\n",
    "        labels = inputs.get(\"labels\")\n",
    "        outputs = model(**inputs)\n",
    "        logits = outputs.logits\n",
    "        loss = loss_function(logits, labels)\n",
    "        return (loss, outputs) if return_outputs else loss"
   ]
  },
  {
   "cell_type": "code",
   "execution_count": 18,
   "id": "318816f3",
   "metadata": {
    "execution": {
     "iopub.execute_input": "2023-11-30T06:11:34.959568Z",
     "iopub.status.busy": "2023-11-30T06:11:34.959028Z",
     "iopub.status.idle": "2023-11-30T06:11:35.542821Z",
     "shell.execute_reply": "2023-11-30T06:11:35.541861Z"
    },
    "id": "wCOevTqbX3d4",
    "papermill": {
     "duration": 0.599434,
     "end_time": "2023-11-30T06:11:35.545165",
     "exception": false,
     "start_time": "2023-11-30T06:11:34.945731",
     "status": "completed"
    },
    "tags": []
   },
   "outputs": [],
   "source": [
    "import torch\n",
    "\n",
    "trainer = CustomTrainer(\n",
    "    model,\n",
    "    args,\n",
    "    train_dataset=train_set,\n",
    "    eval_dataset=val_set,\n",
    "    data_collator=collate_fn,\n",
    "#     compute_metrics=compute_metrics,\n",
    "    compute_metrics=f1Sample,\n",
    "    tokenizer=processor,\n",
    ")"
   ]
  },
  {
   "cell_type": "code",
   "execution_count": 19,
   "id": "3c360dbf",
   "metadata": {
    "execution": {
     "iopub.execute_input": "2023-11-30T06:11:35.572308Z",
     "iopub.status.busy": "2023-11-30T06:11:35.572015Z",
     "iopub.status.idle": "2023-11-30T06:11:35.576468Z",
     "shell.execute_reply": "2023-11-30T06:11:35.575615Z"
    },
    "id": "P49LvwB3X3d4",
    "papermill": {
     "duration": 0.020202,
     "end_time": "2023-11-30T06:11:35.578529",
     "exception": false,
     "start_time": "2023-11-30T06:11:35.558327",
     "status": "completed"
    },
    "tags": []
   },
   "outputs": [
    {
     "name": "stdout",
     "output_type": "stream",
     "text": [
      "<class 'transformers.models.beit.modeling_beit.BeitForImageClassification'>\n"
     ]
    }
   ],
   "source": [
    "print(type(model))"
   ]
  },
  {
   "cell_type": "markdown",
   "id": "6e5df93e",
   "metadata": {
    "id": "FVTlewZSX3d5",
    "papermill": {
     "duration": 0.01262,
     "end_time": "2023-11-30T06:11:35.603880",
     "exception": false,
     "start_time": "2023-11-30T06:11:35.591260",
     "status": "completed"
    },
    "tags": []
   },
   "source": [
    "## Train model"
   ]
  },
  {
   "cell_type": "code",
   "execution_count": 20,
   "id": "e0b69bd2",
   "metadata": {
    "execution": {
     "iopub.execute_input": "2023-11-30T06:11:35.630825Z",
     "iopub.status.busy": "2023-11-30T06:11:35.630553Z",
     "iopub.status.idle": "2023-11-30T06:11:37.764852Z",
     "shell.execute_reply": "2023-11-30T06:11:37.763937Z"
    },
    "papermill": {
     "duration": 2.150358,
     "end_time": "2023-11-30T06:11:37.767070",
     "exception": false,
     "start_time": "2023-11-30T06:11:35.616712",
     "status": "completed"
    },
    "tags": []
   },
   "outputs": [
    {
     "name": "stderr",
     "output_type": "stream",
     "text": [
      "\u001b[34m\u001b[1mwandb\u001b[0m: W&B API key is configured. Use \u001b[1m`wandb login --relogin`\u001b[0m to force relogin\n",
      "\u001b[34m\u001b[1mwandb\u001b[0m: \u001b[33mWARNING\u001b[0m If you're specifying your api key in code, ensure this code is not shared publicly.\n",
      "\u001b[34m\u001b[1mwandb\u001b[0m: \u001b[33mWARNING\u001b[0m Consider setting the WANDB_API_KEY environment variable, or running `wandb login` from the command line.\n",
      "\u001b[34m\u001b[1mwandb\u001b[0m: Appending key for api.wandb.ai to your netrc file: /root/.netrc\n"
     ]
    },
    {
     "data": {
      "text/plain": [
       "True"
      ]
     },
     "execution_count": 20,
     "metadata": {},
     "output_type": "execute_result"
    }
   ],
   "source": [
    "import wandb\n",
    "from wandb.keras import WandbCallback\n",
    "\n",
    "from kaggle_secrets import UserSecretsClient\n",
    "\n",
    "user_secrets = UserSecretsClient()\n",
    "\n",
    "# I have saved my API token with \"wandb_api\" as Label. \n",
    "# If you use some other Label make sure to change the same below. \n",
    "wandb_api = user_secrets.get_secret(\"wandb_api\") \n",
    "\n",
    "wandb.login(key=wandb_api)"
   ]
  },
  {
   "cell_type": "code",
   "execution_count": 21,
   "id": "d54919db",
   "metadata": {
    "execution": {
     "iopub.execute_input": "2023-11-30T06:11:37.796204Z",
     "iopub.status.busy": "2023-11-30T06:11:37.795897Z",
     "iopub.status.idle": "2023-11-30T12:35:35.814319Z",
     "shell.execute_reply": "2023-11-30T12:35:35.813425Z"
    },
    "id": "hmuzxwlcX3d5",
    "outputId": "71499808-c612-4d31-c619-c7d69123b921",
    "papermill": {
     "duration": 23038.035393,
     "end_time": "2023-11-30T12:35:35.816398",
     "exception": false,
     "start_time": "2023-11-30T06:11:37.781005",
     "status": "completed"
    },
    "tags": []
   },
   "outputs": [
    {
     "name": "stderr",
     "output_type": "stream",
     "text": [
      "\u001b[34m\u001b[1mwandb\u001b[0m: Currently logged in as: \u001b[33mgaoshichengleo\u001b[0m. Use \u001b[1m`wandb login --relogin`\u001b[0m to force relogin\n",
      "\u001b[34m\u001b[1mwandb\u001b[0m: Tracking run with wandb version 0.16.0\n",
      "\u001b[34m\u001b[1mwandb\u001b[0m: Run data is saved locally in \u001b[35m\u001b[1m/kaggle/working/wandb/run-20231130_061138-xbqzisf7\u001b[0m\n",
      "\u001b[34m\u001b[1mwandb\u001b[0m: Run \u001b[1m`wandb offline`\u001b[0m to turn off syncing.\n",
      "\u001b[34m\u001b[1mwandb\u001b[0m: Syncing run \u001b[33mapricot-night-52\u001b[0m\n",
      "\u001b[34m\u001b[1mwandb\u001b[0m: ⭐️ View project at \u001b[34m\u001b[4mhttps://wandb.ai/gaoshichengleo/huggingface\u001b[0m\n",
      "\u001b[34m\u001b[1mwandb\u001b[0m: 🚀 View run at \u001b[34m\u001b[4mhttps://wandb.ai/gaoshichengleo/huggingface/runs/xbqzisf7\u001b[0m\n"
     ]
    },
    {
     "data": {
      "text/html": [
       "\n",
       "    <div>\n",
       "      \n",
       "      <progress value='16380' max='16380' style='width:300px; height:20px; vertical-align: middle;'></progress>\n",
       "      [16380/16380 6:23:19, Epoch 70/70]\n",
       "    </div>\n",
       "    <table border=\"1\" class=\"dataframe\">\n",
       "  <thead>\n",
       " <tr style=\"text-align: left;\">\n",
       "      <th>Epoch</th>\n",
       "      <th>Training Loss</th>\n",
       "      <th>Validation Loss</th>\n",
       "      <th>F1sample</th>\n",
       "    </tr>\n",
       "  </thead>\n",
       "  <tbody>\n",
       "    <tr>\n",
       "      <td>1</td>\n",
       "      <td>No log</td>\n",
       "      <td>0.121812</td>\n",
       "      <td>0.000000</td>\n",
       "    </tr>\n",
       "    <tr>\n",
       "      <td>2</td>\n",
       "      <td>No log</td>\n",
       "      <td>0.118604</td>\n",
       "      <td>0.006490</td>\n",
       "    </tr>\n",
       "    <tr>\n",
       "      <td>3</td>\n",
       "      <td>0.133800</td>\n",
       "      <td>0.116167</td>\n",
       "      <td>0.010626</td>\n",
       "    </tr>\n",
       "    <tr>\n",
       "      <td>4</td>\n",
       "      <td>0.133800</td>\n",
       "      <td>0.114063</td>\n",
       "      <td>0.026316</td>\n",
       "    </tr>\n",
       "    <tr>\n",
       "      <td>5</td>\n",
       "      <td>0.114400</td>\n",
       "      <td>0.113914</td>\n",
       "      <td>0.038240</td>\n",
       "    </tr>\n",
       "    <tr>\n",
       "      <td>6</td>\n",
       "      <td>0.114400</td>\n",
       "      <td>0.113727</td>\n",
       "      <td>0.030609</td>\n",
       "    </tr>\n",
       "    <tr>\n",
       "      <td>7</td>\n",
       "      <td>0.105600</td>\n",
       "      <td>0.112919</td>\n",
       "      <td>0.054158</td>\n",
       "    </tr>\n",
       "    <tr>\n",
       "      <td>8</td>\n",
       "      <td>0.105600</td>\n",
       "      <td>0.113350</td>\n",
       "      <td>0.074226</td>\n",
       "    </tr>\n",
       "    <tr>\n",
       "      <td>9</td>\n",
       "      <td>0.094200</td>\n",
       "      <td>0.113694</td>\n",
       "      <td>0.077906</td>\n",
       "    </tr>\n",
       "    <tr>\n",
       "      <td>10</td>\n",
       "      <td>0.094200</td>\n",
       "      <td>0.114714</td>\n",
       "      <td>0.087919</td>\n",
       "    </tr>\n",
       "    <tr>\n",
       "      <td>11</td>\n",
       "      <td>0.081000</td>\n",
       "      <td>0.116005</td>\n",
       "      <td>0.096049</td>\n",
       "    </tr>\n",
       "    <tr>\n",
       "      <td>12</td>\n",
       "      <td>0.081000</td>\n",
       "      <td>0.117351</td>\n",
       "      <td>0.099857</td>\n",
       "    </tr>\n",
       "    <tr>\n",
       "      <td>13</td>\n",
       "      <td>0.068500</td>\n",
       "      <td>0.119214</td>\n",
       "      <td>0.104151</td>\n",
       "    </tr>\n",
       "    <tr>\n",
       "      <td>14</td>\n",
       "      <td>0.068500</td>\n",
       "      <td>0.120695</td>\n",
       "      <td>0.108030</td>\n",
       "    </tr>\n",
       "    <tr>\n",
       "      <td>15</td>\n",
       "      <td>0.057100</td>\n",
       "      <td>0.122451</td>\n",
       "      <td>0.123078</td>\n",
       "    </tr>\n",
       "    <tr>\n",
       "      <td>16</td>\n",
       "      <td>0.057100</td>\n",
       "      <td>0.125296</td>\n",
       "      <td>0.118771</td>\n",
       "    </tr>\n",
       "    <tr>\n",
       "      <td>17</td>\n",
       "      <td>0.057100</td>\n",
       "      <td>0.127322</td>\n",
       "      <td>0.123534</td>\n",
       "    </tr>\n",
       "    <tr>\n",
       "      <td>18</td>\n",
       "      <td>0.047100</td>\n",
       "      <td>0.129454</td>\n",
       "      <td>0.125374</td>\n",
       "    </tr>\n",
       "    <tr>\n",
       "      <td>19</td>\n",
       "      <td>0.047100</td>\n",
       "      <td>0.131842</td>\n",
       "      <td>0.128077</td>\n",
       "    </tr>\n",
       "    <tr>\n",
       "      <td>20</td>\n",
       "      <td>0.039200</td>\n",
       "      <td>0.134471</td>\n",
       "      <td>0.138582</td>\n",
       "    </tr>\n",
       "    <tr>\n",
       "      <td>21</td>\n",
       "      <td>0.039200</td>\n",
       "      <td>0.136290</td>\n",
       "      <td>0.135031</td>\n",
       "    </tr>\n",
       "    <tr>\n",
       "      <td>22</td>\n",
       "      <td>0.032900</td>\n",
       "      <td>0.139291</td>\n",
       "      <td>0.135416</td>\n",
       "    </tr>\n",
       "    <tr>\n",
       "      <td>23</td>\n",
       "      <td>0.032900</td>\n",
       "      <td>0.141474</td>\n",
       "      <td>0.145999</td>\n",
       "    </tr>\n",
       "    <tr>\n",
       "      <td>24</td>\n",
       "      <td>0.027400</td>\n",
       "      <td>0.144021</td>\n",
       "      <td>0.144929</td>\n",
       "    </tr>\n",
       "    <tr>\n",
       "      <td>25</td>\n",
       "      <td>0.027400</td>\n",
       "      <td>0.146404</td>\n",
       "      <td>0.146284</td>\n",
       "    </tr>\n",
       "    <tr>\n",
       "      <td>26</td>\n",
       "      <td>0.023900</td>\n",
       "      <td>0.149465</td>\n",
       "      <td>0.144230</td>\n",
       "    </tr>\n",
       "    <tr>\n",
       "      <td>27</td>\n",
       "      <td>0.023900</td>\n",
       "      <td>0.150012</td>\n",
       "      <td>0.145999</td>\n",
       "    </tr>\n",
       "    <tr>\n",
       "      <td>28</td>\n",
       "      <td>0.020600</td>\n",
       "      <td>0.154305</td>\n",
       "      <td>0.142020</td>\n",
       "    </tr>\n",
       "    <tr>\n",
       "      <td>29</td>\n",
       "      <td>0.020600</td>\n",
       "      <td>0.155216</td>\n",
       "      <td>0.142875</td>\n",
       "    </tr>\n",
       "    <tr>\n",
       "      <td>30</td>\n",
       "      <td>0.018200</td>\n",
       "      <td>0.156977</td>\n",
       "      <td>0.141364</td>\n",
       "    </tr>\n",
       "    <tr>\n",
       "      <td>31</td>\n",
       "      <td>0.018200</td>\n",
       "      <td>0.159751</td>\n",
       "      <td>0.152903</td>\n",
       "    </tr>\n",
       "    <tr>\n",
       "      <td>32</td>\n",
       "      <td>0.018200</td>\n",
       "      <td>0.161247</td>\n",
       "      <td>0.136999</td>\n",
       "    </tr>\n",
       "    <tr>\n",
       "      <td>33</td>\n",
       "      <td>0.016500</td>\n",
       "      <td>0.161452</td>\n",
       "      <td>0.144860</td>\n",
       "    </tr>\n",
       "    <tr>\n",
       "      <td>34</td>\n",
       "      <td>0.016500</td>\n",
       "      <td>0.166695</td>\n",
       "      <td>0.142790</td>\n",
       "    </tr>\n",
       "    <tr>\n",
       "      <td>35</td>\n",
       "      <td>0.014400</td>\n",
       "      <td>0.166209</td>\n",
       "      <td>0.151876</td>\n",
       "    </tr>\n",
       "    <tr>\n",
       "      <td>36</td>\n",
       "      <td>0.014400</td>\n",
       "      <td>0.167310</td>\n",
       "      <td>0.145630</td>\n",
       "    </tr>\n",
       "    <tr>\n",
       "      <td>37</td>\n",
       "      <td>0.013400</td>\n",
       "      <td>0.168946</td>\n",
       "      <td>0.156283</td>\n",
       "    </tr>\n",
       "    <tr>\n",
       "      <td>38</td>\n",
       "      <td>0.013400</td>\n",
       "      <td>0.171396</td>\n",
       "      <td>0.148982</td>\n",
       "    </tr>\n",
       "    <tr>\n",
       "      <td>39</td>\n",
       "      <td>0.012300</td>\n",
       "      <td>0.172247</td>\n",
       "      <td>0.157724</td>\n",
       "    </tr>\n",
       "    <tr>\n",
       "      <td>40</td>\n",
       "      <td>0.012300</td>\n",
       "      <td>0.174671</td>\n",
       "      <td>0.151564</td>\n",
       "    </tr>\n",
       "    <tr>\n",
       "      <td>41</td>\n",
       "      <td>0.011500</td>\n",
       "      <td>0.176317</td>\n",
       "      <td>0.149151</td>\n",
       "    </tr>\n",
       "    <tr>\n",
       "      <td>42</td>\n",
       "      <td>0.011500</td>\n",
       "      <td>0.178096</td>\n",
       "      <td>0.154044</td>\n",
       "    </tr>\n",
       "    <tr>\n",
       "      <td>43</td>\n",
       "      <td>0.010300</td>\n",
       "      <td>0.179974</td>\n",
       "      <td>0.145274</td>\n",
       "    </tr>\n",
       "    <tr>\n",
       "      <td>44</td>\n",
       "      <td>0.010300</td>\n",
       "      <td>0.182271</td>\n",
       "      <td>0.151409</td>\n",
       "    </tr>\n",
       "    <tr>\n",
       "      <td>45</td>\n",
       "      <td>0.009600</td>\n",
       "      <td>0.181336</td>\n",
       "      <td>0.149068</td>\n",
       "    </tr>\n",
       "    <tr>\n",
       "      <td>46</td>\n",
       "      <td>0.009600</td>\n",
       "      <td>0.184894</td>\n",
       "      <td>0.143591</td>\n",
       "    </tr>\n",
       "    <tr>\n",
       "      <td>47</td>\n",
       "      <td>0.009600</td>\n",
       "      <td>0.186570</td>\n",
       "      <td>0.149123</td>\n",
       "    </tr>\n",
       "    <tr>\n",
       "      <td>48</td>\n",
       "      <td>0.009300</td>\n",
       "      <td>0.187725</td>\n",
       "      <td>0.151792</td>\n",
       "    </tr>\n",
       "    <tr>\n",
       "      <td>49</td>\n",
       "      <td>0.009300</td>\n",
       "      <td>0.187765</td>\n",
       "      <td>0.146472</td>\n",
       "    </tr>\n",
       "    <tr>\n",
       "      <td>50</td>\n",
       "      <td>0.008600</td>\n",
       "      <td>0.187735</td>\n",
       "      <td>0.150922</td>\n",
       "    </tr>\n",
       "    <tr>\n",
       "      <td>51</td>\n",
       "      <td>0.008600</td>\n",
       "      <td>0.189865</td>\n",
       "      <td>0.147285</td>\n",
       "    </tr>\n",
       "    <tr>\n",
       "      <td>52</td>\n",
       "      <td>0.008200</td>\n",
       "      <td>0.189228</td>\n",
       "      <td>0.149481</td>\n",
       "    </tr>\n",
       "    <tr>\n",
       "      <td>53</td>\n",
       "      <td>0.008200</td>\n",
       "      <td>0.192551</td>\n",
       "      <td>0.145190</td>\n",
       "    </tr>\n",
       "    <tr>\n",
       "      <td>54</td>\n",
       "      <td>0.007800</td>\n",
       "      <td>0.193114</td>\n",
       "      <td>0.140636</td>\n",
       "    </tr>\n",
       "    <tr>\n",
       "      <td>55</td>\n",
       "      <td>0.007800</td>\n",
       "      <td>0.193226</td>\n",
       "      <td>0.152120</td>\n",
       "    </tr>\n",
       "    <tr>\n",
       "      <td>56</td>\n",
       "      <td>0.007500</td>\n",
       "      <td>0.192695</td>\n",
       "      <td>0.150407</td>\n",
       "    </tr>\n",
       "    <tr>\n",
       "      <td>57</td>\n",
       "      <td>0.007500</td>\n",
       "      <td>0.194525</td>\n",
       "      <td>0.145942</td>\n",
       "    </tr>\n",
       "    <tr>\n",
       "      <td>58</td>\n",
       "      <td>0.007100</td>\n",
       "      <td>0.194684</td>\n",
       "      <td>0.150521</td>\n",
       "    </tr>\n",
       "    <tr>\n",
       "      <td>59</td>\n",
       "      <td>0.007100</td>\n",
       "      <td>0.194118</td>\n",
       "      <td>0.153074</td>\n",
       "    </tr>\n",
       "    <tr>\n",
       "      <td>60</td>\n",
       "      <td>0.006900</td>\n",
       "      <td>0.197270</td>\n",
       "      <td>0.145930</td>\n",
       "    </tr>\n",
       "    <tr>\n",
       "      <td>61</td>\n",
       "      <td>0.006900</td>\n",
       "      <td>0.196262</td>\n",
       "      <td>0.149253</td>\n",
       "    </tr>\n",
       "    <tr>\n",
       "      <td>62</td>\n",
       "      <td>0.006700</td>\n",
       "      <td>0.197081</td>\n",
       "      <td>0.148069</td>\n",
       "    </tr>\n",
       "    <tr>\n",
       "      <td>63</td>\n",
       "      <td>0.006700</td>\n",
       "      <td>0.196610</td>\n",
       "      <td>0.147487</td>\n",
       "    </tr>\n",
       "    <tr>\n",
       "      <td>64</td>\n",
       "      <td>0.006700</td>\n",
       "      <td>0.198378</td>\n",
       "      <td>0.145973</td>\n",
       "    </tr>\n",
       "    <tr>\n",
       "      <td>65</td>\n",
       "      <td>0.006300</td>\n",
       "      <td>0.197607</td>\n",
       "      <td>0.149056</td>\n",
       "    </tr>\n",
       "    <tr>\n",
       "      <td>66</td>\n",
       "      <td>0.006300</td>\n",
       "      <td>0.198048</td>\n",
       "      <td>0.147970</td>\n",
       "    </tr>\n",
       "    <tr>\n",
       "      <td>67</td>\n",
       "      <td>0.006100</td>\n",
       "      <td>0.199739</td>\n",
       "      <td>0.146286</td>\n",
       "    </tr>\n",
       "    <tr>\n",
       "      <td>68</td>\n",
       "      <td>0.006100</td>\n",
       "      <td>0.199016</td>\n",
       "      <td>0.150125</td>\n",
       "    </tr>\n",
       "    <tr>\n",
       "      <td>69</td>\n",
       "      <td>0.006000</td>\n",
       "      <td>0.199022</td>\n",
       "      <td>0.148768</td>\n",
       "    </tr>\n",
       "    <tr>\n",
       "      <td>70</td>\n",
       "      <td>0.006000</td>\n",
       "      <td>0.199258</td>\n",
       "      <td>0.147800</td>\n",
       "    </tr>\n",
       "  </tbody>\n",
       "</table><p>"
      ],
      "text/plain": [
       "<IPython.core.display.HTML object>"
      ]
     },
     "metadata": {},
     "output_type": "display_data"
    }
   ],
   "source": [
    "train_results = trainer.train()"
   ]
  },
  {
   "cell_type": "code",
   "execution_count": 22,
   "id": "508d39af",
   "metadata": {
    "execution": {
     "iopub.execute_input": "2023-11-30T12:35:35.847118Z",
     "iopub.status.busy": "2023-11-30T12:35:35.846194Z",
     "iopub.status.idle": "2023-11-30T12:35:35.853565Z",
     "shell.execute_reply": "2023-11-30T12:35:35.852650Z"
    },
    "id": "79pPbTrPX3d5",
    "papermill": {
     "duration": 0.02422,
     "end_time": "2023-11-30T12:35:35.855358",
     "exception": false,
     "start_time": "2023-11-30T12:35:35.831138",
     "status": "completed"
    },
    "tags": []
   },
   "outputs": [
    {
     "name": "stdout",
     "output_type": "stream",
     "text": [
      "***** train metrics *****\n",
      "  epoch                    =          70.0\n",
      "  total_flos               = 35419941595GF\n",
      "  train_loss               =        0.0317\n",
      "  train_runtime            =    6:23:57.68\n",
      "  train_samples_per_second =        21.303\n",
      "  train_steps_per_second   =         0.711\n"
     ]
    }
   ],
   "source": [
    "trainer.log_metrics(\"train\", train_results.metrics)"
   ]
  },
  {
   "cell_type": "code",
   "execution_count": 23,
   "id": "0fb9da1b",
   "metadata": {
    "execution": {
     "iopub.execute_input": "2023-11-30T12:35:35.885236Z",
     "iopub.status.busy": "2023-11-30T12:35:35.884602Z",
     "iopub.status.idle": "2023-11-30T12:37:06.766886Z",
     "shell.execute_reply": "2023-11-30T12:37:06.765805Z"
    },
    "id": "FPvZELYFX3d5",
    "papermill": {
     "duration": 90.899686,
     "end_time": "2023-11-30T12:37:06.769300",
     "exception": false,
     "start_time": "2023-11-30T12:35:35.869614",
     "status": "completed"
    },
    "tags": []
   },
   "outputs": [
    {
     "data": {
      "text/html": [],
      "text/plain": [
       "<IPython.core.display.HTML object>"
      ]
     },
     "metadata": {},
     "output_type": "display_data"
    },
    {
     "name": "stderr",
     "output_type": "stream",
     "text": [
      "/opt/conda/lib/python3.10/site-packages/PIL/Image.py:3176: DecompressionBombWarning: Image size (141750000 pixels) exceeds limit of 89478485 pixels, could be decompression bomb DOS attack.\n",
      "  warnings.warn(\n"
     ]
    }
   ],
   "source": [
    "test_outputs = trainer.predict(test_set)"
   ]
  },
  {
   "cell_type": "code",
   "execution_count": 24,
   "id": "1260890a",
   "metadata": {
    "execution": {
     "iopub.execute_input": "2023-11-30T12:37:06.801163Z",
     "iopub.status.busy": "2023-11-30T12:37:06.800424Z",
     "iopub.status.idle": "2023-11-30T12:37:06.805760Z",
     "shell.execute_reply": "2023-11-30T12:37:06.804937Z"
    },
    "papermill": {
     "duration": 0.023989,
     "end_time": "2023-11-30T12:37:06.808052",
     "exception": false,
     "start_time": "2023-11-30T12:37:06.784063",
     "status": "completed"
    },
    "tags": []
   },
   "outputs": [
    {
     "name": "stdout",
     "output_type": "stream",
     "text": [
      "<class 'datasets.arrow_dataset.Dataset'>\n"
     ]
    }
   ],
   "source": [
    "print(type(test_set))"
   ]
  },
  {
   "cell_type": "code",
   "execution_count": 25,
   "id": "3718e78a",
   "metadata": {
    "execution": {
     "iopub.execute_input": "2023-11-30T12:37:06.838588Z",
     "iopub.status.busy": "2023-11-30T12:37:06.838294Z",
     "iopub.status.idle": "2023-11-30T12:37:06.858803Z",
     "shell.execute_reply": "2023-11-30T12:37:06.857968Z"
    },
    "id": "Sx4l83mFX3d5",
    "papermill": {
     "duration": 0.037707,
     "end_time": "2023-11-30T12:37:06.860595",
     "exception": false,
     "start_time": "2023-11-30T12:37:06.822888",
     "status": "completed"
    },
    "tags": []
   },
   "outputs": [
    {
     "name": "stdout",
     "output_type": "stream",
     "text": [
      "f1_score 0.14431913116123643\n"
     ]
    }
   ],
   "source": [
    "from sklearn.metrics import confusion_matrix, ConfusionMatrixDisplay, accuracy_score, precision_score, recall_score, f1_score\n",
    "\n",
    "y_true = test_outputs.label_ids\n",
    "# y_pred = test_outputs.predictions.argmax(1)\n",
    "y_pred = np.where(test_outputs.predictions > threshold, 1, 0)\n",
    "\n",
    "# print(\"acurracy\", accuracy_score(y_true, y_pred))\n",
    "# print(\"precision\", precision_score(y_true, y_pred, average='macro'))\n",
    "# print(\"recall\", recall_score(y_true, y_pred, average='macro'))\n",
    "print(\"f1_score\", f1_score(y_true, y_pred, average='samples'))\n",
    "\n",
    "\n",
    "\n",
    "\n"
   ]
  },
  {
   "cell_type": "markdown",
   "id": "3818b463",
   "metadata": {
    "papermill": {
     "duration": 0.014391,
     "end_time": "2023-11-30T12:37:06.890299",
     "exception": false,
     "start_time": "2023-11-30T12:37:06.875908",
     "status": "completed"
    },
    "tags": []
   },
   "source": [
    "## Save the model"
   ]
  },
  {
   "cell_type": "code",
   "execution_count": 26,
   "id": "d10701d1",
   "metadata": {
    "execution": {
     "iopub.execute_input": "2023-11-30T12:37:06.920834Z",
     "iopub.status.busy": "2023-11-30T12:37:06.920518Z",
     "iopub.status.idle": "2023-11-30T12:37:07.548211Z",
     "shell.execute_reply": "2023-11-30T12:37:07.547413Z"
    },
    "papermill": {
     "duration": 0.645497,
     "end_time": "2023-11-30T12:37:07.550407",
     "exception": false,
     "start_time": "2023-11-30T12:37:06.904910",
     "status": "completed"
    },
    "tags": []
   },
   "outputs": [],
   "source": [
    "pt_save_directory = \"./pt_save_pretrained\"\n",
    "processor.save_pretrained(pt_save_directory)\n",
    "model.save_pretrained(pt_save_directory)"
   ]
  },
  {
   "cell_type": "code",
   "execution_count": 27,
   "id": "f48fca5d",
   "metadata": {
    "execution": {
     "iopub.execute_input": "2023-11-30T12:37:07.582252Z",
     "iopub.status.busy": "2023-11-30T12:37:07.581932Z",
     "iopub.status.idle": "2023-11-30T12:37:08.761095Z",
     "shell.execute_reply": "2023-11-30T12:37:08.760056Z"
    },
    "papermill": {
     "duration": 1.19722,
     "end_time": "2023-11-30T12:37:08.763133",
     "exception": false,
     "start_time": "2023-11-30T12:37:07.565913",
     "status": "completed"
    },
    "tags": []
   },
   "outputs": [
    {
     "name": "stdout",
     "output_type": "stream",
     "text": [
      "JPEG\n",
      "torch.Size([1, 53])\n",
      "['natural']\n"
     ]
    }
   ],
   "source": [
    "from transformers import AutoModelForSequenceClassification, BeitForImageClassification, AutoImageProcessor\n",
    "from PIL import Image\n",
    "\n",
    "pt_model = BeitForImageClassification.from_pretrained(\"./pt_save_pretrained\")\n",
    "pt_processor = AutoImageProcessor.from_pretrained(\"./pt_save_pretrained\")\n",
    "\n",
    "test_input_img_path = \"/kaggle/input/csci-567/\" + \"7/62717.jpg\"\n",
    "\n",
    " \n",
    "test_input_img_PIL = Image.open(test_input_img_path)\n",
    "print(test_input_img_PIL.format)\n",
    "\n",
    "test_input_img = pt_processor(test_input_img_PIL, return_tensors=\"pt\")\n",
    "with torch.no_grad():\n",
    "    logits = pt_model(**test_input_img).logits\n",
    "    \n",
    "# predicted_label = logits.argmax(-1).item()\n",
    "print(logits.shape)\n",
    "logits = logits.view(-1)\n",
    "\n",
    "\n",
    "predicted_labels_one_hot = np.where(logits > threshold, 1, 0)\n",
    "\n",
    "\n",
    "\n",
    "predicted_labels = []\n",
    "for idx in range(num_labels):\n",
    "    if predicted_labels_one_hot[idx] == 1:\n",
    "        predicted_labels.append(id2label[idx])\n",
    "print(predicted_labels)"
   ]
  },
  {
   "cell_type": "code",
   "execution_count": 28,
   "id": "7131ca03",
   "metadata": {
    "execution": {
     "iopub.execute_input": "2023-11-30T12:37:08.795766Z",
     "iopub.status.busy": "2023-11-30T12:37:08.795399Z",
     "iopub.status.idle": "2023-11-30T12:37:08.799726Z",
     "shell.execute_reply": "2023-11-30T12:37:08.798940Z"
    },
    "papermill": {
     "duration": 0.021975,
     "end_time": "2023-11-30T12:37:08.801532",
     "exception": false,
     "start_time": "2023-11-30T12:37:08.779557",
     "status": "completed"
    },
    "tags": []
   },
   "outputs": [],
   "source": [
    "# from transformers import AutoImageProcessor, BeitForImageClassification\n",
    "# import torch\n",
    "# from datasets import load_dataset\n",
    "\n",
    "# dataset = load_dataset(\"huggingface/cats-image\")\n",
    "# image = dataset[\"test\"][\"image\"][0]\n",
    "\n",
    "# image_processor = AutoImageProcessor.from_pretrained(\"microsoft/beit-base-patch16-224\")\n",
    "# model = BeitForImageClassification.from_pretrained(\"microsoft/beit-base-patch16-224\")\n",
    "\n",
    "# inputs = image_processor(image, return_tensors=\"pt\")\n",
    "\n",
    "# with torch.no_grad():\n",
    "#     logits = model(**inputs).logits\n",
    "\n",
    "# # model predicts one of the 1000 ImageNet classes\n",
    "# predicted_label = logits.argmax(-1).item()\n",
    "# print(model.config.id2label[predicted_label])"
   ]
  },
  {
   "cell_type": "code",
   "execution_count": 29,
   "id": "15e480fe",
   "metadata": {
    "execution": {
     "iopub.execute_input": "2023-11-30T12:37:08.832109Z",
     "iopub.status.busy": "2023-11-30T12:37:08.831837Z",
     "iopub.status.idle": "2023-11-30T12:37:08.836149Z",
     "shell.execute_reply": "2023-11-30T12:37:08.835266Z"
    },
    "papermill": {
     "duration": 0.021684,
     "end_time": "2023-11-30T12:37:08.837950",
     "exception": false,
     "start_time": "2023-11-30T12:37:08.816266",
     "status": "completed"
    },
    "tags": []
   },
   "outputs": [],
   "source": [
    "# labels = test_set.features['label'].names\n",
    "# labels = test_set.features['label_id']\n",
    "# cm = confusion_matrix(y_true, y_pred)\n",
    "# disp = ConfusionMatrixDisplay(confusion_matrix=cm, display_labels=labels)\n",
    "# # disp.plot()\n",
    "# # disp.plot(xticks_rotation=45)\n",
    "# print(test_outputs.predictions.shape)"
   ]
  },
  {
   "cell_type": "code",
   "execution_count": 30,
   "id": "8ce94137",
   "metadata": {
    "execution": {
     "iopub.execute_input": "2023-11-30T12:37:08.868818Z",
     "iopub.status.busy": "2023-11-30T12:37:08.868539Z",
     "iopub.status.idle": "2023-11-30T12:37:09.023992Z",
     "shell.execute_reply": "2023-11-30T12:37:09.023156Z"
    },
    "papermill": {
     "duration": 0.173185,
     "end_time": "2023-11-30T12:37:09.025914",
     "exception": false,
     "start_time": "2023-11-30T12:37:08.852729",
     "status": "completed"
    },
    "tags": []
   },
   "outputs": [
    {
     "name": "stdout",
     "output_type": "stream",
     "text": [
      "<class 'numpy.ndarray'>\n",
      "<class 'numpy.ndarray'>\n",
      "acurracy 0.966034506422522\n",
      "precision 0.6975310047789225\n",
      "recall 0.5567589423499266\n",
      "f1_score 0.5842249725368005\n"
     ]
    }
   ],
   "source": [
    "print(type(y_true))\n",
    "print(type(y_pred))\n",
    "y_true = y_true.reshape(-1)\n",
    "y_pred = y_pred.reshape(-1)\n",
    "print(\"acurracy\", accuracy_score(y_true, y_pred))\n",
    "print(\"precision\", precision_score(y_true, y_pred, average='macro'))\n",
    "print(\"recall\", recall_score(y_true, y_pred, average='macro'))\n",
    "print(\"f1_score\", f1_score(y_true, y_pred, average='macro'))"
   ]
  }
 ],
 "metadata": {
  "kaggle": {
   "accelerator": "gpu",
   "dataSources": [
    {
     "datasetId": 3937232,
     "sourceId": 6849087,
     "sourceType": "datasetVersion"
    },
    {
     "datasetId": 3939161,
     "sourceId": 6853108,
     "sourceType": "datasetVersion"
    },
    {
     "datasetId": 4043608,
     "sourceId": 7030346,
     "sourceType": "datasetVersion"
    }
   ],
   "isGpuEnabled": true,
   "isInternetEnabled": true,
   "language": "python",
   "sourceType": "notebook"
  },
  "kernelspec": {
   "display_name": "Python 3",
   "language": "python",
   "name": "python3"
  },
  "language_info": {
   "codemirror_mode": {
    "name": "ipython",
    "version": 3
   },
   "file_extension": ".py",
   "mimetype": "text/x-python",
   "name": "python",
   "nbconvert_exporter": "python",
   "pygments_lexer": "ipython3",
   "version": "3.10.12"
  },
  "papermill": {
   "default_parameters": {},
   "duration": 23240.214044,
   "end_time": "2023-11-30T12:37:11.910947",
   "environment_variables": {},
   "exception": null,
   "input_path": "__notebook__.ipynb",
   "output_path": "__notebook__.ipynb",
   "parameters": {},
   "start_time": "2023-11-30T06:09:51.696903",
   "version": "2.4.0"
  },
  "widgets": {
   "application/vnd.jupyter.widget-state+json": {
    "state": {
     "023c52005ae34a30b698fe0567e188f5": {
      "model_module": "@jupyter-widgets/controls",
      "model_module_version": "1.5.0",
      "model_name": "HTMLModel",
      "state": {
       "_dom_classes": [],
       "_model_module": "@jupyter-widgets/controls",
       "_model_module_version": "1.5.0",
       "_model_name": "HTMLModel",
       "_view_count": null,
       "_view_module": "@jupyter-widgets/controls",
       "_view_module_version": "1.5.0",
       "_view_name": "HTMLView",
       "description": "",
       "description_tooltip": null,
       "layout": "IPY_MODEL_78263460bfea4314b177e94809cd2190",
       "placeholder": "​",
       "style": "IPY_MODEL_991f572b4c004c6094ac960afaf4a7b8",
       "value": "Downloading builder script: "
      }
     },
     "04753c0272f546d9a026a14604266da6": {
      "model_module": "@jupyter-widgets/controls",
      "model_module_version": "1.5.0",
      "model_name": "DescriptionStyleModel",
      "state": {
       "_model_module": "@jupyter-widgets/controls",
       "_model_module_version": "1.5.0",
       "_model_name": "DescriptionStyleModel",
       "_view_count": null,
       "_view_module": "@jupyter-widgets/base",
       "_view_module_version": "1.2.0",
       "_view_name": "StyleView",
       "description_width": ""
      }
     },
     "04ed38955fb44c36b0f3b01687925dc7": {
      "model_module": "@jupyter-widgets/controls",
      "model_module_version": "1.5.0",
      "model_name": "HTMLModel",
      "state": {
       "_dom_classes": [],
       "_model_module": "@jupyter-widgets/controls",
       "_model_module_version": "1.5.0",
       "_model_name": "HTMLModel",
       "_view_count": null,
       "_view_module": "@jupyter-widgets/controls",
       "_view_module_version": "1.5.0",
       "_view_name": "HTMLView",
       "description": "",
       "description_tooltip": null,
       "layout": "IPY_MODEL_89ff5f48083440359dd6a4e3291ca406",
       "placeholder": "​",
       "style": "IPY_MODEL_a1449deed05145d9b8a5528342121f82",
       "value": " 350M/350M [00:01&lt;00:00, 407MB/s]"
      }
     },
     "12a89f949d894f5b8e7671f8613e29b6": {
      "model_module": "@jupyter-widgets/base",
      "model_module_version": "1.2.0",
      "model_name": "LayoutModel",
      "state": {
       "_model_module": "@jupyter-widgets/base",
       "_model_module_version": "1.2.0",
       "_model_name": "LayoutModel",
       "_view_count": null,
       "_view_module": "@jupyter-widgets/base",
       "_view_module_version": "1.2.0",
       "_view_name": "LayoutView",
       "align_content": null,
       "align_items": null,
       "align_self": null,
       "border": null,
       "bottom": null,
       "display": null,
       "flex": null,
       "flex_flow": null,
       "grid_area": null,
       "grid_auto_columns": null,
       "grid_auto_flow": null,
       "grid_auto_rows": null,
       "grid_column": null,
       "grid_gap": null,
       "grid_row": null,
       "grid_template_areas": null,
       "grid_template_columns": null,
       "grid_template_rows": null,
       "height": null,
       "justify_content": null,
       "justify_items": null,
       "left": null,
       "margin": null,
       "max_height": null,
       "max_width": null,
       "min_height": null,
       "min_width": null,
       "object_fit": null,
       "object_position": null,
       "order": null,
       "overflow": null,
       "overflow_x": null,
       "overflow_y": null,
       "padding": null,
       "right": null,
       "top": null,
       "visibility": null,
       "width": null
      }
     },
     "19587f6c4cbb4edbb540dd72a1d79b87": {
      "model_module": "@jupyter-widgets/base",
      "model_module_version": "1.2.0",
      "model_name": "LayoutModel",
      "state": {
       "_model_module": "@jupyter-widgets/base",
       "_model_module_version": "1.2.0",
       "_model_name": "LayoutModel",
       "_view_count": null,
       "_view_module": "@jupyter-widgets/base",
       "_view_module_version": "1.2.0",
       "_view_name": "LayoutView",
       "align_content": null,
       "align_items": null,
       "align_self": null,
       "border": null,
       "bottom": null,
       "display": null,
       "flex": null,
       "flex_flow": null,
       "grid_area": null,
       "grid_auto_columns": null,
       "grid_auto_flow": null,
       "grid_auto_rows": null,
       "grid_column": null,
       "grid_gap": null,
       "grid_row": null,
       "grid_template_areas": null,
       "grid_template_columns": null,
       "grid_template_rows": null,
       "height": null,
       "justify_content": null,
       "justify_items": null,
       "left": null,
       "margin": null,
       "max_height": null,
       "max_width": null,
       "min_height": null,
       "min_width": null,
       "object_fit": null,
       "object_position": null,
       "order": null,
       "overflow": null,
       "overflow_x": null,
       "overflow_y": null,
       "padding": null,
       "right": null,
       "top": null,
       "visibility": null,
       "width": null
      }
     },
     "1df9b248fba246448e703f390cdc4dca": {
      "model_module": "@jupyter-widgets/controls",
      "model_module_version": "1.5.0",
      "model_name": "FloatProgressModel",
      "state": {
       "_dom_classes": [],
       "_model_module": "@jupyter-widgets/controls",
       "_model_module_version": "1.5.0",
       "_model_name": "FloatProgressModel",
       "_view_count": null,
       "_view_module": "@jupyter-widgets/controls",
       "_view_module_version": "1.5.0",
       "_view_name": "ProgressView",
       "bar_style": "success",
       "description": "",
       "description_tooltip": null,
       "layout": "IPY_MODEL_c2c40f589e114f14b9a5b303e6605314",
       "max": 69889.0,
       "min": 0.0,
       "orientation": "horizontal",
       "style": "IPY_MODEL_57b42686e6da456784c8b23aa8973b1d",
       "value": 69889.0
      }
     },
     "2ffc22245bd14a4f98ac29862523f8db": {
      "model_module": "@jupyter-widgets/controls",
      "model_module_version": "1.5.0",
      "model_name": "HTMLModel",
      "state": {
       "_dom_classes": [],
       "_model_module": "@jupyter-widgets/controls",
       "_model_module_version": "1.5.0",
       "_model_name": "HTMLModel",
       "_view_count": null,
       "_view_module": "@jupyter-widgets/controls",
       "_view_module_version": "1.5.0",
       "_view_name": "HTMLView",
       "description": "",
       "description_tooltip": null,
       "layout": "IPY_MODEL_53576662fb7b46e6aa2c23b9289f5df1",
       "placeholder": "​",
       "style": "IPY_MODEL_a7f9e4ab5ab5443b84ea67eab0a25572",
       "value": " 69.9k/69.9k [00:00&lt;00:00, 837kB/s]"
      }
     },
     "39dde3bd1b4143c88d9481e8b4ed9c92": {
      "model_module": "@jupyter-widgets/controls",
      "model_module_version": "1.5.0",
      "model_name": "ProgressStyleModel",
      "state": {
       "_model_module": "@jupyter-widgets/controls",
       "_model_module_version": "1.5.0",
       "_model_name": "ProgressStyleModel",
       "_view_count": null,
       "_view_module": "@jupyter-widgets/base",
       "_view_module_version": "1.2.0",
       "_view_name": "StyleView",
       "bar_color": null,
       "description_width": ""
      }
     },
     "3b793c6192e64a14a08d6eb1c477ac59": {
      "model_module": "@jupyter-widgets/base",
      "model_module_version": "1.2.0",
      "model_name": "LayoutModel",
      "state": {
       "_model_module": "@jupyter-widgets/base",
       "_model_module_version": "1.2.0",
       "_model_name": "LayoutModel",
       "_view_count": null,
       "_view_module": "@jupyter-widgets/base",
       "_view_module_version": "1.2.0",
       "_view_name": "LayoutView",
       "align_content": null,
       "align_items": null,
       "align_self": null,
       "border": null,
       "bottom": null,
       "display": null,
       "flex": null,
       "flex_flow": null,
       "grid_area": null,
       "grid_auto_columns": null,
       "grid_auto_flow": null,
       "grid_auto_rows": null,
       "grid_column": null,
       "grid_gap": null,
       "grid_row": null,
       "grid_template_areas": null,
       "grid_template_columns": null,
       "grid_template_rows": null,
       "height": null,
       "justify_content": null,
       "justify_items": null,
       "left": null,
       "margin": null,
       "max_height": null,
       "max_width": null,
       "min_height": null,
       "min_width": null,
       "object_fit": null,
       "object_position": null,
       "order": null,
       "overflow": null,
       "overflow_x": null,
       "overflow_y": null,
       "padding": null,
       "right": null,
       "top": null,
       "visibility": null,
       "width": null
      }
     },
     "4653782ebba6494abcedfbfe15346302": {
      "model_module": "@jupyter-widgets/controls",
      "model_module_version": "1.5.0",
      "model_name": "FloatProgressModel",
      "state": {
       "_dom_classes": [],
       "_model_module": "@jupyter-widgets/controls",
       "_model_module_version": "1.5.0",
       "_model_name": "FloatProgressModel",
       "_view_count": null,
       "_view_module": "@jupyter-widgets/controls",
       "_view_module_version": "1.5.0",
       "_view_name": "ProgressView",
       "bar_style": "success",
       "description": "",
       "description_tooltip": null,
       "layout": "IPY_MODEL_900e1887fd6045ffa7e03b085aeeb5b2",
       "max": 276.0,
       "min": 0.0,
       "orientation": "horizontal",
       "style": "IPY_MODEL_39dde3bd1b4143c88d9481e8b4ed9c92",
       "value": 276.0
      }
     },
     "4994d4e8a2304ac19c72903eee8ac84d": {
      "model_module": "@jupyter-widgets/controls",
      "model_module_version": "1.5.0",
      "model_name": "HBoxModel",
      "state": {
       "_dom_classes": [],
       "_model_module": "@jupyter-widgets/controls",
       "_model_module_version": "1.5.0",
       "_model_name": "HBoxModel",
       "_view_count": null,
       "_view_module": "@jupyter-widgets/controls",
       "_view_module_version": "1.5.0",
       "_view_name": "HBoxView",
       "box_style": "",
       "children": [
        "IPY_MODEL_e83e3930946a434da81b52b4cf430c3a",
        "IPY_MODEL_c8ecfdb5e8ca442b900f7f6a6db43d32",
        "IPY_MODEL_04ed38955fb44c36b0f3b01687925dc7"
       ],
       "layout": "IPY_MODEL_3b793c6192e64a14a08d6eb1c477ac59"
      }
     },
     "4d33c54127d84ad4bcad186082b1e213": {
      "model_module": "@jupyter-widgets/base",
      "model_module_version": "1.2.0",
      "model_name": "LayoutModel",
      "state": {
       "_model_module": "@jupyter-widgets/base",
       "_model_module_version": "1.2.0",
       "_model_name": "LayoutModel",
       "_view_count": null,
       "_view_module": "@jupyter-widgets/base",
       "_view_module_version": "1.2.0",
       "_view_name": "LayoutView",
       "align_content": null,
       "align_items": null,
       "align_self": null,
       "border": null,
       "bottom": null,
       "display": null,
       "flex": null,
       "flex_flow": null,
       "grid_area": null,
       "grid_auto_columns": null,
       "grid_auto_flow": null,
       "grid_auto_rows": null,
       "grid_column": null,
       "grid_gap": null,
       "grid_row": null,
       "grid_template_areas": null,
       "grid_template_columns": null,
       "grid_template_rows": null,
       "height": null,
       "justify_content": null,
       "justify_items": null,
       "left": null,
       "margin": null,
       "max_height": null,
       "max_width": null,
       "min_height": null,
       "min_width": null,
       "object_fit": null,
       "object_position": null,
       "order": null,
       "overflow": null,
       "overflow_x": null,
       "overflow_y": null,
       "padding": null,
       "right": null,
       "top": null,
       "visibility": null,
       "width": null
      }
     },
     "53576662fb7b46e6aa2c23b9289f5df1": {
      "model_module": "@jupyter-widgets/base",
      "model_module_version": "1.2.0",
      "model_name": "LayoutModel",
      "state": {
       "_model_module": "@jupyter-widgets/base",
       "_model_module_version": "1.2.0",
       "_model_name": "LayoutModel",
       "_view_count": null,
       "_view_module": "@jupyter-widgets/base",
       "_view_module_version": "1.2.0",
       "_view_name": "LayoutView",
       "align_content": null,
       "align_items": null,
       "align_self": null,
       "border": null,
       "bottom": null,
       "display": null,
       "flex": null,
       "flex_flow": null,
       "grid_area": null,
       "grid_auto_columns": null,
       "grid_auto_flow": null,
       "grid_auto_rows": null,
       "grid_column": null,
       "grid_gap": null,
       "grid_row": null,
       "grid_template_areas": null,
       "grid_template_columns": null,
       "grid_template_rows": null,
       "height": null,
       "justify_content": null,
       "justify_items": null,
       "left": null,
       "margin": null,
       "max_height": null,
       "max_width": null,
       "min_height": null,
       "min_width": null,
       "object_fit": null,
       "object_position": null,
       "order": null,
       "overflow": null,
       "overflow_x": null,
       "overflow_y": null,
       "padding": null,
       "right": null,
       "top": null,
       "visibility": null,
       "width": null
      }
     },
     "538d3cf75fd241d4953dededc5bbc122": {
      "model_module": "@jupyter-widgets/base",
      "model_module_version": "1.2.0",
      "model_name": "LayoutModel",
      "state": {
       "_model_module": "@jupyter-widgets/base",
       "_model_module_version": "1.2.0",
       "_model_name": "LayoutModel",
       "_view_count": null,
       "_view_module": "@jupyter-widgets/base",
       "_view_module_version": "1.2.0",
       "_view_name": "LayoutView",
       "align_content": null,
       "align_items": null,
       "align_self": null,
       "border": null,
       "bottom": null,
       "display": null,
       "flex": null,
       "flex_flow": null,
       "grid_area": null,
       "grid_auto_columns": null,
       "grid_auto_flow": null,
       "grid_auto_rows": null,
       "grid_column": null,
       "grid_gap": null,
       "grid_row": null,
       "grid_template_areas": null,
       "grid_template_columns": null,
       "grid_template_rows": null,
       "height": null,
       "justify_content": null,
       "justify_items": null,
       "left": null,
       "margin": null,
       "max_height": null,
       "max_width": null,
       "min_height": null,
       "min_width": null,
       "object_fit": null,
       "object_position": null,
       "order": null,
       "overflow": null,
       "overflow_x": null,
       "overflow_y": null,
       "padding": null,
       "right": null,
       "top": null,
       "visibility": null,
       "width": null
      }
     },
     "57b42686e6da456784c8b23aa8973b1d": {
      "model_module": "@jupyter-widgets/controls",
      "model_module_version": "1.5.0",
      "model_name": "ProgressStyleModel",
      "state": {
       "_model_module": "@jupyter-widgets/controls",
       "_model_module_version": "1.5.0",
       "_model_name": "ProgressStyleModel",
       "_view_count": null,
       "_view_module": "@jupyter-widgets/base",
       "_view_module_version": "1.2.0",
       "_view_name": "StyleView",
       "bar_color": null,
       "description_width": ""
      }
     },
     "606a56de2501451cbfd7212056df39e4": {
      "model_module": "@jupyter-widgets/controls",
      "model_module_version": "1.5.0",
      "model_name": "HTMLModel",
      "state": {
       "_dom_classes": [],
       "_model_module": "@jupyter-widgets/controls",
       "_model_module_version": "1.5.0",
       "_model_name": "HTMLModel",
       "_view_count": null,
       "_view_module": "@jupyter-widgets/controls",
       "_view_module_version": "1.5.0",
       "_view_name": "HTMLView",
       "description": "",
       "description_tooltip": null,
       "layout": "IPY_MODEL_a74899942d9a40c0a2d20380367a9e81",
       "placeholder": "​",
       "style": "IPY_MODEL_91647c12081448059600479c16fa861d",
       "value": " 276/276 [00:00&lt;00:00, 20.0kB/s]"
      }
     },
     "63fb8318891e455380751e7f554fe865": {
      "model_module": "@jupyter-widgets/controls",
      "model_module_version": "1.5.0",
      "model_name": "HTMLModel",
      "state": {
       "_dom_classes": [],
       "_model_module": "@jupyter-widgets/controls",
       "_model_module_version": "1.5.0",
       "_model_name": "HTMLModel",
       "_view_count": null,
       "_view_module": "@jupyter-widgets/controls",
       "_view_module_version": "1.5.0",
       "_view_name": "HTMLView",
       "description": "",
       "description_tooltip": null,
       "layout": "IPY_MODEL_538d3cf75fd241d4953dededc5bbc122",
       "placeholder": "​",
       "style": "IPY_MODEL_a6d657dbfad546dd976f5bbd4af992aa",
       "value": "Downloading (…)rocessor_config.json: 100%"
      }
     },
     "7091b98a23394d4c9daea7dfdb163a79": {
      "model_module": "@jupyter-widgets/base",
      "model_module_version": "1.2.0",
      "model_name": "LayoutModel",
      "state": {
       "_model_module": "@jupyter-widgets/base",
       "_model_module_version": "1.2.0",
       "_model_name": "LayoutModel",
       "_view_count": null,
       "_view_module": "@jupyter-widgets/base",
       "_view_module_version": "1.2.0",
       "_view_name": "LayoutView",
       "align_content": null,
       "align_items": null,
       "align_self": null,
       "border": null,
       "bottom": null,
       "display": null,
       "flex": null,
       "flex_flow": null,
       "grid_area": null,
       "grid_auto_columns": null,
       "grid_auto_flow": null,
       "grid_auto_rows": null,
       "grid_column": null,
       "grid_gap": null,
       "grid_row": null,
       "grid_template_areas": null,
       "grid_template_columns": null,
       "grid_template_rows": null,
       "height": null,
       "justify_content": null,
       "justify_items": null,
       "left": null,
       "margin": null,
       "max_height": null,
       "max_width": null,
       "min_height": null,
       "min_width": null,
       "object_fit": null,
       "object_position": null,
       "order": null,
       "overflow": null,
       "overflow_x": null,
       "overflow_y": null,
       "padding": null,
       "right": null,
       "top": null,
       "visibility": null,
       "width": null
      }
     },
     "78263460bfea4314b177e94809cd2190": {
      "model_module": "@jupyter-widgets/base",
      "model_module_version": "1.2.0",
      "model_name": "LayoutModel",
      "state": {
       "_model_module": "@jupyter-widgets/base",
       "_model_module_version": "1.2.0",
       "_model_name": "LayoutModel",
       "_view_count": null,
       "_view_module": "@jupyter-widgets/base",
       "_view_module_version": "1.2.0",
       "_view_name": "LayoutView",
       "align_content": null,
       "align_items": null,
       "align_self": null,
       "border": null,
       "bottom": null,
       "display": null,
       "flex": null,
       "flex_flow": null,
       "grid_area": null,
       "grid_auto_columns": null,
       "grid_auto_flow": null,
       "grid_auto_rows": null,
       "grid_column": null,
       "grid_gap": null,
       "grid_row": null,
       "grid_template_areas": null,
       "grid_template_columns": null,
       "grid_template_rows": null,
       "height": null,
       "justify_content": null,
       "justify_items": null,
       "left": null,
       "margin": null,
       "max_height": null,
       "max_width": null,
       "min_height": null,
       "min_width": null,
       "object_fit": null,
       "object_position": null,
       "order": null,
       "overflow": null,
       "overflow_x": null,
       "overflow_y": null,
       "padding": null,
       "right": null,
       "top": null,
       "visibility": null,
       "width": null
      }
     },
     "89ff5f48083440359dd6a4e3291ca406": {
      "model_module": "@jupyter-widgets/base",
      "model_module_version": "1.2.0",
      "model_name": "LayoutModel",
      "state": {
       "_model_module": "@jupyter-widgets/base",
       "_model_module_version": "1.2.0",
       "_model_name": "LayoutModel",
       "_view_count": null,
       "_view_module": "@jupyter-widgets/base",
       "_view_module_version": "1.2.0",
       "_view_name": "LayoutView",
       "align_content": null,
       "align_items": null,
       "align_self": null,
       "border": null,
       "bottom": null,
       "display": null,
       "flex": null,
       "flex_flow": null,
       "grid_area": null,
       "grid_auto_columns": null,
       "grid_auto_flow": null,
       "grid_auto_rows": null,
       "grid_column": null,
       "grid_gap": null,
       "grid_row": null,
       "grid_template_areas": null,
       "grid_template_columns": null,
       "grid_template_rows": null,
       "height": null,
       "justify_content": null,
       "justify_items": null,
       "left": null,
       "margin": null,
       "max_height": null,
       "max_width": null,
       "min_height": null,
       "min_width": null,
       "object_fit": null,
       "object_position": null,
       "order": null,
       "overflow": null,
       "overflow_x": null,
       "overflow_y": null,
       "padding": null,
       "right": null,
       "top": null,
       "visibility": null,
       "width": null
      }
     },
     "900e1887fd6045ffa7e03b085aeeb5b2": {
      "model_module": "@jupyter-widgets/base",
      "model_module_version": "1.2.0",
      "model_name": "LayoutModel",
      "state": {
       "_model_module": "@jupyter-widgets/base",
       "_model_module_version": "1.2.0",
       "_model_name": "LayoutModel",
       "_view_count": null,
       "_view_module": "@jupyter-widgets/base",
       "_view_module_version": "1.2.0",
       "_view_name": "LayoutView",
       "align_content": null,
       "align_items": null,
       "align_self": null,
       "border": null,
       "bottom": null,
       "display": null,
       "flex": null,
       "flex_flow": null,
       "grid_area": null,
       "grid_auto_columns": null,
       "grid_auto_flow": null,
       "grid_auto_rows": null,
       "grid_column": null,
       "grid_gap": null,
       "grid_row": null,
       "grid_template_areas": null,
       "grid_template_columns": null,
       "grid_template_rows": null,
       "height": null,
       "justify_content": null,
       "justify_items": null,
       "left": null,
       "margin": null,
       "max_height": null,
       "max_width": null,
       "min_height": null,
       "min_width": null,
       "object_fit": null,
       "object_position": null,
       "order": null,
       "overflow": null,
       "overflow_x": null,
       "overflow_y": null,
       "padding": null,
       "right": null,
       "top": null,
       "visibility": null,
       "width": null
      }
     },
     "91647c12081448059600479c16fa861d": {
      "model_module": "@jupyter-widgets/controls",
      "model_module_version": "1.5.0",
      "model_name": "DescriptionStyleModel",
      "state": {
       "_model_module": "@jupyter-widgets/controls",
       "_model_module_version": "1.5.0",
       "_model_name": "DescriptionStyleModel",
       "_view_count": null,
       "_view_module": "@jupyter-widgets/base",
       "_view_module_version": "1.2.0",
       "_view_name": "StyleView",
       "description_width": ""
      }
     },
     "922f1107ee2043a4a23c2d89b1a51870": {
      "model_module": "@jupyter-widgets/controls",
      "model_module_version": "1.5.0",
      "model_name": "FloatProgressModel",
      "state": {
       "_dom_classes": [],
       "_model_module": "@jupyter-widgets/controls",
       "_model_module_version": "1.5.0",
       "_model_name": "FloatProgressModel",
       "_view_count": null,
       "_view_module": "@jupyter-widgets/controls",
       "_view_module_version": "1.5.0",
       "_view_name": "ProgressView",
       "bar_style": "success",
       "description": "",
       "description_tooltip": null,
       "layout": "IPY_MODEL_19587f6c4cbb4edbb540dd72a1d79b87",
       "max": 2059.0,
       "min": 0.0,
       "orientation": "horizontal",
       "style": "IPY_MODEL_fdad476445d84c9ba3af97a043f261ef",
       "value": 2059.0
      }
     },
     "991f572b4c004c6094ac960afaf4a7b8": {
      "model_module": "@jupyter-widgets/controls",
      "model_module_version": "1.5.0",
      "model_name": "DescriptionStyleModel",
      "state": {
       "_model_module": "@jupyter-widgets/controls",
       "_model_module_version": "1.5.0",
       "_model_name": "DescriptionStyleModel",
       "_view_count": null,
       "_view_module": "@jupyter-widgets/base",
       "_view_module_version": "1.2.0",
       "_view_name": "StyleView",
       "description_width": ""
      }
     },
     "a1449deed05145d9b8a5528342121f82": {
      "model_module": "@jupyter-widgets/controls",
      "model_module_version": "1.5.0",
      "model_name": "DescriptionStyleModel",
      "state": {
       "_model_module": "@jupyter-widgets/controls",
       "_model_module_version": "1.5.0",
       "_model_name": "DescriptionStyleModel",
       "_view_count": null,
       "_view_module": "@jupyter-widgets/base",
       "_view_module_version": "1.2.0",
       "_view_name": "StyleView",
       "description_width": ""
      }
     },
     "a2416b6fba174f8c88010bcef2b4199f": {
      "model_module": "@jupyter-widgets/controls",
      "model_module_version": "1.5.0",
      "model_name": "HTMLModel",
      "state": {
       "_dom_classes": [],
       "_model_module": "@jupyter-widgets/controls",
       "_model_module_version": "1.5.0",
       "_model_name": "HTMLModel",
       "_view_count": null,
       "_view_module": "@jupyter-widgets/controls",
       "_view_module_version": "1.5.0",
       "_view_name": "HTMLView",
       "description": "",
       "description_tooltip": null,
       "layout": "IPY_MODEL_a398d6c64c1f4f5a95784dd550ea5c0e",
       "placeholder": "​",
       "style": "IPY_MODEL_fe097ac2cd1c4cf3b340c7befc2562fe",
       "value": "Downloading config.json: 100%"
      }
     },
     "a398d6c64c1f4f5a95784dd550ea5c0e": {
      "model_module": "@jupyter-widgets/base",
      "model_module_version": "1.2.0",
      "model_name": "LayoutModel",
      "state": {
       "_model_module": "@jupyter-widgets/base",
       "_model_module_version": "1.2.0",
       "_model_name": "LayoutModel",
       "_view_count": null,
       "_view_module": "@jupyter-widgets/base",
       "_view_module_version": "1.2.0",
       "_view_name": "LayoutView",
       "align_content": null,
       "align_items": null,
       "align_self": null,
       "border": null,
       "bottom": null,
       "display": null,
       "flex": null,
       "flex_flow": null,
       "grid_area": null,
       "grid_auto_columns": null,
       "grid_auto_flow": null,
       "grid_auto_rows": null,
       "grid_column": null,
       "grid_gap": null,
       "grid_row": null,
       "grid_template_areas": null,
       "grid_template_columns": null,
       "grid_template_rows": null,
       "height": null,
       "justify_content": null,
       "justify_items": null,
       "left": null,
       "margin": null,
       "max_height": null,
       "max_width": null,
       "min_height": null,
       "min_width": null,
       "object_fit": null,
       "object_position": null,
       "order": null,
       "overflow": null,
       "overflow_x": null,
       "overflow_y": null,
       "padding": null,
       "right": null,
       "top": null,
       "visibility": null,
       "width": null
      }
     },
     "a6d657dbfad546dd976f5bbd4af992aa": {
      "model_module": "@jupyter-widgets/controls",
      "model_module_version": "1.5.0",
      "model_name": "DescriptionStyleModel",
      "state": {
       "_model_module": "@jupyter-widgets/controls",
       "_model_module_version": "1.5.0",
       "_model_name": "DescriptionStyleModel",
       "_view_count": null,
       "_view_module": "@jupyter-widgets/base",
       "_view_module_version": "1.2.0",
       "_view_name": "StyleView",
       "description_width": ""
      }
     },
     "a74899942d9a40c0a2d20380367a9e81": {
      "model_module": "@jupyter-widgets/base",
      "model_module_version": "1.2.0",
      "model_name": "LayoutModel",
      "state": {
       "_model_module": "@jupyter-widgets/base",
       "_model_module_version": "1.2.0",
       "_model_name": "LayoutModel",
       "_view_count": null,
       "_view_module": "@jupyter-widgets/base",
       "_view_module_version": "1.2.0",
       "_view_name": "LayoutView",
       "align_content": null,
       "align_items": null,
       "align_self": null,
       "border": null,
       "bottom": null,
       "display": null,
       "flex": null,
       "flex_flow": null,
       "grid_area": null,
       "grid_auto_columns": null,
       "grid_auto_flow": null,
       "grid_auto_rows": null,
       "grid_column": null,
       "grid_gap": null,
       "grid_row": null,
       "grid_template_areas": null,
       "grid_template_columns": null,
       "grid_template_rows": null,
       "height": null,
       "justify_content": null,
       "justify_items": null,
       "left": null,
       "margin": null,
       "max_height": null,
       "max_width": null,
       "min_height": null,
       "min_width": null,
       "object_fit": null,
       "object_position": null,
       "order": null,
       "overflow": null,
       "overflow_x": null,
       "overflow_y": null,
       "padding": null,
       "right": null,
       "top": null,
       "visibility": null,
       "width": null
      }
     },
     "a79dacc1998e46499ed144e251967845": {
      "model_module": "@jupyter-widgets/controls",
      "model_module_version": "1.5.0",
      "model_name": "HBoxModel",
      "state": {
       "_dom_classes": [],
       "_model_module": "@jupyter-widgets/controls",
       "_model_module_version": "1.5.0",
       "_model_name": "HBoxModel",
       "_view_count": null,
       "_view_module": "@jupyter-widgets/controls",
       "_view_module_version": "1.5.0",
       "_view_name": "HBoxView",
       "box_style": "",
       "children": [
        "IPY_MODEL_023c52005ae34a30b698fe0567e188f5",
        "IPY_MODEL_922f1107ee2043a4a23c2d89b1a51870",
        "IPY_MODEL_f77d6f425c0247648508510ddcd41df8"
       ],
       "layout": "IPY_MODEL_caf9a5d346ce4aaa9fe30ee4cb4ca6f1"
      }
     },
     "a7f9e4ab5ab5443b84ea67eab0a25572": {
      "model_module": "@jupyter-widgets/controls",
      "model_module_version": "1.5.0",
      "model_name": "DescriptionStyleModel",
      "state": {
       "_model_module": "@jupyter-widgets/controls",
       "_model_module_version": "1.5.0",
       "_model_name": "DescriptionStyleModel",
       "_view_count": null,
       "_view_module": "@jupyter-widgets/base",
       "_view_module_version": "1.2.0",
       "_view_name": "StyleView",
       "description_width": ""
      }
     },
     "aa53f750522b495680199ac19ebf16a5": {
      "model_module": "@jupyter-widgets/controls",
      "model_module_version": "1.5.0",
      "model_name": "HBoxModel",
      "state": {
       "_dom_classes": [],
       "_model_module": "@jupyter-widgets/controls",
       "_model_module_version": "1.5.0",
       "_model_name": "HBoxModel",
       "_view_count": null,
       "_view_module": "@jupyter-widgets/controls",
       "_view_module_version": "1.5.0",
       "_view_name": "HBoxView",
       "box_style": "",
       "children": [
        "IPY_MODEL_63fb8318891e455380751e7f554fe865",
        "IPY_MODEL_4653782ebba6494abcedfbfe15346302",
        "IPY_MODEL_606a56de2501451cbfd7212056df39e4"
       ],
       "layout": "IPY_MODEL_7091b98a23394d4c9daea7dfdb163a79"
      }
     },
     "c2c40f589e114f14b9a5b303e6605314": {
      "model_module": "@jupyter-widgets/base",
      "model_module_version": "1.2.0",
      "model_name": "LayoutModel",
      "state": {
       "_model_module": "@jupyter-widgets/base",
       "_model_module_version": "1.2.0",
       "_model_name": "LayoutModel",
       "_view_count": null,
       "_view_module": "@jupyter-widgets/base",
       "_view_module_version": "1.2.0",
       "_view_name": "LayoutView",
       "align_content": null,
       "align_items": null,
       "align_self": null,
       "border": null,
       "bottom": null,
       "display": null,
       "flex": null,
       "flex_flow": null,
       "grid_area": null,
       "grid_auto_columns": null,
       "grid_auto_flow": null,
       "grid_auto_rows": null,
       "grid_column": null,
       "grid_gap": null,
       "grid_row": null,
       "grid_template_areas": null,
       "grid_template_columns": null,
       "grid_template_rows": null,
       "height": null,
       "justify_content": null,
       "justify_items": null,
       "left": null,
       "margin": null,
       "max_height": null,
       "max_width": null,
       "min_height": null,
       "min_width": null,
       "object_fit": null,
       "object_position": null,
       "order": null,
       "overflow": null,
       "overflow_x": null,
       "overflow_y": null,
       "padding": null,
       "right": null,
       "top": null,
       "visibility": null,
       "width": null
      }
     },
     "c57d131d8b26466b80f3872eb45ee795": {
      "model_module": "@jupyter-widgets/base",
      "model_module_version": "1.2.0",
      "model_name": "LayoutModel",
      "state": {
       "_model_module": "@jupyter-widgets/base",
       "_model_module_version": "1.2.0",
       "_model_name": "LayoutModel",
       "_view_count": null,
       "_view_module": "@jupyter-widgets/base",
       "_view_module_version": "1.2.0",
       "_view_name": "LayoutView",
       "align_content": null,
       "align_items": null,
       "align_self": null,
       "border": null,
       "bottom": null,
       "display": null,
       "flex": null,
       "flex_flow": null,
       "grid_area": null,
       "grid_auto_columns": null,
       "grid_auto_flow": null,
       "grid_auto_rows": null,
       "grid_column": null,
       "grid_gap": null,
       "grid_row": null,
       "grid_template_areas": null,
       "grid_template_columns": null,
       "grid_template_rows": null,
       "height": null,
       "justify_content": null,
       "justify_items": null,
       "left": null,
       "margin": null,
       "max_height": null,
       "max_width": null,
       "min_height": null,
       "min_width": null,
       "object_fit": null,
       "object_position": null,
       "order": null,
       "overflow": null,
       "overflow_x": null,
       "overflow_y": null,
       "padding": null,
       "right": null,
       "top": null,
       "visibility": null,
       "width": null
      }
     },
     "c8ecfdb5e8ca442b900f7f6a6db43d32": {
      "model_module": "@jupyter-widgets/controls",
      "model_module_version": "1.5.0",
      "model_name": "FloatProgressModel",
      "state": {
       "_dom_classes": [],
       "_model_module": "@jupyter-widgets/controls",
       "_model_module_version": "1.5.0",
       "_model_name": "FloatProgressModel",
       "_view_count": null,
       "_view_module": "@jupyter-widgets/controls",
       "_view_module_version": "1.5.0",
       "_view_name": "ProgressView",
       "bar_style": "success",
       "description": "",
       "description_tooltip": null,
       "layout": "IPY_MODEL_c57d131d8b26466b80f3872eb45ee795",
       "max": 349939883.0,
       "min": 0.0,
       "orientation": "horizontal",
       "style": "IPY_MODEL_d2e39a6e55d848fd9b2c986f010e2a6a",
       "value": 349939883.0
      }
     },
     "caf9a5d346ce4aaa9fe30ee4cb4ca6f1": {
      "model_module": "@jupyter-widgets/base",
      "model_module_version": "1.2.0",
      "model_name": "LayoutModel",
      "state": {
       "_model_module": "@jupyter-widgets/base",
       "_model_module_version": "1.2.0",
       "_model_name": "LayoutModel",
       "_view_count": null,
       "_view_module": "@jupyter-widgets/base",
       "_view_module_version": "1.2.0",
       "_view_name": "LayoutView",
       "align_content": null,
       "align_items": null,
       "align_self": null,
       "border": null,
       "bottom": null,
       "display": null,
       "flex": null,
       "flex_flow": null,
       "grid_area": null,
       "grid_auto_columns": null,
       "grid_auto_flow": null,
       "grid_auto_rows": null,
       "grid_column": null,
       "grid_gap": null,
       "grid_row": null,
       "grid_template_areas": null,
       "grid_template_columns": null,
       "grid_template_rows": null,
       "height": null,
       "justify_content": null,
       "justify_items": null,
       "left": null,
       "margin": null,
       "max_height": null,
       "max_width": null,
       "min_height": null,
       "min_width": null,
       "object_fit": null,
       "object_position": null,
       "order": null,
       "overflow": null,
       "overflow_x": null,
       "overflow_y": null,
       "padding": null,
       "right": null,
       "top": null,
       "visibility": null,
       "width": null
      }
     },
     "d2e39a6e55d848fd9b2c986f010e2a6a": {
      "model_module": "@jupyter-widgets/controls",
      "model_module_version": "1.5.0",
      "model_name": "ProgressStyleModel",
      "state": {
       "_model_module": "@jupyter-widgets/controls",
       "_model_module_version": "1.5.0",
       "_model_name": "ProgressStyleModel",
       "_view_count": null,
       "_view_module": "@jupyter-widgets/base",
       "_view_module_version": "1.2.0",
       "_view_name": "StyleView",
       "bar_color": null,
       "description_width": ""
      }
     },
     "d2edf93031174450afb00aa73628042a": {
      "model_module": "@jupyter-widgets/controls",
      "model_module_version": "1.5.0",
      "model_name": "HBoxModel",
      "state": {
       "_dom_classes": [],
       "_model_module": "@jupyter-widgets/controls",
       "_model_module_version": "1.5.0",
       "_model_name": "HBoxModel",
       "_view_count": null,
       "_view_module": "@jupyter-widgets/controls",
       "_view_module_version": "1.5.0",
       "_view_name": "HBoxView",
       "box_style": "",
       "children": [
        "IPY_MODEL_a2416b6fba174f8c88010bcef2b4199f",
        "IPY_MODEL_1df9b248fba246448e703f390cdc4dca",
        "IPY_MODEL_2ffc22245bd14a4f98ac29862523f8db"
       ],
       "layout": "IPY_MODEL_ed683c263cb048079d2b32ef17ca76d5"
      }
     },
     "e83e3930946a434da81b52b4cf430c3a": {
      "model_module": "@jupyter-widgets/controls",
      "model_module_version": "1.5.0",
      "model_name": "HTMLModel",
      "state": {
       "_dom_classes": [],
       "_model_module": "@jupyter-widgets/controls",
       "_model_module_version": "1.5.0",
       "_model_name": "HTMLModel",
       "_view_count": null,
       "_view_module": "@jupyter-widgets/controls",
       "_view_module_version": "1.5.0",
       "_view_name": "HTMLView",
       "description": "",
       "description_tooltip": null,
       "layout": "IPY_MODEL_12a89f949d894f5b8e7671f8613e29b6",
       "placeholder": "​",
       "style": "IPY_MODEL_f11cc5d6408c4763923c11797e264bd3",
       "value": "Downloading pytorch_model.bin: 100%"
      }
     },
     "ed683c263cb048079d2b32ef17ca76d5": {
      "model_module": "@jupyter-widgets/base",
      "model_module_version": "1.2.0",
      "model_name": "LayoutModel",
      "state": {
       "_model_module": "@jupyter-widgets/base",
       "_model_module_version": "1.2.0",
       "_model_name": "LayoutModel",
       "_view_count": null,
       "_view_module": "@jupyter-widgets/base",
       "_view_module_version": "1.2.0",
       "_view_name": "LayoutView",
       "align_content": null,
       "align_items": null,
       "align_self": null,
       "border": null,
       "bottom": null,
       "display": null,
       "flex": null,
       "flex_flow": null,
       "grid_area": null,
       "grid_auto_columns": null,
       "grid_auto_flow": null,
       "grid_auto_rows": null,
       "grid_column": null,
       "grid_gap": null,
       "grid_row": null,
       "grid_template_areas": null,
       "grid_template_columns": null,
       "grid_template_rows": null,
       "height": null,
       "justify_content": null,
       "justify_items": null,
       "left": null,
       "margin": null,
       "max_height": null,
       "max_width": null,
       "min_height": null,
       "min_width": null,
       "object_fit": null,
       "object_position": null,
       "order": null,
       "overflow": null,
       "overflow_x": null,
       "overflow_y": null,
       "padding": null,
       "right": null,
       "top": null,
       "visibility": null,
       "width": null
      }
     },
     "f11cc5d6408c4763923c11797e264bd3": {
      "model_module": "@jupyter-widgets/controls",
      "model_module_version": "1.5.0",
      "model_name": "DescriptionStyleModel",
      "state": {
       "_model_module": "@jupyter-widgets/controls",
       "_model_module_version": "1.5.0",
       "_model_name": "DescriptionStyleModel",
       "_view_count": null,
       "_view_module": "@jupyter-widgets/base",
       "_view_module_version": "1.2.0",
       "_view_name": "StyleView",
       "description_width": ""
      }
     },
     "f77d6f425c0247648508510ddcd41df8": {
      "model_module": "@jupyter-widgets/controls",
      "model_module_version": "1.5.0",
      "model_name": "HTMLModel",
      "state": {
       "_dom_classes": [],
       "_model_module": "@jupyter-widgets/controls",
       "_model_module_version": "1.5.0",
       "_model_name": "HTMLModel",
       "_view_count": null,
       "_view_module": "@jupyter-widgets/controls",
       "_view_module_version": "1.5.0",
       "_view_name": "HTMLView",
       "description": "",
       "description_tooltip": null,
       "layout": "IPY_MODEL_4d33c54127d84ad4bcad186082b1e213",
       "placeholder": "​",
       "style": "IPY_MODEL_04753c0272f546d9a026a14604266da6",
       "value": " 5.27k/? [00:00&lt;00:00, 395kB/s]"
      }
     },
     "fdad476445d84c9ba3af97a043f261ef": {
      "model_module": "@jupyter-widgets/controls",
      "model_module_version": "1.5.0",
      "model_name": "ProgressStyleModel",
      "state": {
       "_model_module": "@jupyter-widgets/controls",
       "_model_module_version": "1.5.0",
       "_model_name": "ProgressStyleModel",
       "_view_count": null,
       "_view_module": "@jupyter-widgets/base",
       "_view_module_version": "1.2.0",
       "_view_name": "StyleView",
       "bar_color": null,
       "description_width": ""
      }
     },
     "fe097ac2cd1c4cf3b340c7befc2562fe": {
      "model_module": "@jupyter-widgets/controls",
      "model_module_version": "1.5.0",
      "model_name": "DescriptionStyleModel",
      "state": {
       "_model_module": "@jupyter-widgets/controls",
       "_model_module_version": "1.5.0",
       "_model_name": "DescriptionStyleModel",
       "_view_count": null,
       "_view_module": "@jupyter-widgets/base",
       "_view_module_version": "1.2.0",
       "_view_name": "StyleView",
       "description_width": ""
      }
     }
    },
    "version_major": 2,
    "version_minor": 0
   }
  }
 },
 "nbformat": 4,
 "nbformat_minor": 5
}
