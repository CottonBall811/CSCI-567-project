{
 "cells": [
  {
   "cell_type": "code",
   "execution_count": 1,
   "id": "68c8ddbb",
   "metadata": {
    "execution": {
     "iopub.execute_input": "2023-11-24T09:45:29.468095Z",
     "iopub.status.busy": "2023-11-24T09:45:29.467805Z",
     "iopub.status.idle": "2023-11-24T09:45:29.472225Z",
     "shell.execute_reply": "2023-11-24T09:45:29.471552Z"
    },
    "id": "uOk6ZUPLX3dz",
    "papermill": {
     "duration": 0.016543,
     "end_time": "2023-11-24T09:45:29.474099",
     "exception": false,
     "start_time": "2023-11-24T09:45:29.457556",
     "status": "completed"
    },
    "tags": []
   },
   "outputs": [],
   "source": [
    "## load data"
   ]
  },
  {
   "cell_type": "code",
   "execution_count": 2,
   "id": "4ad63a7e",
   "metadata": {
    "execution": {
     "iopub.execute_input": "2023-11-24T09:45:29.493063Z",
     "iopub.status.busy": "2023-11-24T09:45:29.492775Z",
     "iopub.status.idle": "2023-11-24T09:46:28.543768Z",
     "shell.execute_reply": "2023-11-24T09:46:28.542743Z"
    },
    "executionInfo": {
     "elapsed": 37610,
     "status": "ok",
     "timestamp": 1698790503275,
     "user": {
      "displayName": "Yusen Luo",
      "userId": "05429475045693260270"
     },
     "user_tz": 420
    },
    "id": "CYj_NKgHg7yo",
    "outputId": "a58e3f37-4476-46ea-980a-f95a6578a9fa",
    "papermill": {
     "duration": 59.063182,
     "end_time": "2023-11-24T09:46:28.546365",
     "exception": false,
     "start_time": "2023-11-24T09:45:29.483183",
     "status": "completed"
    },
    "tags": []
   },
   "outputs": [
    {
     "name": "stdout",
     "output_type": "stream",
     "text": [
      "Requirement already satisfied: datasets in /opt/conda/lib/python3.10/site-packages (2.1.0)\r\n",
      "Requirement already satisfied: numpy>=1.17 in /opt/conda/lib/python3.10/site-packages (from datasets) (1.24.3)\r\n",
      "Requirement already satisfied: pyarrow>=5.0.0 in /opt/conda/lib/python3.10/site-packages (from datasets) (11.0.0)\r\n",
      "Requirement already satisfied: dill in /opt/conda/lib/python3.10/site-packages (from datasets) (0.3.7)\r\n",
      "Requirement already satisfied: pandas in /opt/conda/lib/python3.10/site-packages (from datasets) (2.0.3)\r\n",
      "Requirement already satisfied: requests>=2.19.0 in /opt/conda/lib/python3.10/site-packages (from datasets) (2.31.0)\r\n",
      "Requirement already satisfied: tqdm>=4.62.1 in /opt/conda/lib/python3.10/site-packages (from datasets) (4.66.1)\r\n",
      "Requirement already satisfied: xxhash in /opt/conda/lib/python3.10/site-packages (from datasets) (3.4.1)\r\n",
      "Requirement already satisfied: multiprocess in /opt/conda/lib/python3.10/site-packages (from datasets) (0.70.15)\r\n",
      "Requirement already satisfied: fsspec[http]>=2021.05.0 in /opt/conda/lib/python3.10/site-packages (from datasets) (2023.10.0)\r\n",
      "Requirement already satisfied: aiohttp in /opt/conda/lib/python3.10/site-packages (from datasets) (3.8.5)\r\n",
      "Requirement already satisfied: huggingface-hub<1.0.0,>=0.1.0 in /opt/conda/lib/python3.10/site-packages (from datasets) (0.17.3)\r\n",
      "Requirement already satisfied: packaging in /opt/conda/lib/python3.10/site-packages (from datasets) (21.3)\r\n",
      "Requirement already satisfied: responses<0.19 in /opt/conda/lib/python3.10/site-packages (from datasets) (0.18.0)\r\n",
      "Requirement already satisfied: attrs>=17.3.0 in /opt/conda/lib/python3.10/site-packages (from aiohttp->datasets) (23.1.0)\r\n",
      "Requirement already satisfied: charset-normalizer<4.0,>=2.0 in /opt/conda/lib/python3.10/site-packages (from aiohttp->datasets) (3.2.0)\r\n",
      "Requirement already satisfied: multidict<7.0,>=4.5 in /opt/conda/lib/python3.10/site-packages (from aiohttp->datasets) (6.0.4)\r\n",
      "Requirement already satisfied: async-timeout<5.0,>=4.0.0a3 in /opt/conda/lib/python3.10/site-packages (from aiohttp->datasets) (4.0.3)\r\n",
      "Requirement already satisfied: yarl<2.0,>=1.0 in /opt/conda/lib/python3.10/site-packages (from aiohttp->datasets) (1.9.2)\r\n",
      "Requirement already satisfied: frozenlist>=1.1.1 in /opt/conda/lib/python3.10/site-packages (from aiohttp->datasets) (1.4.0)\r\n",
      "Requirement already satisfied: aiosignal>=1.1.2 in /opt/conda/lib/python3.10/site-packages (from aiohttp->datasets) (1.3.1)\r\n",
      "Requirement already satisfied: filelock in /opt/conda/lib/python3.10/site-packages (from huggingface-hub<1.0.0,>=0.1.0->datasets) (3.12.2)\r\n",
      "Requirement already satisfied: pyyaml>=5.1 in /opt/conda/lib/python3.10/site-packages (from huggingface-hub<1.0.0,>=0.1.0->datasets) (6.0.1)\r\n",
      "Requirement already satisfied: typing-extensions>=3.7.4.3 in /opt/conda/lib/python3.10/site-packages (from huggingface-hub<1.0.0,>=0.1.0->datasets) (4.5.0)\r\n",
      "Requirement already satisfied: pyparsing!=3.0.5,>=2.0.2 in /opt/conda/lib/python3.10/site-packages (from packaging->datasets) (3.0.9)\r\n",
      "Requirement already satisfied: idna<4,>=2.5 in /opt/conda/lib/python3.10/site-packages (from requests>=2.19.0->datasets) (3.4)\r\n",
      "Requirement already satisfied: urllib3<3,>=1.21.1 in /opt/conda/lib/python3.10/site-packages (from requests>=2.19.0->datasets) (1.26.15)\r\n",
      "Requirement already satisfied: certifi>=2017.4.17 in /opt/conda/lib/python3.10/site-packages (from requests>=2.19.0->datasets) (2023.7.22)\r\n",
      "Requirement already satisfied: python-dateutil>=2.8.2 in /opt/conda/lib/python3.10/site-packages (from pandas->datasets) (2.8.2)\r\n",
      "Requirement already satisfied: pytz>=2020.1 in /opt/conda/lib/python3.10/site-packages (from pandas->datasets) (2023.3)\r\n",
      "Requirement already satisfied: tzdata>=2022.1 in /opt/conda/lib/python3.10/site-packages (from pandas->datasets) (2023.3)\r\n",
      "Requirement already satisfied: six>=1.5 in /opt/conda/lib/python3.10/site-packages (from python-dateutil>=2.8.2->pandas->datasets) (1.16.0)\r\n",
      "Requirement already satisfied: transformers in /opt/conda/lib/python3.10/site-packages (4.35.0)\r\n",
      "Requirement already satisfied: filelock in /opt/conda/lib/python3.10/site-packages (from transformers) (3.12.2)\r\n",
      "Requirement already satisfied: huggingface-hub<1.0,>=0.16.4 in /opt/conda/lib/python3.10/site-packages (from transformers) (0.17.3)\r\n",
      "Requirement already satisfied: numpy>=1.17 in /opt/conda/lib/python3.10/site-packages (from transformers) (1.24.3)\r\n",
      "Requirement already satisfied: packaging>=20.0 in /opt/conda/lib/python3.10/site-packages (from transformers) (21.3)\r\n",
      "Requirement already satisfied: pyyaml>=5.1 in /opt/conda/lib/python3.10/site-packages (from transformers) (6.0.1)\r\n",
      "Requirement already satisfied: regex!=2019.12.17 in /opt/conda/lib/python3.10/site-packages (from transformers) (2023.8.8)\r\n",
      "Requirement already satisfied: requests in /opt/conda/lib/python3.10/site-packages (from transformers) (2.31.0)\r\n",
      "Requirement already satisfied: tokenizers<0.15,>=0.14 in /opt/conda/lib/python3.10/site-packages (from transformers) (0.14.1)\r\n",
      "Requirement already satisfied: safetensors>=0.3.1 in /opt/conda/lib/python3.10/site-packages (from transformers) (0.4.0)\r\n",
      "Requirement already satisfied: tqdm>=4.27 in /opt/conda/lib/python3.10/site-packages (from transformers) (4.66.1)\r\n",
      "Requirement already satisfied: fsspec in /opt/conda/lib/python3.10/site-packages (from huggingface-hub<1.0,>=0.16.4->transformers) (2023.10.0)\r\n",
      "Requirement already satisfied: typing-extensions>=3.7.4.3 in /opt/conda/lib/python3.10/site-packages (from huggingface-hub<1.0,>=0.16.4->transformers) (4.5.0)\r\n",
      "Requirement already satisfied: pyparsing!=3.0.5,>=2.0.2 in /opt/conda/lib/python3.10/site-packages (from packaging>=20.0->transformers) (3.0.9)\r\n",
      "Requirement already satisfied: charset-normalizer<4,>=2 in /opt/conda/lib/python3.10/site-packages (from requests->transformers) (3.2.0)\r\n",
      "Requirement already satisfied: idna<4,>=2.5 in /opt/conda/lib/python3.10/site-packages (from requests->transformers) (3.4)\r\n",
      "Requirement already satisfied: urllib3<3,>=1.21.1 in /opt/conda/lib/python3.10/site-packages (from requests->transformers) (1.26.15)\r\n",
      "Requirement already satisfied: certifi>=2017.4.17 in /opt/conda/lib/python3.10/site-packages (from requests->transformers) (2023.7.22)\r\n",
      "Requirement already satisfied: accelerate in /opt/conda/lib/python3.10/site-packages (0.24.1)\r\n",
      "Requirement already satisfied: numpy>=1.17 in /opt/conda/lib/python3.10/site-packages (from accelerate) (1.24.3)\r\n",
      "Requirement already satisfied: packaging>=20.0 in /opt/conda/lib/python3.10/site-packages (from accelerate) (21.3)\r\n",
      "Requirement already satisfied: psutil in /opt/conda/lib/python3.10/site-packages (from accelerate) (5.9.3)\r\n",
      "Requirement already satisfied: pyyaml in /opt/conda/lib/python3.10/site-packages (from accelerate) (6.0.1)\r\n",
      "Requirement already satisfied: torch>=1.10.0 in /opt/conda/lib/python3.10/site-packages (from accelerate) (2.0.0)\r\n",
      "Requirement already satisfied: huggingface-hub in /opt/conda/lib/python3.10/site-packages (from accelerate) (0.17.3)\r\n",
      "Requirement already satisfied: pyparsing!=3.0.5,>=2.0.2 in /opt/conda/lib/python3.10/site-packages (from packaging>=20.0->accelerate) (3.0.9)\r\n",
      "Requirement already satisfied: filelock in /opt/conda/lib/python3.10/site-packages (from torch>=1.10.0->accelerate) (3.12.2)\r\n",
      "Requirement already satisfied: typing-extensions in /opt/conda/lib/python3.10/site-packages (from torch>=1.10.0->accelerate) (4.5.0)\r\n",
      "Requirement already satisfied: sympy in /opt/conda/lib/python3.10/site-packages (from torch>=1.10.0->accelerate) (1.12)\r\n",
      "Requirement already satisfied: networkx in /opt/conda/lib/python3.10/site-packages (from torch>=1.10.0->accelerate) (3.1)\r\n",
      "Requirement already satisfied: jinja2 in /opt/conda/lib/python3.10/site-packages (from torch>=1.10.0->accelerate) (3.1.2)\r\n",
      "Requirement already satisfied: fsspec in /opt/conda/lib/python3.10/site-packages (from huggingface-hub->accelerate) (2023.10.0)\r\n",
      "Requirement already satisfied: requests in /opt/conda/lib/python3.10/site-packages (from huggingface-hub->accelerate) (2.31.0)\r\n",
      "Requirement already satisfied: tqdm>=4.42.1 in /opt/conda/lib/python3.10/site-packages (from huggingface-hub->accelerate) (4.66.1)\r\n",
      "Requirement already satisfied: MarkupSafe>=2.0 in /opt/conda/lib/python3.10/site-packages (from jinja2->torch>=1.10.0->accelerate) (2.1.3)\r\n",
      "Requirement already satisfied: charset-normalizer<4,>=2 in /opt/conda/lib/python3.10/site-packages (from requests->huggingface-hub->accelerate) (3.2.0)\r\n",
      "Requirement already satisfied: idna<4,>=2.5 in /opt/conda/lib/python3.10/site-packages (from requests->huggingface-hub->accelerate) (3.4)\r\n",
      "Requirement already satisfied: urllib3<3,>=1.21.1 in /opt/conda/lib/python3.10/site-packages (from requests->huggingface-hub->accelerate) (1.26.15)\r\n",
      "Requirement already satisfied: certifi>=2017.4.17 in /opt/conda/lib/python3.10/site-packages (from requests->huggingface-hub->accelerate) (2023.7.22)\r\n",
      "Requirement already satisfied: mpmath>=0.19 in /opt/conda/lib/python3.10/site-packages (from sympy->torch>=1.10.0->accelerate) (1.3.0)\r\n",
      "Collecting evaluate\r\n",
      "  Obtaining dependency information for evaluate from https://files.pythonhosted.org/packages/70/63/7644a1eb7b0297e585a6adec98ed9e575309bb973c33b394dae66bc35c69/evaluate-0.4.1-py3-none-any.whl.metadata\r\n",
      "  Downloading evaluate-0.4.1-py3-none-any.whl.metadata (9.4 kB)\r\n",
      "Requirement already satisfied: datasets>=2.0.0 in /opt/conda/lib/python3.10/site-packages (from evaluate) (2.1.0)\r\n",
      "Requirement already satisfied: numpy>=1.17 in /opt/conda/lib/python3.10/site-packages (from evaluate) (1.24.3)\r\n",
      "Requirement already satisfied: dill in /opt/conda/lib/python3.10/site-packages (from evaluate) (0.3.7)\r\n",
      "Requirement already satisfied: pandas in /opt/conda/lib/python3.10/site-packages (from evaluate) (2.0.3)\r\n",
      "Requirement already satisfied: requests>=2.19.0 in /opt/conda/lib/python3.10/site-packages (from evaluate) (2.31.0)\r\n",
      "Requirement already satisfied: tqdm>=4.62.1 in /opt/conda/lib/python3.10/site-packages (from evaluate) (4.66.1)\r\n",
      "Requirement already satisfied: xxhash in /opt/conda/lib/python3.10/site-packages (from evaluate) (3.4.1)\r\n",
      "Requirement already satisfied: multiprocess in /opt/conda/lib/python3.10/site-packages (from evaluate) (0.70.15)\r\n",
      "Requirement already satisfied: fsspec[http]>=2021.05.0 in /opt/conda/lib/python3.10/site-packages (from evaluate) (2023.10.0)\r\n",
      "Requirement already satisfied: huggingface-hub>=0.7.0 in /opt/conda/lib/python3.10/site-packages (from evaluate) (0.17.3)\r\n",
      "Requirement already satisfied: packaging in /opt/conda/lib/python3.10/site-packages (from evaluate) (21.3)\r\n",
      "Requirement already satisfied: responses<0.19 in /opt/conda/lib/python3.10/site-packages (from evaluate) (0.18.0)\r\n",
      "Requirement already satisfied: pyarrow>=5.0.0 in /opt/conda/lib/python3.10/site-packages (from datasets>=2.0.0->evaluate) (11.0.0)\r\n",
      "Requirement already satisfied: aiohttp in /opt/conda/lib/python3.10/site-packages (from datasets>=2.0.0->evaluate) (3.8.5)\r\n",
      "Requirement already satisfied: filelock in /opt/conda/lib/python3.10/site-packages (from huggingface-hub>=0.7.0->evaluate) (3.12.2)\r\n",
      "Requirement already satisfied: pyyaml>=5.1 in /opt/conda/lib/python3.10/site-packages (from huggingface-hub>=0.7.0->evaluate) (6.0.1)\r\n",
      "Requirement already satisfied: typing-extensions>=3.7.4.3 in /opt/conda/lib/python3.10/site-packages (from huggingface-hub>=0.7.0->evaluate) (4.5.0)\r\n",
      "Requirement already satisfied: pyparsing!=3.0.5,>=2.0.2 in /opt/conda/lib/python3.10/site-packages (from packaging->evaluate) (3.0.9)\r\n",
      "Requirement already satisfied: charset-normalizer<4,>=2 in /opt/conda/lib/python3.10/site-packages (from requests>=2.19.0->evaluate) (3.2.0)\r\n",
      "Requirement already satisfied: idna<4,>=2.5 in /opt/conda/lib/python3.10/site-packages (from requests>=2.19.0->evaluate) (3.4)\r\n",
      "Requirement already satisfied: urllib3<3,>=1.21.1 in /opt/conda/lib/python3.10/site-packages (from requests>=2.19.0->evaluate) (1.26.15)\r\n",
      "Requirement already satisfied: certifi>=2017.4.17 in /opt/conda/lib/python3.10/site-packages (from requests>=2.19.0->evaluate) (2023.7.22)\r\n",
      "Requirement already satisfied: python-dateutil>=2.8.2 in /opt/conda/lib/python3.10/site-packages (from pandas->evaluate) (2.8.2)\r\n",
      "Requirement already satisfied: pytz>=2020.1 in /opt/conda/lib/python3.10/site-packages (from pandas->evaluate) (2023.3)\r\n",
      "Requirement already satisfied: tzdata>=2022.1 in /opt/conda/lib/python3.10/site-packages (from pandas->evaluate) (2023.3)\r\n",
      "Requirement already satisfied: attrs>=17.3.0 in /opt/conda/lib/python3.10/site-packages (from aiohttp->datasets>=2.0.0->evaluate) (23.1.0)\r\n",
      "Requirement already satisfied: multidict<7.0,>=4.5 in /opt/conda/lib/python3.10/site-packages (from aiohttp->datasets>=2.0.0->evaluate) (6.0.4)\r\n",
      "Requirement already satisfied: async-timeout<5.0,>=4.0.0a3 in /opt/conda/lib/python3.10/site-packages (from aiohttp->datasets>=2.0.0->evaluate) (4.0.3)\r\n",
      "Requirement already satisfied: yarl<2.0,>=1.0 in /opt/conda/lib/python3.10/site-packages (from aiohttp->datasets>=2.0.0->evaluate) (1.9.2)\r\n",
      "Requirement already satisfied: frozenlist>=1.1.1 in /opt/conda/lib/python3.10/site-packages (from aiohttp->datasets>=2.0.0->evaluate) (1.4.0)\r\n",
      "Requirement already satisfied: aiosignal>=1.1.2 in /opt/conda/lib/python3.10/site-packages (from aiohttp->datasets>=2.0.0->evaluate) (1.3.1)\r\n",
      "Requirement already satisfied: six>=1.5 in /opt/conda/lib/python3.10/site-packages (from python-dateutil>=2.8.2->pandas->evaluate) (1.16.0)\r\n",
      "Downloading evaluate-0.4.1-py3-none-any.whl (84 kB)\r\n",
      "\u001b[2K   \u001b[90m━━━━━━━━━━━━━━━━━━━━━━━━━━━━━━━━━━━━━━━━\u001b[0m \u001b[32m84.1/84.1 kB\u001b[0m \u001b[31m3.3 MB/s\u001b[0m eta \u001b[36m0:00:00\u001b[0m\r\n",
      "\u001b[?25hInstalling collected packages: evaluate\r\n",
      "Successfully installed evaluate-0.4.1\r\n"
     ]
    }
   ],
   "source": [
    "!pip install datasets\n",
    "!pip install transformers\n",
    "!pip install accelerate -U\n",
    "!pip install evaluate\n",
    "!pip install --upgrade -q wandb"
   ]
  },
  {
   "cell_type": "code",
   "execution_count": 3,
   "id": "fe5f2494",
   "metadata": {
    "execution": {
     "iopub.execute_input": "2023-11-24T09:46:28.570659Z",
     "iopub.status.busy": "2023-11-24T09:46:28.570348Z",
     "iopub.status.idle": "2023-11-24T09:46:28.574298Z",
     "shell.execute_reply": "2023-11-24T09:46:28.573538Z"
    },
    "id": "pb83aRzWX3d1",
    "papermill": {
     "duration": 0.018096,
     "end_time": "2023-11-24T09:46:28.576082",
     "exception": false,
     "start_time": "2023-11-24T09:46:28.557986",
     "status": "completed"
    },
    "tags": []
   },
   "outputs": [],
   "source": [
    "# dataset_path = \"/MyDrive/Colab_Notebooks/CSCI-567_project/data/Topic_data/topic_data.csv\"\n",
    "dataset_path = \"/kaggle/input/ad-data/ad_data.csv\""
   ]
  },
  {
   "cell_type": "code",
   "execution_count": 4,
   "id": "a7a6811a",
   "metadata": {
    "execution": {
     "iopub.execute_input": "2023-11-24T09:46:28.599538Z",
     "iopub.status.busy": "2023-11-24T09:46:28.599295Z",
     "iopub.status.idle": "2023-11-24T09:46:30.347270Z",
     "shell.execute_reply": "2023-11-24T09:46:30.346189Z"
    },
    "executionInfo": {
     "elapsed": 1094,
     "status": "error",
     "timestamp": 1698790536833,
     "user": {
      "displayName": "Yusen Luo",
      "userId": "05429475045693260270"
     },
     "user_tz": 420
    },
    "id": "Tqx4lCrOX3d1",
    "outputId": "f3d17ec5-be67-40a5-d55f-278c0a0a4ef6",
    "papermill": {
     "duration": 1.762162,
     "end_time": "2023-11-24T09:46:30.349405",
     "exception": false,
     "start_time": "2023-11-24T09:46:28.587243",
     "status": "completed"
    },
    "tags": []
   },
   "outputs": [
    {
     "name": "stdout",
     "output_type": "stream",
     "text": [
      "<class 'datasets.arrow_dataset.Dataset'>\n"
     ]
    }
   ],
   "source": [
    "import csv\n",
    "from datasets import Dataset, Image\n",
    "# from charset_normalizer import md__mypyc\n",
    "\n",
    "def load_data(data_path):\n",
    "    csv_data_list = []\n",
    "    with open(data_path, encoding=\"UTF-8\") as f:\n",
    "        reader = csv.reader(f)\n",
    "        header_row = next(reader)\n",
    "        # print(header_row)\n",
    "\n",
    "        for row in reader:\n",
    "            csv_data_list.append(row)\n",
    "\n",
    "    # imgs = []\n",
    "    # label_ids = []\n",
    "    # labels = []\n",
    "    path_label_dict = {}\n",
    "    dataset_dict = {'img': [], 'label_id': []}  # \"image\": path,\n",
    "    id2label_dict = {}\n",
    "    label2id_dict = {}\n",
    "\n",
    "\n",
    "    for row in csv_data_list:\n",
    "#         img_path = \"/kaggle/input/ad-data/\" + row[0]\n",
    "        label_id = int(row[1])\n",
    "        if label_id == 0:\n",
    "            img_path = \"/kaggle/input/ad-data/resnet_negative/\" + row[0]\n",
    "        else:\n",
    "            img_path = \"/kaggle/input/csci-567/\" + row[0]\n",
    "        # label_ids.append(label_id)\n",
    "        dataset_dict['label_id'].append(int(label_id))\n",
    "\n",
    "        label_name = row[2]\n",
    "        if label_id not in id2label_dict.keys():\n",
    "            id2label_dict[label_id] = label_name\n",
    "        \n",
    "        if label_name not in label2id_dict.keys():\n",
    "            label2id_dict[label_name] = label_id;\n",
    "        # labels.append(label_name)\n",
    "\n",
    "        # img_file = Image.open(img_path)\n",
    "        # img_array = np.array(img_file)\n",
    "        dataset_dict['img'].append(img_path)\n",
    "\n",
    "\n",
    "\n",
    "        path_label_dict[img_path] = label_id\n",
    "        # print(img_array.shape)\n",
    "\n",
    "    return_dataset = Dataset.from_dict(dataset_dict).cast_column(\"img\", Image())\n",
    "\n",
    "    return return_dataset, id2label_dict, label2id_dict\n",
    "\n",
    "whole_set, id2label, label2id = load_data(dataset_path)\n",
    "splits = whole_set.train_test_split(test_size=0.2)\n",
    "train_val_set = splits['train']\n",
    "test_set = splits['test']\n",
    "splits = train_val_set.train_test_split(test_size=0.25)\n",
    "train_set = splits['train']\n",
    "val_set = splits['test']\n",
    "num_labels = len(id2label)\n",
    "\n",
    "# print(len(whole_set))\n",
    "# print(len(train_set))\n",
    "# print(len(val_set))\n",
    "# print(len(test_set))\n",
    "print(type(train_set))"
   ]
  },
  {
   "cell_type": "code",
   "execution_count": 5,
   "id": "2acc8f02",
   "metadata": {
    "execution": {
     "iopub.execute_input": "2023-11-24T09:46:30.378222Z",
     "iopub.status.busy": "2023-11-24T09:46:30.377775Z",
     "iopub.status.idle": "2023-11-24T09:46:30.381768Z",
     "shell.execute_reply": "2023-11-24T09:46:30.380969Z"
    },
    "id": "-AeIeUlyX3d2",
    "papermill": {
     "duration": 0.02293,
     "end_time": "2023-11-24T09:46:30.383765",
     "exception": false,
     "start_time": "2023-11-24T09:46:30.360835",
     "status": "completed"
    },
    "tags": []
   },
   "outputs": [],
   "source": [
    "# train_set = train_set.train_test_split(test_size=0.01)['test']\n",
    "\n",
    "\n",
    "# print(type(train_set['label_id']))\n",
    "# temp_list = list(id2label.keys())\n",
    "# temp_list.sort()\n",
    "# print(temp_list)"
   ]
  },
  {
   "cell_type": "code",
   "execution_count": 6,
   "id": "98c0f24a",
   "metadata": {
    "execution": {
     "iopub.execute_input": "2023-11-24T09:46:30.408113Z",
     "iopub.status.busy": "2023-11-24T09:46:30.407831Z",
     "iopub.status.idle": "2023-11-24T09:46:30.412592Z",
     "shell.execute_reply": "2023-11-24T09:46:30.411652Z"
    },
    "papermill": {
     "duration": 0.019663,
     "end_time": "2023-11-24T09:46:30.414965",
     "exception": false,
     "start_time": "2023-11-24T09:46:30.395302",
     "status": "completed"
    },
    "tags": []
   },
   "outputs": [
    {
     "name": "stdout",
     "output_type": "stream",
     "text": [
      "<class 'datasets.arrow_dataset.Dataset'>\n",
      "13167\n",
      "2\n"
     ]
    }
   ],
   "source": [
    "print(type(train_set))\n",
    "print(len(train_set))\n",
    "print(num_labels)"
   ]
  },
  {
   "cell_type": "code",
   "execution_count": 7,
   "id": "903d8005",
   "metadata": {
    "execution": {
     "iopub.execute_input": "2023-11-24T09:46:30.444134Z",
     "iopub.status.busy": "2023-11-24T09:46:30.443380Z",
     "iopub.status.idle": "2023-11-24T09:46:30.448961Z",
     "shell.execute_reply": "2023-11-24T09:46:30.447711Z"
    },
    "papermill": {
     "duration": 0.019999,
     "end_time": "2023-11-24T09:46:30.450895",
     "exception": false,
     "start_time": "2023-11-24T09:46:30.430896",
     "status": "completed"
    },
    "tags": []
   },
   "outputs": [
    {
     "name": "stdout",
     "output_type": "stream",
     "text": [
      "{1: 'ad', 0: 'not_ad'}\n",
      "{'ad': 1, 'not_ad': 0}\n"
     ]
    }
   ],
   "source": [
    "print(id2label)\n",
    "print(label2id)"
   ]
  },
  {
   "cell_type": "markdown",
   "id": "da85fc54",
   "metadata": {
    "id": "CFm2H01sX3d3",
    "papermill": {
     "duration": 0.011496,
     "end_time": "2023-11-24T09:46:30.473629",
     "exception": false,
     "start_time": "2023-11-24T09:46:30.462133",
     "status": "completed"
    },
    "tags": []
   },
   "source": [
    "## Preprocessing"
   ]
  },
  {
   "cell_type": "code",
   "execution_count": 8,
   "id": "19e99b1f",
   "metadata": {
    "execution": {
     "iopub.execute_input": "2023-11-24T09:46:30.498451Z",
     "iopub.status.busy": "2023-11-24T09:46:30.497724Z",
     "iopub.status.idle": "2023-11-24T09:46:45.515390Z",
     "shell.execute_reply": "2023-11-24T09:46:45.514518Z"
    },
    "id": "fboT5WThX3d3",
    "papermill": {
     "duration": 15.036598,
     "end_time": "2023-11-24T09:46:45.521588",
     "exception": false,
     "start_time": "2023-11-24T09:46:30.484990",
     "status": "completed"
    },
    "tags": []
   },
   "outputs": [
    {
     "name": "stderr",
     "output_type": "stream",
     "text": [
      "/opt/conda/lib/python3.10/site-packages/scipy/__init__.py:146: UserWarning: A NumPy version >=1.16.5 and <1.23.0 is required for this version of SciPy (detected version 1.24.3\n",
      "  warnings.warn(f\"A NumPy version >={np_minversion} and <{np_maxversion}\"\n"
     ]
    },
    {
     "data": {
      "application/vnd.jupyter.widget-view+json": {
       "model_id": "748996f36acd4b6fa309f82b85bd80cf",
       "version_major": 2,
       "version_minor": 0
      },
      "text/plain": [
       "Downloading (…)rocessor_config.json:   0%|          | 0.00/276 [00:00<?, ?B/s]"
      ]
     },
     "metadata": {},
     "output_type": "display_data"
    }
   ],
   "source": [
    "from transformers import ViTImageProcessor, BeitImageProcessor\n",
    "\n",
    "processor = BeitImageProcessor.from_pretrained('microsoft/beit-base-patch16-224', num_labels = num_labels)"
   ]
  },
  {
   "cell_type": "code",
   "execution_count": 9,
   "id": "5251d093",
   "metadata": {
    "execution": {
     "iopub.execute_input": "2023-11-24T09:46:45.546512Z",
     "iopub.status.busy": "2023-11-24T09:46:45.545670Z",
     "iopub.status.idle": "2023-11-24T09:46:45.801717Z",
     "shell.execute_reply": "2023-11-24T09:46:45.801016Z"
    },
    "id": "fshBFRxaX3d3",
    "papermill": {
     "duration": 0.270509,
     "end_time": "2023-11-24T09:46:45.803866",
     "exception": false,
     "start_time": "2023-11-24T09:46:45.533357",
     "status": "completed"
    },
    "tags": []
   },
   "outputs": [],
   "source": [
    "from torchvision.transforms import (CenterCrop,\n",
    "                                    Compose,\n",
    "                                    Normalize,\n",
    "                                    RandomHorizontalFlip,\n",
    "                                    RandomResizedCrop,\n",
    "                                    Resize,\n",
    "                                    ToTensor,\n",
    "                                    RandomRotation)\n",
    "\n",
    "image_mean, image_std = processor.image_mean, processor.image_std\n",
    "size = processor.size\n",
    "# size = processor.size[\"height\"]\n",
    "\n",
    "normalize = Normalize(mean=image_mean, std=image_std)\n",
    "transform_train = Compose(\n",
    "        [\n",
    "            Resize([size[\"height\"], size[\"width\"]]),\n",
    "#             RandomResizedCrop(size),\n",
    "            RandomHorizontalFlip(),\n",
    "            RandomRotation(30),\n",
    "            ToTensor(),\n",
    "            normalize,\n",
    "        ]\n",
    "    )\n",
    "\n",
    "transform_val = Compose(\n",
    "        [\n",
    "            Resize([size[\"height\"], size[\"width\"]]),\n",
    "            # CenterCrop(size),\n",
    "            ToTensor(),\n",
    "            normalize,\n",
    "        ]\n",
    "    )\n",
    "\n",
    "def train_transforms(examples):\n",
    "    examples['pixel_values'] = [transform_train(image.convert(\"RGB\")) for image in examples['img']]\n",
    "    return examples\n",
    "\n",
    "def val_transforms(examples):\n",
    "    examples['pixel_values'] = [transform_val(image.convert(\"RGB\")) for image in examples['img']]\n",
    "    return examples"
   ]
  },
  {
   "cell_type": "code",
   "execution_count": 10,
   "id": "9cb20694",
   "metadata": {
    "execution": {
     "iopub.execute_input": "2023-11-24T09:46:45.828230Z",
     "iopub.status.busy": "2023-11-24T09:46:45.827951Z",
     "iopub.status.idle": "2023-11-24T09:46:45.832424Z",
     "shell.execute_reply": "2023-11-24T09:46:45.831663Z"
    },
    "id": "8Zq9ojkMX3d3",
    "papermill": {
     "duration": 0.018615,
     "end_time": "2023-11-24T09:46:45.834276",
     "exception": false,
     "start_time": "2023-11-24T09:46:45.815661",
     "status": "completed"
    },
    "tags": []
   },
   "outputs": [
    {
     "name": "stdout",
     "output_type": "stream",
     "text": [
      "{'height': 224, 'width': 224}\n"
     ]
    }
   ],
   "source": [
    "print(size)"
   ]
  },
  {
   "cell_type": "code",
   "execution_count": 11,
   "id": "32df34bc",
   "metadata": {
    "execution": {
     "iopub.execute_input": "2023-11-24T09:46:45.858254Z",
     "iopub.status.busy": "2023-11-24T09:46:45.857990Z",
     "iopub.status.idle": "2023-11-24T09:46:45.864632Z",
     "shell.execute_reply": "2023-11-24T09:46:45.863830Z"
    },
    "id": "eO0clYcvX3d3",
    "papermill": {
     "duration": 0.020828,
     "end_time": "2023-11-24T09:46:45.866599",
     "exception": false,
     "start_time": "2023-11-24T09:46:45.845771",
     "status": "completed"
    },
    "tags": []
   },
   "outputs": [],
   "source": [
    "train_set.set_transform(train_transforms)\n",
    "val_set.set_transform(val_transforms)\n",
    "test_set.set_transform(val_transforms)"
   ]
  },
  {
   "cell_type": "markdown",
   "id": "8ff78850",
   "metadata": {
    "id": "L4jaZR5IX3d4",
    "papermill": {
     "duration": 0.01138,
     "end_time": "2023-11-24T09:46:45.889495",
     "exception": false,
     "start_time": "2023-11-24T09:46:45.878115",
     "status": "completed"
    },
    "tags": []
   },
   "source": [
    "## Define the model"
   ]
  },
  {
   "cell_type": "code",
   "execution_count": 12,
   "id": "2bfc06e0",
   "metadata": {
    "execution": {
     "iopub.execute_input": "2023-11-24T09:46:45.913508Z",
     "iopub.status.busy": "2023-11-24T09:46:45.913266Z",
     "iopub.status.idle": "2023-11-24T09:46:45.992236Z",
     "shell.execute_reply": "2023-11-24T09:46:45.991338Z"
    },
    "papermill": {
     "duration": 0.093117,
     "end_time": "2023-11-24T09:46:45.994158",
     "exception": false,
     "start_time": "2023-11-24T09:46:45.901041",
     "status": "completed"
    },
    "tags": []
   },
   "outputs": [
    {
     "name": "stdout",
     "output_type": "stream",
     "text": [
      "cuda\n"
     ]
    }
   ],
   "source": [
    "import torch\n",
    "\n",
    "device = torch.device(\"cuda\" if torch.cuda.is_available() else \"cpu\")\n",
    "# device = \"cpu\"\n",
    "print(device)"
   ]
  },
  {
   "cell_type": "code",
   "execution_count": 13,
   "id": "2a171722",
   "metadata": {
    "execution": {
     "iopub.execute_input": "2023-11-24T09:46:46.018461Z",
     "iopub.status.busy": "2023-11-24T09:46:46.018206Z",
     "iopub.status.idle": "2023-11-24T09:46:59.442919Z",
     "shell.execute_reply": "2023-11-24T09:46:59.442093Z"
    },
    "id": "YrNUbk40X3d4",
    "papermill": {
     "duration": 13.43942,
     "end_time": "2023-11-24T09:46:59.445215",
     "exception": false,
     "start_time": "2023-11-24T09:46:46.005795",
     "status": "completed"
    },
    "tags": []
   },
   "outputs": [
    {
     "data": {
      "application/vnd.jupyter.widget-view+json": {
       "model_id": "382f52326c7b43f19b594fb3aa69978a",
       "version_major": 2,
       "version_minor": 0
      },
      "text/plain": [
       "Downloading config.json:   0%|          | 0.00/69.9k [00:00<?, ?B/s]"
      ]
     },
     "metadata": {},
     "output_type": "display_data"
    },
    {
     "data": {
      "application/vnd.jupyter.widget-view+json": {
       "model_id": "b5bee2e9703040caba90f92740ffa510",
       "version_major": 2,
       "version_minor": 0
      },
      "text/plain": [
       "Downloading pytorch_model.bin:   0%|          | 0.00/350M [00:00<?, ?B/s]"
      ]
     },
     "metadata": {},
     "output_type": "display_data"
    },
    {
     "name": "stderr",
     "output_type": "stream",
     "text": [
      "Some weights of BeitForImageClassification were not initialized from the model checkpoint at microsoft/beit-base-patch16-224 and are newly initialized because the shapes did not match:\n",
      "- classifier.weight: found shape torch.Size([1000, 768]) in the checkpoint and torch.Size([2, 768]) in the model instantiated\n",
      "- classifier.bias: found shape torch.Size([1000]) in the checkpoint and torch.Size([2]) in the model instantiated\n",
      "You should probably TRAIN this model on a down-stream task to be able to use it for predictions and inference.\n"
     ]
    }
   ],
   "source": [
    "from transformers import BeitForImageClassification\n",
    "\n",
    "model = BeitForImageClassification.from_pretrained\\\n",
    "        ('microsoft/beit-base-patch16-224',\n",
    "         id2label=id2label,\n",
    "         label2id=label2id,\n",
    "         ignore_mismatched_sizes=True,\n",
    "         num_labels = num_labels)\n",
    "\n",
    "model = model.to(device)"
   ]
  },
  {
   "cell_type": "code",
   "execution_count": 14,
   "id": "21087be1",
   "metadata": {
    "execution": {
     "iopub.execute_input": "2023-11-24T09:46:59.471438Z",
     "iopub.status.busy": "2023-11-24T09:46:59.470680Z",
     "iopub.status.idle": "2023-11-24T09:46:59.476335Z",
     "shell.execute_reply": "2023-11-24T09:46:59.475580Z"
    },
    "id": "b8E83UPRX3d4",
    "papermill": {
     "duration": 0.020337,
     "end_time": "2023-11-24T09:46:59.478113",
     "exception": false,
     "start_time": "2023-11-24T09:46:59.457776",
     "status": "completed"
    },
    "tags": []
   },
   "outputs": [],
   "source": [
    "import torch\n",
    "def collate_fn(examples):\n",
    "    pixel_values = torch.stack([example[\"pixel_values\"] for example in examples])\n",
    "    # labels = torch.tensor([example[\"label\"] for example in examples])\n",
    "    labels = torch.tensor([example[\"label_id\"] for example in examples])\n",
    "    return {\"pixel_values\": pixel_values, \"labels\": labels}"
   ]
  },
  {
   "cell_type": "code",
   "execution_count": 15,
   "id": "be701781",
   "metadata": {
    "execution": {
     "iopub.execute_input": "2023-11-24T09:46:59.503288Z",
     "iopub.status.busy": "2023-11-24T09:46:59.502697Z",
     "iopub.status.idle": "2023-11-24T09:47:00.193550Z",
     "shell.execute_reply": "2023-11-24T09:47:00.192607Z"
    },
    "id": "7h6v_H9kX3d4",
    "papermill": {
     "duration": 0.70575,
     "end_time": "2023-11-24T09:47:00.195833",
     "exception": false,
     "start_time": "2023-11-24T09:46:59.490083",
     "status": "completed"
    },
    "tags": []
   },
   "outputs": [],
   "source": [
    "from transformers import TrainingArguments, Trainer\n",
    "\n",
    "metric_name = \"accuracy\"\n",
    "\n",
    "args = TrainingArguments(\n",
    "    f\"checkpoints\",\n",
    "    save_strategy=\"epoch\",\n",
    "    evaluation_strategy=\"epoch\",\n",
    "    learning_rate=1e-5,\n",
    "    per_device_train_batch_size=15, # 10\n",
    "    per_device_eval_batch_size=15, # 4\n",
    "    num_train_epochs=15, # 3\n",
    "    weight_decay=0.01,\n",
    "    load_best_model_at_end=True,\n",
    "    metric_for_best_model=metric_name,\n",
    "    logging_dir='logs',\n",
    "    remove_unused_columns=False,\n",
    "    save_total_limit=5,\n",
    ")"
   ]
  },
  {
   "cell_type": "code",
   "execution_count": 16,
   "id": "ad3dc32d",
   "metadata": {
    "execution": {
     "iopub.execute_input": "2023-11-24T09:47:00.221921Z",
     "iopub.status.busy": "2023-11-24T09:47:00.221334Z",
     "iopub.status.idle": "2023-11-24T09:47:02.884350Z",
     "shell.execute_reply": "2023-11-24T09:47:02.883604Z"
    },
    "id": "WycC0YOCX3d4",
    "papermill": {
     "duration": 2.677917,
     "end_time": "2023-11-24T09:47:02.886289",
     "exception": false,
     "start_time": "2023-11-24T09:47:00.208372",
     "status": "completed"
    },
    "tags": []
   },
   "outputs": [
    {
     "data": {
      "application/vnd.jupyter.widget-view+json": {
       "model_id": "f58724ad8327458a82dfc4f80ec9325e",
       "version_major": 2,
       "version_minor": 0
      },
      "text/plain": [
       "Downloading builder script:   0%|          | 0.00/1.41k [00:00<?, ?B/s]"
      ]
     },
     "metadata": {},
     "output_type": "display_data"
    }
   ],
   "source": [
    "from datasets import load_metric\n",
    "from sklearn.metrics import accuracy_score\n",
    "import numpy as np\n",
    "import evaluate\n",
    "import torch\n",
    "\n",
    "# def compute_metrics(eval_pred):\n",
    "#     predictions, labels = eval_pred\n",
    "#     predictions = np.argmax(predictions, axis=1)\n",
    "#     return dict(accuracy=accuracy_score(predictions, labels))\n",
    "\n",
    "# def compute_metrics(eval_preds):\n",
    "#     metric = evaluate.load(\"glue\", \"mrpc\")\n",
    "#     logits, labels = eval_preds\n",
    "#     predictions = np.argmax(logits, axis=-1)\n",
    "#     return metric.compute(predictions=predictions, references=labels)\n",
    "\n",
    "metric = load_metric(\"accuracy\")\n",
    "def compute_metrics(eval_pred):\n",
    "    predictions = np.argmax(eval_pred.predictions, axis=1)\n",
    "    return metric.compute(predictions=predictions, references=eval_pred.label_ids)\n",
    "\n"
   ]
  },
  {
   "cell_type": "code",
   "execution_count": 17,
   "id": "29fa2cd2",
   "metadata": {
    "execution": {
     "iopub.execute_input": "2023-11-24T09:47:02.956233Z",
     "iopub.status.busy": "2023-11-24T09:47:02.955900Z",
     "iopub.status.idle": "2023-11-24T09:47:03.538430Z",
     "shell.execute_reply": "2023-11-24T09:47:03.537667Z"
    },
    "id": "wCOevTqbX3d4",
    "papermill": {
     "duration": 0.598315,
     "end_time": "2023-11-24T09:47:03.540546",
     "exception": false,
     "start_time": "2023-11-24T09:47:02.942231",
     "status": "completed"
    },
    "tags": []
   },
   "outputs": [],
   "source": [
    "import torch\n",
    "\n",
    "trainer = Trainer(\n",
    "    model,\n",
    "    args,\n",
    "    train_dataset=train_set,\n",
    "    eval_dataset=val_set,\n",
    "    data_collator=collate_fn,\n",
    "    compute_metrics=compute_metrics,\n",
    "    tokenizer=processor,\n",
    ")"
   ]
  },
  {
   "cell_type": "code",
   "execution_count": 18,
   "id": "75836bdd",
   "metadata": {
    "execution": {
     "iopub.execute_input": "2023-11-24T09:47:03.566584Z",
     "iopub.status.busy": "2023-11-24T09:47:03.566318Z",
     "iopub.status.idle": "2023-11-24T09:47:03.570769Z",
     "shell.execute_reply": "2023-11-24T09:47:03.569924Z"
    },
    "id": "P49LvwB3X3d4",
    "papermill": {
     "duration": 0.019766,
     "end_time": "2023-11-24T09:47:03.572923",
     "exception": false,
     "start_time": "2023-11-24T09:47:03.553157",
     "status": "completed"
    },
    "tags": []
   },
   "outputs": [
    {
     "name": "stdout",
     "output_type": "stream",
     "text": [
      "<class 'transformers.models.beit.modeling_beit.BeitForImageClassification'>\n"
     ]
    }
   ],
   "source": [
    "print(type(model))"
   ]
  },
  {
   "cell_type": "markdown",
   "id": "358d5fd2",
   "metadata": {
    "id": "FVTlewZSX3d5",
    "papermill": {
     "duration": 0.012181,
     "end_time": "2023-11-24T09:47:03.597374",
     "exception": false,
     "start_time": "2023-11-24T09:47:03.585193",
     "status": "completed"
    },
    "tags": []
   },
   "source": [
    "## Train model"
   ]
  },
  {
   "cell_type": "code",
   "execution_count": 19,
   "id": "eda0ddcb",
   "metadata": {
    "execution": {
     "iopub.execute_input": "2023-11-24T09:47:03.624103Z",
     "iopub.status.busy": "2023-11-24T09:47:03.623755Z",
     "iopub.status.idle": "2023-11-24T09:47:05.273927Z",
     "shell.execute_reply": "2023-11-24T09:47:05.273045Z"
    },
    "papermill": {
     "duration": 1.666214,
     "end_time": "2023-11-24T09:47:05.275831",
     "exception": false,
     "start_time": "2023-11-24T09:47:03.609617",
     "status": "completed"
    },
    "tags": []
   },
   "outputs": [
    {
     "name": "stderr",
     "output_type": "stream",
     "text": [
      "\u001b[34m\u001b[1mwandb\u001b[0m: W&B API key is configured. Use \u001b[1m`wandb login --relogin`\u001b[0m to force relogin\n",
      "\u001b[34m\u001b[1mwandb\u001b[0m: \u001b[33mWARNING\u001b[0m If you're specifying your api key in code, ensure this code is not shared publicly.\n",
      "\u001b[34m\u001b[1mwandb\u001b[0m: \u001b[33mWARNING\u001b[0m Consider setting the WANDB_API_KEY environment variable, or running `wandb login` from the command line.\n",
      "\u001b[34m\u001b[1mwandb\u001b[0m: Appending key for api.wandb.ai to your netrc file: /root/.netrc\n"
     ]
    },
    {
     "data": {
      "text/plain": [
       "True"
      ]
     },
     "execution_count": 19,
     "metadata": {},
     "output_type": "execute_result"
    }
   ],
   "source": [
    "import wandb\n",
    "from wandb.keras import WandbCallback\n",
    "\n",
    "from kaggle_secrets import UserSecretsClient\n",
    "\n",
    "user_secrets = UserSecretsClient()\n",
    "\n",
    "# I have saved my API token with \"wandb_api\" as Label. \n",
    "# If you use some other Label make sure to change the same below. \n",
    "wandb_api = user_secrets.get_secret(\"wandb_api\") \n",
    "\n",
    "wandb.login(key=wandb_api)"
   ]
  },
  {
   "cell_type": "code",
   "execution_count": 20,
   "id": "6162ef17",
   "metadata": {
    "execution": {
     "iopub.execute_input": "2023-11-24T09:47:05.302719Z",
     "iopub.status.busy": "2023-11-24T09:47:05.302431Z",
     "iopub.status.idle": "2023-11-24T09:47:05.306690Z",
     "shell.execute_reply": "2023-11-24T09:47:05.305751Z"
    },
    "papermill": {
     "duration": 0.019836,
     "end_time": "2023-11-24T09:47:05.308697",
     "exception": false,
     "start_time": "2023-11-24T09:47:05.288861",
     "status": "completed"
    },
    "tags": []
   },
   "outputs": [],
   "source": [
    "from PIL import Image\n",
    "\n",
    "Image.MAX_IMAGE_PIXELS = None  # 移除限制"
   ]
  },
  {
   "cell_type": "code",
   "execution_count": 21,
   "id": "9c1a69fc",
   "metadata": {
    "execution": {
     "iopub.execute_input": "2023-11-24T09:47:05.336104Z",
     "iopub.status.busy": "2023-11-24T09:47:05.335801Z",
     "iopub.status.idle": "2023-11-24T13:41:55.840927Z",
     "shell.execute_reply": "2023-11-24T13:41:55.839895Z"
    },
    "id": "hmuzxwlcX3d5",
    "outputId": "71499808-c612-4d31-c619-c7d69123b921",
    "papermill": {
     "duration": 14090.52272,
     "end_time": "2023-11-24T13:41:55.844447",
     "exception": false,
     "start_time": "2023-11-24T09:47:05.321727",
     "status": "completed"
    },
    "tags": []
   },
   "outputs": [
    {
     "name": "stderr",
     "output_type": "stream",
     "text": [
      "\u001b[34m\u001b[1mwandb\u001b[0m: Currently logged in as: \u001b[33myusenluo\u001b[0m (\u001b[33mcsci567\u001b[0m). Use \u001b[1m`wandb login --relogin`\u001b[0m to force relogin\n",
      "\u001b[34m\u001b[1mwandb\u001b[0m: Tracking run with wandb version 0.16.0\n",
      "\u001b[34m\u001b[1mwandb\u001b[0m: Run data is saved locally in \u001b[35m\u001b[1m/kaggle/working/wandb/run-20231124_094705-i5i7k95f\u001b[0m\n",
      "\u001b[34m\u001b[1mwandb\u001b[0m: Run \u001b[1m`wandb offline`\u001b[0m to turn off syncing.\n",
      "\u001b[34m\u001b[1mwandb\u001b[0m: Syncing run \u001b[33mbrisk-mountain-9\u001b[0m\n",
      "\u001b[34m\u001b[1mwandb\u001b[0m: ⭐️ View project at \u001b[34m\u001b[4mhttps://wandb.ai/csci567/huggingface\u001b[0m\n",
      "\u001b[34m\u001b[1mwandb\u001b[0m: 🚀 View run at \u001b[34m\u001b[4mhttps://wandb.ai/csci567/huggingface/runs/i5i7k95f\u001b[0m\n"
     ]
    },
    {
     "data": {
      "text/html": [
       "\n",
       "    <div>\n",
       "      \n",
       "      <progress value='13170' max='13170' style='width:300px; height:20px; vertical-align: middle;'></progress>\n",
       "      [13170/13170 3:54:13, Epoch 15/15]\n",
       "    </div>\n",
       "    <table border=\"1\" class=\"dataframe\">\n",
       "  <thead>\n",
       " <tr style=\"text-align: left;\">\n",
       "      <th>Epoch</th>\n",
       "      <th>Training Loss</th>\n",
       "      <th>Validation Loss</th>\n",
       "      <th>Accuracy</th>\n",
       "    </tr>\n",
       "  </thead>\n",
       "  <tbody>\n",
       "    <tr>\n",
       "      <td>1</td>\n",
       "      <td>0.393700</td>\n",
       "      <td>0.341534</td>\n",
       "      <td>0.855548</td>\n",
       "    </tr>\n",
       "    <tr>\n",
       "      <td>2</td>\n",
       "      <td>0.284600</td>\n",
       "      <td>0.273377</td>\n",
       "      <td>0.887674</td>\n",
       "    </tr>\n",
       "    <tr>\n",
       "      <td>3</td>\n",
       "      <td>0.245700</td>\n",
       "      <td>0.288297</td>\n",
       "      <td>0.890864</td>\n",
       "    </tr>\n",
       "    <tr>\n",
       "      <td>4</td>\n",
       "      <td>0.194400</td>\n",
       "      <td>0.313538</td>\n",
       "      <td>0.880383</td>\n",
       "    </tr>\n",
       "    <tr>\n",
       "      <td>5</td>\n",
       "      <td>0.162300</td>\n",
       "      <td>0.341207</td>\n",
       "      <td>0.888585</td>\n",
       "    </tr>\n",
       "    <tr>\n",
       "      <td>6</td>\n",
       "      <td>0.141800</td>\n",
       "      <td>0.368806</td>\n",
       "      <td>0.881978</td>\n",
       "    </tr>\n",
       "    <tr>\n",
       "      <td>7</td>\n",
       "      <td>0.114000</td>\n",
       "      <td>0.428422</td>\n",
       "      <td>0.886762</td>\n",
       "    </tr>\n",
       "    <tr>\n",
       "      <td>8</td>\n",
       "      <td>0.105100</td>\n",
       "      <td>0.462692</td>\n",
       "      <td>0.888357</td>\n",
       "    </tr>\n",
       "    <tr>\n",
       "      <td>9</td>\n",
       "      <td>0.074500</td>\n",
       "      <td>0.554768</td>\n",
       "      <td>0.883117</td>\n",
       "    </tr>\n",
       "    <tr>\n",
       "      <td>10</td>\n",
       "      <td>0.070100</td>\n",
       "      <td>0.572783</td>\n",
       "      <td>0.886307</td>\n",
       "    </tr>\n",
       "    <tr>\n",
       "      <td>11</td>\n",
       "      <td>0.062900</td>\n",
       "      <td>0.633898</td>\n",
       "      <td>0.892003</td>\n",
       "    </tr>\n",
       "    <tr>\n",
       "      <td>12</td>\n",
       "      <td>0.049400</td>\n",
       "      <td>0.671094</td>\n",
       "      <td>0.887446</td>\n",
       "    </tr>\n",
       "    <tr>\n",
       "      <td>13</td>\n",
       "      <td>0.042100</td>\n",
       "      <td>0.690635</td>\n",
       "      <td>0.890408</td>\n",
       "    </tr>\n",
       "    <tr>\n",
       "      <td>14</td>\n",
       "      <td>0.047400</td>\n",
       "      <td>0.716780</td>\n",
       "      <td>0.889724</td>\n",
       "    </tr>\n",
       "    <tr>\n",
       "      <td>15</td>\n",
       "      <td>0.039600</td>\n",
       "      <td>0.711000</td>\n",
       "      <td>0.890864</td>\n",
       "    </tr>\n",
       "  </tbody>\n",
       "</table><p>"
      ],
      "text/plain": [
       "<IPython.core.display.HTML object>"
      ]
     },
     "metadata": {},
     "output_type": "display_data"
    }
   ],
   "source": [
    "train_results = trainer.train()"
   ]
  },
  {
   "cell_type": "code",
   "execution_count": 22,
   "id": "47c9cf21",
   "metadata": {
    "execution": {
     "iopub.execute_input": "2023-11-24T13:41:55.877412Z",
     "iopub.status.busy": "2023-11-24T13:41:55.876325Z",
     "iopub.status.idle": "2023-11-24T13:41:55.886093Z",
     "shell.execute_reply": "2023-11-24T13:41:55.884891Z"
    },
    "id": "79pPbTrPX3d5",
    "papermill": {
     "duration": 0.028203,
     "end_time": "2023-11-24T13:41:55.888214",
     "exception": false,
     "start_time": "2023-11-24T13:41:55.860011",
     "status": "completed"
    },
    "tags": []
   },
   "outputs": [
    {
     "name": "stdout",
     "output_type": "stream",
     "text": [
      "***** train metrics *****\n",
      "  epoch                    =          15.0\n",
      "  total_flos               = 14247851306GF\n",
      "  train_loss               =        0.1321\n",
      "  train_runtime            =    3:54:50.18\n",
      "  train_samples_per_second =        14.017\n",
      "  train_steps_per_second   =         0.935\n"
     ]
    }
   ],
   "source": [
    "trainer.log_metrics(\"train\", train_results.metrics)"
   ]
  },
  {
   "cell_type": "code",
   "execution_count": 23,
   "id": "a628df0b",
   "metadata": {
    "execution": {
     "iopub.execute_input": "2023-11-24T13:41:55.919592Z",
     "iopub.status.busy": "2023-11-24T13:41:55.919224Z",
     "iopub.status.idle": "2023-11-24T13:45:52.036793Z",
     "shell.execute_reply": "2023-11-24T13:45:52.035873Z"
    },
    "id": "FPvZELYFX3d5",
    "papermill": {
     "duration": 236.135743,
     "end_time": "2023-11-24T13:45:52.038843",
     "exception": false,
     "start_time": "2023-11-24T13:41:55.903100",
     "status": "completed"
    },
    "tags": []
   },
   "outputs": [
    {
     "data": {
      "text/html": [],
      "text/plain": [
       "<IPython.core.display.HTML object>"
      ]
     },
     "metadata": {},
     "output_type": "display_data"
    }
   ],
   "source": [
    "test_outputs = trainer.predict(test_set)"
   ]
  },
  {
   "cell_type": "code",
   "execution_count": 24,
   "id": "80ada3bf",
   "metadata": {
    "execution": {
     "iopub.execute_input": "2023-11-24T13:45:52.068407Z",
     "iopub.status.busy": "2023-11-24T13:45:52.067861Z",
     "iopub.status.idle": "2023-11-24T13:45:52.072964Z",
     "shell.execute_reply": "2023-11-24T13:45:52.072154Z"
    },
    "papermill": {
     "duration": 0.021908,
     "end_time": "2023-11-24T13:45:52.074918",
     "exception": false,
     "start_time": "2023-11-24T13:45:52.053010",
     "status": "completed"
    },
    "tags": []
   },
   "outputs": [
    {
     "name": "stdout",
     "output_type": "stream",
     "text": [
      "<class 'datasets.arrow_dataset.Dataset'>\n"
     ]
    }
   ],
   "source": [
    "print(type(test_set))"
   ]
  },
  {
   "cell_type": "code",
   "execution_count": 25,
   "id": "18c54924",
   "metadata": {
    "execution": {
     "iopub.execute_input": "2023-11-24T13:45:52.103982Z",
     "iopub.status.busy": "2023-11-24T13:45:52.103346Z",
     "iopub.status.idle": "2023-11-24T13:45:52.126669Z",
     "shell.execute_reply": "2023-11-24T13:45:52.125882Z"
    },
    "id": "Sx4l83mFX3d5",
    "papermill": {
     "duration": 0.040026,
     "end_time": "2023-11-24T13:45:52.128632",
     "exception": false,
     "start_time": "2023-11-24T13:45:52.088606",
     "status": "completed"
    },
    "tags": []
   },
   "outputs": [
    {
     "name": "stdout",
     "output_type": "stream",
     "text": [
      "acurracy 0.8947368421052632\n",
      "precision 0.8880536932144042\n",
      "recall 0.8896087769692467\n",
      "f1_score 0.8888138893616722\n"
     ]
    }
   ],
   "source": [
    "from sklearn.metrics import confusion_matrix, ConfusionMatrixDisplay, accuracy_score, precision_score, recall_score, f1_score\n",
    "\n",
    "y_true = test_outputs.label_ids\n",
    "y_pred = test_outputs.predictions.argmax(1)\n",
    "\n",
    "print(\"acurracy\", accuracy_score(y_true, y_pred))\n",
    "print(\"precision\", precision_score(y_true, y_pred, average='macro'))\n",
    "print(\"recall\", recall_score(y_true, y_pred, average='macro'))\n",
    "print(\"f1_score\", f1_score(y_true, y_pred, average='macro'))\n",
    "\n",
    "\n",
    "\n"
   ]
  },
  {
   "cell_type": "markdown",
   "id": "d394cdca",
   "metadata": {
    "papermill": {
     "duration": 0.01363,
     "end_time": "2023-11-24T13:45:52.156113",
     "exception": false,
     "start_time": "2023-11-24T13:45:52.142483",
     "status": "completed"
    },
    "tags": []
   },
   "source": [
    "## Save the model"
   ]
  },
  {
   "cell_type": "code",
   "execution_count": 26,
   "id": "6059536c",
   "metadata": {
    "execution": {
     "iopub.execute_input": "2023-11-24T13:45:52.184801Z",
     "iopub.status.busy": "2023-11-24T13:45:52.184521Z",
     "iopub.status.idle": "2023-11-24T13:45:52.857632Z",
     "shell.execute_reply": "2023-11-24T13:45:52.856849Z"
    },
    "papermill": {
     "duration": 0.689935,
     "end_time": "2023-11-24T13:45:52.859774",
     "exception": false,
     "start_time": "2023-11-24T13:45:52.169839",
     "status": "completed"
    },
    "tags": []
   },
   "outputs": [],
   "source": [
    "pt_save_directory = \"./pt_save_pretrained_ad\"\n",
    "processor.save_pretrained(pt_save_directory)\n",
    "model.save_pretrained(pt_save_directory)"
   ]
  },
  {
   "cell_type": "code",
   "execution_count": 27,
   "id": "69cafb26",
   "metadata": {
    "execution": {
     "iopub.execute_input": "2023-11-24T13:45:52.889292Z",
     "iopub.status.busy": "2023-11-24T13:45:52.888998Z",
     "iopub.status.idle": "2023-11-24T13:45:54.215454Z",
     "shell.execute_reply": "2023-11-24T13:45:54.214417Z"
    },
    "papermill": {
     "duration": 1.343752,
     "end_time": "2023-11-24T13:45:54.217894",
     "exception": false,
     "start_time": "2023-11-24T13:45:52.874142",
     "status": "completed"
    },
    "tags": []
   },
   "outputs": [
    {
     "name": "stdout",
     "output_type": "stream",
     "text": [
      "JPEG\n",
      "torch.Size([1, 2])\n",
      "tensor([1])\n"
     ]
    }
   ],
   "source": [
    "from transformers import AutoModelForSequenceClassification, BeitForImageClassification, AutoImageProcessor\n",
    "from PIL import Image\n",
    "\n",
    "pt_model = BeitForImageClassification.from_pretrained(\"./pt_save_pretrained_ad\")\n",
    "pt_processor = AutoImageProcessor.from_pretrained(\"./pt_save_pretrained_ad\")\n",
    "\n",
    "test_input_img_path = \"/kaggle/input/csci-567/\" + \"7/62717.jpg\"\n",
    "\n",
    " \n",
    "test_input_img_PIL = Image.open(test_input_img_path)\n",
    "print(test_input_img_PIL.format)\n",
    "\n",
    "test_input_img = pt_processor(test_input_img_PIL, return_tensors=\"pt\")\n",
    "with torch.no_grad():\n",
    "    logits = pt_model(**test_input_img).logits\n",
    "    \n",
    "# predicted_label = logits.argmax(-1).item()\n",
    "print(logits.shape)\n",
    "predicted_label = logits.argmax(-1)\n",
    "print(predicted_label)"
   ]
  },
  {
   "cell_type": "code",
   "execution_count": 28,
   "id": "ac653b2f",
   "metadata": {
    "execution": {
     "iopub.execute_input": "2023-11-24T13:45:54.248134Z",
     "iopub.status.busy": "2023-11-24T13:45:54.247790Z",
     "iopub.status.idle": "2023-11-24T13:45:54.252108Z",
     "shell.execute_reply": "2023-11-24T13:45:54.251346Z"
    },
    "papermill": {
     "duration": 0.02113,
     "end_time": "2023-11-24T13:45:54.253930",
     "exception": false,
     "start_time": "2023-11-24T13:45:54.232800",
     "status": "completed"
    },
    "tags": []
   },
   "outputs": [],
   "source": [
    "# from transformers import AutoImageProcessor, BeitForImageClassification\n",
    "# import torch\n",
    "# from datasets import load_dataset\n",
    "\n",
    "# dataset = load_dataset(\"huggingface/cats-image\")\n",
    "# image = dataset[\"test\"][\"image\"][0]\n",
    "\n",
    "# image_processor = AutoImageProcessor.from_pretrained(\"microsoft/beit-base-patch16-224\")\n",
    "# model = BeitForImageClassification.from_pretrained(\"microsoft/beit-base-patch16-224\")\n",
    "\n",
    "# inputs = image_processor(image, return_tensors=\"pt\")\n",
    "\n",
    "# with torch.no_grad():\n",
    "#     logits = model(**inputs).logits\n",
    "\n",
    "# # model predicts one of the 1000 ImageNet classes\n",
    "# predicted_label = logits.argmax(-1).item()\n",
    "# print(model.config.id2label[predicted_label])"
   ]
  },
  {
   "cell_type": "code",
   "execution_count": 29,
   "id": "2bc8cc39",
   "metadata": {
    "execution": {
     "iopub.execute_input": "2023-11-24T13:45:54.282641Z",
     "iopub.status.busy": "2023-11-24T13:45:54.282362Z",
     "iopub.status.idle": "2023-11-24T13:45:54.292143Z",
     "shell.execute_reply": "2023-11-24T13:45:54.291202Z"
    },
    "papermill": {
     "duration": 0.026184,
     "end_time": "2023-11-24T13:45:54.293931",
     "exception": false,
     "start_time": "2023-11-24T13:45:54.267747",
     "status": "completed"
    },
    "tags": []
   },
   "outputs": [
    {
     "name": "stdout",
     "output_type": "stream",
     "text": [
      "(4389, 2)\n"
     ]
    }
   ],
   "source": [
    "# labels = test_set.features['label'].names\n",
    "labels = test_set.features['label_id']\n",
    "cm = confusion_matrix(y_true, y_pred)\n",
    "disp = ConfusionMatrixDisplay(confusion_matrix=cm, display_labels=labels)\n",
    "# disp.plot()\n",
    "# disp.plot(xticks_rotation=45)\n",
    "print(test_outputs.predictions.shape)"
   ]
  }
 ],
 "metadata": {
  "kaggle": {
   "accelerator": "gpu",
   "dataSources": [
    {
     "datasetId": 3937232,
     "sourceId": 6849087,
     "sourceType": "datasetVersion"
    },
    {
     "datasetId": 3939161,
     "sourceId": 6853108,
     "sourceType": "datasetVersion"
    },
    {
     "datasetId": 4027110,
     "sourceId": 7004943,
     "sourceType": "datasetVersion"
    }
   ],
   "isGpuEnabled": true,
   "isInternetEnabled": true,
   "language": "python",
   "sourceType": "notebook"
  },
  "kernelspec": {
   "display_name": "Python 3",
   "language": "python",
   "name": "python3"
  },
  "language_info": {
   "codemirror_mode": {
    "name": "ipython",
    "version": 3
   },
   "file_extension": ".py",
   "mimetype": "text/x-python",
   "name": "python",
   "nbconvert_exporter": "python",
   "pygments_lexer": "ipython3",
   "version": "3.10.12"
  },
  "papermill": {
   "default_parameters": {},
   "duration": 14431.03197,
   "end_time": "2023-11-24T13:45:57.158343",
   "environment_variables": {},
   "exception": null,
   "input_path": "__notebook__.ipynb",
   "output_path": "__notebook__.ipynb",
   "parameters": {},
   "start_time": "2023-11-24T09:45:26.126373",
   "version": "2.4.0"
  },
  "widgets": {
   "application/vnd.jupyter.widget-state+json": {
    "state": {
     "0bc0704bfa7540eb9416112a449998ca": {
      "model_module": "@jupyter-widgets/controls",
      "model_module_version": "1.5.0",
      "model_name": "ProgressStyleModel",
      "state": {
       "_model_module": "@jupyter-widgets/controls",
       "_model_module_version": "1.5.0",
       "_model_name": "ProgressStyleModel",
       "_view_count": null,
       "_view_module": "@jupyter-widgets/base",
       "_view_module_version": "1.2.0",
       "_view_name": "StyleView",
       "bar_color": null,
       "description_width": ""
      }
     },
     "0f53185b0ac24bb79b5d98a0167feb2c": {
      "model_module": "@jupyter-widgets/base",
      "model_module_version": "1.2.0",
      "model_name": "LayoutModel",
      "state": {
       "_model_module": "@jupyter-widgets/base",
       "_model_module_version": "1.2.0",
       "_model_name": "LayoutModel",
       "_view_count": null,
       "_view_module": "@jupyter-widgets/base",
       "_view_module_version": "1.2.0",
       "_view_name": "LayoutView",
       "align_content": null,
       "align_items": null,
       "align_self": null,
       "border": null,
       "bottom": null,
       "display": null,
       "flex": null,
       "flex_flow": null,
       "grid_area": null,
       "grid_auto_columns": null,
       "grid_auto_flow": null,
       "grid_auto_rows": null,
       "grid_column": null,
       "grid_gap": null,
       "grid_row": null,
       "grid_template_areas": null,
       "grid_template_columns": null,
       "grid_template_rows": null,
       "height": null,
       "justify_content": null,
       "justify_items": null,
       "left": null,
       "margin": null,
       "max_height": null,
       "max_width": null,
       "min_height": null,
       "min_width": null,
       "object_fit": null,
       "object_position": null,
       "order": null,
       "overflow": null,
       "overflow_x": null,
       "overflow_y": null,
       "padding": null,
       "right": null,
       "top": null,
       "visibility": null,
       "width": null
      }
     },
     "130e0a1c63084b51b5c7fa7e47afbc4c": {
      "model_module": "@jupyter-widgets/controls",
      "model_module_version": "1.5.0",
      "model_name": "ProgressStyleModel",
      "state": {
       "_model_module": "@jupyter-widgets/controls",
       "_model_module_version": "1.5.0",
       "_model_name": "ProgressStyleModel",
       "_view_count": null,
       "_view_module": "@jupyter-widgets/base",
       "_view_module_version": "1.2.0",
       "_view_name": "StyleView",
       "bar_color": null,
       "description_width": ""
      }
     },
     "1a026258b1c44ca5a945e9cb2ddc013d": {
      "model_module": "@jupyter-widgets/base",
      "model_module_version": "1.2.0",
      "model_name": "LayoutModel",
      "state": {
       "_model_module": "@jupyter-widgets/base",
       "_model_module_version": "1.2.0",
       "_model_name": "LayoutModel",
       "_view_count": null,
       "_view_module": "@jupyter-widgets/base",
       "_view_module_version": "1.2.0",
       "_view_name": "LayoutView",
       "align_content": null,
       "align_items": null,
       "align_self": null,
       "border": null,
       "bottom": null,
       "display": null,
       "flex": null,
       "flex_flow": null,
       "grid_area": null,
       "grid_auto_columns": null,
       "grid_auto_flow": null,
       "grid_auto_rows": null,
       "grid_column": null,
       "grid_gap": null,
       "grid_row": null,
       "grid_template_areas": null,
       "grid_template_columns": null,
       "grid_template_rows": null,
       "height": null,
       "justify_content": null,
       "justify_items": null,
       "left": null,
       "margin": null,
       "max_height": null,
       "max_width": null,
       "min_height": null,
       "min_width": null,
       "object_fit": null,
       "object_position": null,
       "order": null,
       "overflow": null,
       "overflow_x": null,
       "overflow_y": null,
       "padding": null,
       "right": null,
       "top": null,
       "visibility": null,
       "width": null
      }
     },
     "265e3348685047469ca04aa9fc451a51": {
      "model_module": "@jupyter-widgets/base",
      "model_module_version": "1.2.0",
      "model_name": "LayoutModel",
      "state": {
       "_model_module": "@jupyter-widgets/base",
       "_model_module_version": "1.2.0",
       "_model_name": "LayoutModel",
       "_view_count": null,
       "_view_module": "@jupyter-widgets/base",
       "_view_module_version": "1.2.0",
       "_view_name": "LayoutView",
       "align_content": null,
       "align_items": null,
       "align_self": null,
       "border": null,
       "bottom": null,
       "display": null,
       "flex": null,
       "flex_flow": null,
       "grid_area": null,
       "grid_auto_columns": null,
       "grid_auto_flow": null,
       "grid_auto_rows": null,
       "grid_column": null,
       "grid_gap": null,
       "grid_row": null,
       "grid_template_areas": null,
       "grid_template_columns": null,
       "grid_template_rows": null,
       "height": null,
       "justify_content": null,
       "justify_items": null,
       "left": null,
       "margin": null,
       "max_height": null,
       "max_width": null,
       "min_height": null,
       "min_width": null,
       "object_fit": null,
       "object_position": null,
       "order": null,
       "overflow": null,
       "overflow_x": null,
       "overflow_y": null,
       "padding": null,
       "right": null,
       "top": null,
       "visibility": null,
       "width": null
      }
     },
     "2e6a7ebf4a3c46a2bb03805f1811cc44": {
      "model_module": "@jupyter-widgets/controls",
      "model_module_version": "1.5.0",
      "model_name": "DescriptionStyleModel",
      "state": {
       "_model_module": "@jupyter-widgets/controls",
       "_model_module_version": "1.5.0",
       "_model_name": "DescriptionStyleModel",
       "_view_count": null,
       "_view_module": "@jupyter-widgets/base",
       "_view_module_version": "1.2.0",
       "_view_name": "StyleView",
       "description_width": ""
      }
     },
     "2ff4b6726d3d4ecaaa7d8462d59d98c0": {
      "model_module": "@jupyter-widgets/base",
      "model_module_version": "1.2.0",
      "model_name": "LayoutModel",
      "state": {
       "_model_module": "@jupyter-widgets/base",
       "_model_module_version": "1.2.0",
       "_model_name": "LayoutModel",
       "_view_count": null,
       "_view_module": "@jupyter-widgets/base",
       "_view_module_version": "1.2.0",
       "_view_name": "LayoutView",
       "align_content": null,
       "align_items": null,
       "align_self": null,
       "border": null,
       "bottom": null,
       "display": null,
       "flex": null,
       "flex_flow": null,
       "grid_area": null,
       "grid_auto_columns": null,
       "grid_auto_flow": null,
       "grid_auto_rows": null,
       "grid_column": null,
       "grid_gap": null,
       "grid_row": null,
       "grid_template_areas": null,
       "grid_template_columns": null,
       "grid_template_rows": null,
       "height": null,
       "justify_content": null,
       "justify_items": null,
       "left": null,
       "margin": null,
       "max_height": null,
       "max_width": null,
       "min_height": null,
       "min_width": null,
       "object_fit": null,
       "object_position": null,
       "order": null,
       "overflow": null,
       "overflow_x": null,
       "overflow_y": null,
       "padding": null,
       "right": null,
       "top": null,
       "visibility": null,
       "width": null
      }
     },
     "31cb9c6ce65043e7ace06b5eb5cf0bf5": {
      "model_module": "@jupyter-widgets/base",
      "model_module_version": "1.2.0",
      "model_name": "LayoutModel",
      "state": {
       "_model_module": "@jupyter-widgets/base",
       "_model_module_version": "1.2.0",
       "_model_name": "LayoutModel",
       "_view_count": null,
       "_view_module": "@jupyter-widgets/base",
       "_view_module_version": "1.2.0",
       "_view_name": "LayoutView",
       "align_content": null,
       "align_items": null,
       "align_self": null,
       "border": null,
       "bottom": null,
       "display": null,
       "flex": null,
       "flex_flow": null,
       "grid_area": null,
       "grid_auto_columns": null,
       "grid_auto_flow": null,
       "grid_auto_rows": null,
       "grid_column": null,
       "grid_gap": null,
       "grid_row": null,
       "grid_template_areas": null,
       "grid_template_columns": null,
       "grid_template_rows": null,
       "height": null,
       "justify_content": null,
       "justify_items": null,
       "left": null,
       "margin": null,
       "max_height": null,
       "max_width": null,
       "min_height": null,
       "min_width": null,
       "object_fit": null,
       "object_position": null,
       "order": null,
       "overflow": null,
       "overflow_x": null,
       "overflow_y": null,
       "padding": null,
       "right": null,
       "top": null,
       "visibility": null,
       "width": null
      }
     },
     "32a16c886d0f4f03a4d6968614fa45dc": {
      "model_module": "@jupyter-widgets/base",
      "model_module_version": "1.2.0",
      "model_name": "LayoutModel",
      "state": {
       "_model_module": "@jupyter-widgets/base",
       "_model_module_version": "1.2.0",
       "_model_name": "LayoutModel",
       "_view_count": null,
       "_view_module": "@jupyter-widgets/base",
       "_view_module_version": "1.2.0",
       "_view_name": "LayoutView",
       "align_content": null,
       "align_items": null,
       "align_self": null,
       "border": null,
       "bottom": null,
       "display": null,
       "flex": null,
       "flex_flow": null,
       "grid_area": null,
       "grid_auto_columns": null,
       "grid_auto_flow": null,
       "grid_auto_rows": null,
       "grid_column": null,
       "grid_gap": null,
       "grid_row": null,
       "grid_template_areas": null,
       "grid_template_columns": null,
       "grid_template_rows": null,
       "height": null,
       "justify_content": null,
       "justify_items": null,
       "left": null,
       "margin": null,
       "max_height": null,
       "max_width": null,
       "min_height": null,
       "min_width": null,
       "object_fit": null,
       "object_position": null,
       "order": null,
       "overflow": null,
       "overflow_x": null,
       "overflow_y": null,
       "padding": null,
       "right": null,
       "top": null,
       "visibility": null,
       "width": null
      }
     },
     "382f52326c7b43f19b594fb3aa69978a": {
      "model_module": "@jupyter-widgets/controls",
      "model_module_version": "1.5.0",
      "model_name": "HBoxModel",
      "state": {
       "_dom_classes": [],
       "_model_module": "@jupyter-widgets/controls",
       "_model_module_version": "1.5.0",
       "_model_name": "HBoxModel",
       "_view_count": null,
       "_view_module": "@jupyter-widgets/controls",
       "_view_module_version": "1.5.0",
       "_view_name": "HBoxView",
       "box_style": "",
       "children": [
        "IPY_MODEL_f13dea996ee6478c919926610397b10c",
        "IPY_MODEL_a2d569ea6b624446af8a76742eea0cb8",
        "IPY_MODEL_b46431936b3e43fb8e2405a858867b66"
       ],
       "layout": "IPY_MODEL_0f53185b0ac24bb79b5d98a0167feb2c"
      }
     },
     "3d0aacfb840c4c7e9b71ccbc86c7b8c7": {
      "model_module": "@jupyter-widgets/base",
      "model_module_version": "1.2.0",
      "model_name": "LayoutModel",
      "state": {
       "_model_module": "@jupyter-widgets/base",
       "_model_module_version": "1.2.0",
       "_model_name": "LayoutModel",
       "_view_count": null,
       "_view_module": "@jupyter-widgets/base",
       "_view_module_version": "1.2.0",
       "_view_name": "LayoutView",
       "align_content": null,
       "align_items": null,
       "align_self": null,
       "border": null,
       "bottom": null,
       "display": null,
       "flex": null,
       "flex_flow": null,
       "grid_area": null,
       "grid_auto_columns": null,
       "grid_auto_flow": null,
       "grid_auto_rows": null,
       "grid_column": null,
       "grid_gap": null,
       "grid_row": null,
       "grid_template_areas": null,
       "grid_template_columns": null,
       "grid_template_rows": null,
       "height": null,
       "justify_content": null,
       "justify_items": null,
       "left": null,
       "margin": null,
       "max_height": null,
       "max_width": null,
       "min_height": null,
       "min_width": null,
       "object_fit": null,
       "object_position": null,
       "order": null,
       "overflow": null,
       "overflow_x": null,
       "overflow_y": null,
       "padding": null,
       "right": null,
       "top": null,
       "visibility": null,
       "width": null
      }
     },
     "408cc2e0299e491d9f20c9b8f35180da": {
      "model_module": "@jupyter-widgets/base",
      "model_module_version": "1.2.0",
      "model_name": "LayoutModel",
      "state": {
       "_model_module": "@jupyter-widgets/base",
       "_model_module_version": "1.2.0",
       "_model_name": "LayoutModel",
       "_view_count": null,
       "_view_module": "@jupyter-widgets/base",
       "_view_module_version": "1.2.0",
       "_view_name": "LayoutView",
       "align_content": null,
       "align_items": null,
       "align_self": null,
       "border": null,
       "bottom": null,
       "display": null,
       "flex": null,
       "flex_flow": null,
       "grid_area": null,
       "grid_auto_columns": null,
       "grid_auto_flow": null,
       "grid_auto_rows": null,
       "grid_column": null,
       "grid_gap": null,
       "grid_row": null,
       "grid_template_areas": null,
       "grid_template_columns": null,
       "grid_template_rows": null,
       "height": null,
       "justify_content": null,
       "justify_items": null,
       "left": null,
       "margin": null,
       "max_height": null,
       "max_width": null,
       "min_height": null,
       "min_width": null,
       "object_fit": null,
       "object_position": null,
       "order": null,
       "overflow": null,
       "overflow_x": null,
       "overflow_y": null,
       "padding": null,
       "right": null,
       "top": null,
       "visibility": null,
       "width": null
      }
     },
     "4160e223d9d44e619b5f6eafd4d6d409": {
      "model_module": "@jupyter-widgets/controls",
      "model_module_version": "1.5.0",
      "model_name": "DescriptionStyleModel",
      "state": {
       "_model_module": "@jupyter-widgets/controls",
       "_model_module_version": "1.5.0",
       "_model_name": "DescriptionStyleModel",
       "_view_count": null,
       "_view_module": "@jupyter-widgets/base",
       "_view_module_version": "1.2.0",
       "_view_name": "StyleView",
       "description_width": ""
      }
     },
     "4cd0d58bf734444b859ded4b33a15a8c": {
      "model_module": "@jupyter-widgets/base",
      "model_module_version": "1.2.0",
      "model_name": "LayoutModel",
      "state": {
       "_model_module": "@jupyter-widgets/base",
       "_model_module_version": "1.2.0",
       "_model_name": "LayoutModel",
       "_view_count": null,
       "_view_module": "@jupyter-widgets/base",
       "_view_module_version": "1.2.0",
       "_view_name": "LayoutView",
       "align_content": null,
       "align_items": null,
       "align_self": null,
       "border": null,
       "bottom": null,
       "display": null,
       "flex": null,
       "flex_flow": null,
       "grid_area": null,
       "grid_auto_columns": null,
       "grid_auto_flow": null,
       "grid_auto_rows": null,
       "grid_column": null,
       "grid_gap": null,
       "grid_row": null,
       "grid_template_areas": null,
       "grid_template_columns": null,
       "grid_template_rows": null,
       "height": null,
       "justify_content": null,
       "justify_items": null,
       "left": null,
       "margin": null,
       "max_height": null,
       "max_width": null,
       "min_height": null,
       "min_width": null,
       "object_fit": null,
       "object_position": null,
       "order": null,
       "overflow": null,
       "overflow_x": null,
       "overflow_y": null,
       "padding": null,
       "right": null,
       "top": null,
       "visibility": null,
       "width": null
      }
     },
     "4e611f45896a457b8c5849b9d0b24a53": {
      "model_module": "@jupyter-widgets/base",
      "model_module_version": "1.2.0",
      "model_name": "LayoutModel",
      "state": {
       "_model_module": "@jupyter-widgets/base",
       "_model_module_version": "1.2.0",
       "_model_name": "LayoutModel",
       "_view_count": null,
       "_view_module": "@jupyter-widgets/base",
       "_view_module_version": "1.2.0",
       "_view_name": "LayoutView",
       "align_content": null,
       "align_items": null,
       "align_self": null,
       "border": null,
       "bottom": null,
       "display": null,
       "flex": null,
       "flex_flow": null,
       "grid_area": null,
       "grid_auto_columns": null,
       "grid_auto_flow": null,
       "grid_auto_rows": null,
       "grid_column": null,
       "grid_gap": null,
       "grid_row": null,
       "grid_template_areas": null,
       "grid_template_columns": null,
       "grid_template_rows": null,
       "height": null,
       "justify_content": null,
       "justify_items": null,
       "left": null,
       "margin": null,
       "max_height": null,
       "max_width": null,
       "min_height": null,
       "min_width": null,
       "object_fit": null,
       "object_position": null,
       "order": null,
       "overflow": null,
       "overflow_x": null,
       "overflow_y": null,
       "padding": null,
       "right": null,
       "top": null,
       "visibility": null,
       "width": null
      }
     },
     "4ee431fa17a5484bab0c3e934f0e7fef": {
      "model_module": "@jupyter-widgets/controls",
      "model_module_version": "1.5.0",
      "model_name": "DescriptionStyleModel",
      "state": {
       "_model_module": "@jupyter-widgets/controls",
       "_model_module_version": "1.5.0",
       "_model_name": "DescriptionStyleModel",
       "_view_count": null,
       "_view_module": "@jupyter-widgets/base",
       "_view_module_version": "1.2.0",
       "_view_name": "StyleView",
       "description_width": ""
      }
     },
     "53f5dd0912e4407eab520bec10f2ed60": {
      "model_module": "@jupyter-widgets/base",
      "model_module_version": "1.2.0",
      "model_name": "LayoutModel",
      "state": {
       "_model_module": "@jupyter-widgets/base",
       "_model_module_version": "1.2.0",
       "_model_name": "LayoutModel",
       "_view_count": null,
       "_view_module": "@jupyter-widgets/base",
       "_view_module_version": "1.2.0",
       "_view_name": "LayoutView",
       "align_content": null,
       "align_items": null,
       "align_self": null,
       "border": null,
       "bottom": null,
       "display": null,
       "flex": null,
       "flex_flow": null,
       "grid_area": null,
       "grid_auto_columns": null,
       "grid_auto_flow": null,
       "grid_auto_rows": null,
       "grid_column": null,
       "grid_gap": null,
       "grid_row": null,
       "grid_template_areas": null,
       "grid_template_columns": null,
       "grid_template_rows": null,
       "height": null,
       "justify_content": null,
       "justify_items": null,
       "left": null,
       "margin": null,
       "max_height": null,
       "max_width": null,
       "min_height": null,
       "min_width": null,
       "object_fit": null,
       "object_position": null,
       "order": null,
       "overflow": null,
       "overflow_x": null,
       "overflow_y": null,
       "padding": null,
       "right": null,
       "top": null,
       "visibility": null,
       "width": null
      }
     },
     "5c9c2b33314a44b3bd0f7f4acd3f0845": {
      "model_module": "@jupyter-widgets/controls",
      "model_module_version": "1.5.0",
      "model_name": "HTMLModel",
      "state": {
       "_dom_classes": [],
       "_model_module": "@jupyter-widgets/controls",
       "_model_module_version": "1.5.0",
       "_model_name": "HTMLModel",
       "_view_count": null,
       "_view_module": "@jupyter-widgets/controls",
       "_view_module_version": "1.5.0",
       "_view_name": "HTMLView",
       "description": "",
       "description_tooltip": null,
       "layout": "IPY_MODEL_82db6baeb31241ee8105fcd5b1292344",
       "placeholder": "​",
       "style": "IPY_MODEL_7d4d5e74fe0c47e1bd62028f42efed76",
       "value": " 350M/350M [00:06&lt;00:00, 61.8MB/s]"
      }
     },
     "60860d4b85434d869701ece7ad207928": {
      "model_module": "@jupyter-widgets/base",
      "model_module_version": "1.2.0",
      "model_name": "LayoutModel",
      "state": {
       "_model_module": "@jupyter-widgets/base",
       "_model_module_version": "1.2.0",
       "_model_name": "LayoutModel",
       "_view_count": null,
       "_view_module": "@jupyter-widgets/base",
       "_view_module_version": "1.2.0",
       "_view_name": "LayoutView",
       "align_content": null,
       "align_items": null,
       "align_self": null,
       "border": null,
       "bottom": null,
       "display": null,
       "flex": null,
       "flex_flow": null,
       "grid_area": null,
       "grid_auto_columns": null,
       "grid_auto_flow": null,
       "grid_auto_rows": null,
       "grid_column": null,
       "grid_gap": null,
       "grid_row": null,
       "grid_template_areas": null,
       "grid_template_columns": null,
       "grid_template_rows": null,
       "height": null,
       "justify_content": null,
       "justify_items": null,
       "left": null,
       "margin": null,
       "max_height": null,
       "max_width": null,
       "min_height": null,
       "min_width": null,
       "object_fit": null,
       "object_position": null,
       "order": null,
       "overflow": null,
       "overflow_x": null,
       "overflow_y": null,
       "padding": null,
       "right": null,
       "top": null,
       "visibility": null,
       "width": null
      }
     },
     "64f1f182406a48f59c6ecc4759eafd95": {
      "model_module": "@jupyter-widgets/controls",
      "model_module_version": "1.5.0",
      "model_name": "DescriptionStyleModel",
      "state": {
       "_model_module": "@jupyter-widgets/controls",
       "_model_module_version": "1.5.0",
       "_model_name": "DescriptionStyleModel",
       "_view_count": null,
       "_view_module": "@jupyter-widgets/base",
       "_view_module_version": "1.2.0",
       "_view_name": "StyleView",
       "description_width": ""
      }
     },
     "748996f36acd4b6fa309f82b85bd80cf": {
      "model_module": "@jupyter-widgets/controls",
      "model_module_version": "1.5.0",
      "model_name": "HBoxModel",
      "state": {
       "_dom_classes": [],
       "_model_module": "@jupyter-widgets/controls",
       "_model_module_version": "1.5.0",
       "_model_name": "HBoxModel",
       "_view_count": null,
       "_view_module": "@jupyter-widgets/controls",
       "_view_module_version": "1.5.0",
       "_view_name": "HBoxView",
       "box_style": "",
       "children": [
        "IPY_MODEL_92ff3551c9e04b7cbae9b6384b66fc69",
        "IPY_MODEL_a2a68f76747c4327ac2d2e206bf2918c",
        "IPY_MODEL_8339f743b696417a8e7a7de44dbf72d5"
       ],
       "layout": "IPY_MODEL_d6ea938c3172498cab504e75594a6438"
      }
     },
     "7d4d5e74fe0c47e1bd62028f42efed76": {
      "model_module": "@jupyter-widgets/controls",
      "model_module_version": "1.5.0",
      "model_name": "DescriptionStyleModel",
      "state": {
       "_model_module": "@jupyter-widgets/controls",
       "_model_module_version": "1.5.0",
       "_model_name": "DescriptionStyleModel",
       "_view_count": null,
       "_view_module": "@jupyter-widgets/base",
       "_view_module_version": "1.2.0",
       "_view_name": "StyleView",
       "description_width": ""
      }
     },
     "82db6baeb31241ee8105fcd5b1292344": {
      "model_module": "@jupyter-widgets/base",
      "model_module_version": "1.2.0",
      "model_name": "LayoutModel",
      "state": {
       "_model_module": "@jupyter-widgets/base",
       "_model_module_version": "1.2.0",
       "_model_name": "LayoutModel",
       "_view_count": null,
       "_view_module": "@jupyter-widgets/base",
       "_view_module_version": "1.2.0",
       "_view_name": "LayoutView",
       "align_content": null,
       "align_items": null,
       "align_self": null,
       "border": null,
       "bottom": null,
       "display": null,
       "flex": null,
       "flex_flow": null,
       "grid_area": null,
       "grid_auto_columns": null,
       "grid_auto_flow": null,
       "grid_auto_rows": null,
       "grid_column": null,
       "grid_gap": null,
       "grid_row": null,
       "grid_template_areas": null,
       "grid_template_columns": null,
       "grid_template_rows": null,
       "height": null,
       "justify_content": null,
       "justify_items": null,
       "left": null,
       "margin": null,
       "max_height": null,
       "max_width": null,
       "min_height": null,
       "min_width": null,
       "object_fit": null,
       "object_position": null,
       "order": null,
       "overflow": null,
       "overflow_x": null,
       "overflow_y": null,
       "padding": null,
       "right": null,
       "top": null,
       "visibility": null,
       "width": null
      }
     },
     "8339f743b696417a8e7a7de44dbf72d5": {
      "model_module": "@jupyter-widgets/controls",
      "model_module_version": "1.5.0",
      "model_name": "HTMLModel",
      "state": {
       "_dom_classes": [],
       "_model_module": "@jupyter-widgets/controls",
       "_model_module_version": "1.5.0",
       "_model_name": "HTMLModel",
       "_view_count": null,
       "_view_module": "@jupyter-widgets/controls",
       "_view_module_version": "1.5.0",
       "_view_name": "HTMLView",
       "description": "",
       "description_tooltip": null,
       "layout": "IPY_MODEL_2ff4b6726d3d4ecaaa7d8462d59d98c0",
       "placeholder": "​",
       "style": "IPY_MODEL_beaaaf1abd6d44a490600874aa112d2f",
       "value": " 276/276 [00:00&lt;00:00, 21.8kB/s]"
      }
     },
     "8548ab123fc7439488060ff4fd1b75b5": {
      "model_module": "@jupyter-widgets/base",
      "model_module_version": "1.2.0",
      "model_name": "LayoutModel",
      "state": {
       "_model_module": "@jupyter-widgets/base",
       "_model_module_version": "1.2.0",
       "_model_name": "LayoutModel",
       "_view_count": null,
       "_view_module": "@jupyter-widgets/base",
       "_view_module_version": "1.2.0",
       "_view_name": "LayoutView",
       "align_content": null,
       "align_items": null,
       "align_self": null,
       "border": null,
       "bottom": null,
       "display": null,
       "flex": null,
       "flex_flow": null,
       "grid_area": null,
       "grid_auto_columns": null,
       "grid_auto_flow": null,
       "grid_auto_rows": null,
       "grid_column": null,
       "grid_gap": null,
       "grid_row": null,
       "grid_template_areas": null,
       "grid_template_columns": null,
       "grid_template_rows": null,
       "height": null,
       "justify_content": null,
       "justify_items": null,
       "left": null,
       "margin": null,
       "max_height": null,
       "max_width": null,
       "min_height": null,
       "min_width": null,
       "object_fit": null,
       "object_position": null,
       "order": null,
       "overflow": null,
       "overflow_x": null,
       "overflow_y": null,
       "padding": null,
       "right": null,
       "top": null,
       "visibility": null,
       "width": null
      }
     },
     "8dfa5fa6f542490f83a72cbd949152b3": {
      "model_module": "@jupyter-widgets/base",
      "model_module_version": "1.2.0",
      "model_name": "LayoutModel",
      "state": {
       "_model_module": "@jupyter-widgets/base",
       "_model_module_version": "1.2.0",
       "_model_name": "LayoutModel",
       "_view_count": null,
       "_view_module": "@jupyter-widgets/base",
       "_view_module_version": "1.2.0",
       "_view_name": "LayoutView",
       "align_content": null,
       "align_items": null,
       "align_self": null,
       "border": null,
       "bottom": null,
       "display": null,
       "flex": null,
       "flex_flow": null,
       "grid_area": null,
       "grid_auto_columns": null,
       "grid_auto_flow": null,
       "grid_auto_rows": null,
       "grid_column": null,
       "grid_gap": null,
       "grid_row": null,
       "grid_template_areas": null,
       "grid_template_columns": null,
       "grid_template_rows": null,
       "height": null,
       "justify_content": null,
       "justify_items": null,
       "left": null,
       "margin": null,
       "max_height": null,
       "max_width": null,
       "min_height": null,
       "min_width": null,
       "object_fit": null,
       "object_position": null,
       "order": null,
       "overflow": null,
       "overflow_x": null,
       "overflow_y": null,
       "padding": null,
       "right": null,
       "top": null,
       "visibility": null,
       "width": null
      }
     },
     "8eec2d7347a04dda9c8e01545987d8a6": {
      "model_module": "@jupyter-widgets/controls",
      "model_module_version": "1.5.0",
      "model_name": "HTMLModel",
      "state": {
       "_dom_classes": [],
       "_model_module": "@jupyter-widgets/controls",
       "_model_module_version": "1.5.0",
       "_model_name": "HTMLModel",
       "_view_count": null,
       "_view_module": "@jupyter-widgets/controls",
       "_view_module_version": "1.5.0",
       "_view_name": "HTMLView",
       "description": "",
       "description_tooltip": null,
       "layout": "IPY_MODEL_4cd0d58bf734444b859ded4b33a15a8c",
       "placeholder": "​",
       "style": "IPY_MODEL_cec93998ba6d45879cd1a558a4a4b636",
       "value": "Downloading pytorch_model.bin: 100%"
      }
     },
     "92ff3551c9e04b7cbae9b6384b66fc69": {
      "model_module": "@jupyter-widgets/controls",
      "model_module_version": "1.5.0",
      "model_name": "HTMLModel",
      "state": {
       "_dom_classes": [],
       "_model_module": "@jupyter-widgets/controls",
       "_model_module_version": "1.5.0",
       "_model_name": "HTMLModel",
       "_view_count": null,
       "_view_module": "@jupyter-widgets/controls",
       "_view_module_version": "1.5.0",
       "_view_name": "HTMLView",
       "description": "",
       "description_tooltip": null,
       "layout": "IPY_MODEL_265e3348685047469ca04aa9fc451a51",
       "placeholder": "​",
       "style": "IPY_MODEL_b47fc420a34a4d9e884412184d0941e5",
       "value": "Downloading (…)rocessor_config.json: 100%"
      }
     },
     "9cc2adec7e0f43038beac2d8dd0fc9e3": {
      "model_module": "@jupyter-widgets/controls",
      "model_module_version": "1.5.0",
      "model_name": "FloatProgressModel",
      "state": {
       "_dom_classes": [],
       "_model_module": "@jupyter-widgets/controls",
       "_model_module_version": "1.5.0",
       "_model_name": "FloatProgressModel",
       "_view_count": null,
       "_view_module": "@jupyter-widgets/controls",
       "_view_module_version": "1.5.0",
       "_view_name": "ProgressView",
       "bar_style": "success",
       "description": "",
       "description_tooltip": null,
       "layout": "IPY_MODEL_53f5dd0912e4407eab520bec10f2ed60",
       "max": 1411.0,
       "min": 0.0,
       "orientation": "horizontal",
       "style": "IPY_MODEL_130e0a1c63084b51b5c7fa7e47afbc4c",
       "value": 1411.0
      }
     },
     "9d458dd26a584859b9bebadd0b13a42e": {
      "model_module": "@jupyter-widgets/controls",
      "model_module_version": "1.5.0",
      "model_name": "ProgressStyleModel",
      "state": {
       "_model_module": "@jupyter-widgets/controls",
       "_model_module_version": "1.5.0",
       "_model_name": "ProgressStyleModel",
       "_view_count": null,
       "_view_module": "@jupyter-widgets/base",
       "_view_module_version": "1.2.0",
       "_view_name": "StyleView",
       "bar_color": null,
       "description_width": ""
      }
     },
     "a2a68f76747c4327ac2d2e206bf2918c": {
      "model_module": "@jupyter-widgets/controls",
      "model_module_version": "1.5.0",
      "model_name": "FloatProgressModel",
      "state": {
       "_dom_classes": [],
       "_model_module": "@jupyter-widgets/controls",
       "_model_module_version": "1.5.0",
       "_model_name": "FloatProgressModel",
       "_view_count": null,
       "_view_module": "@jupyter-widgets/controls",
       "_view_module_version": "1.5.0",
       "_view_name": "ProgressView",
       "bar_style": "success",
       "description": "",
       "description_tooltip": null,
       "layout": "IPY_MODEL_31cb9c6ce65043e7ace06b5eb5cf0bf5",
       "max": 276.0,
       "min": 0.0,
       "orientation": "horizontal",
       "style": "IPY_MODEL_9d458dd26a584859b9bebadd0b13a42e",
       "value": 276.0
      }
     },
     "a2d569ea6b624446af8a76742eea0cb8": {
      "model_module": "@jupyter-widgets/controls",
      "model_module_version": "1.5.0",
      "model_name": "FloatProgressModel",
      "state": {
       "_dom_classes": [],
       "_model_module": "@jupyter-widgets/controls",
       "_model_module_version": "1.5.0",
       "_model_name": "FloatProgressModel",
       "_view_count": null,
       "_view_module": "@jupyter-widgets/controls",
       "_view_module_version": "1.5.0",
       "_view_name": "ProgressView",
       "bar_style": "success",
       "description": "",
       "description_tooltip": null,
       "layout": "IPY_MODEL_3d0aacfb840c4c7e9b71ccbc86c7b8c7",
       "max": 69889.0,
       "min": 0.0,
       "orientation": "horizontal",
       "style": "IPY_MODEL_a9814e7efde84f86b675d28813dd6d2a",
       "value": 69889.0
      }
     },
     "a9814e7efde84f86b675d28813dd6d2a": {
      "model_module": "@jupyter-widgets/controls",
      "model_module_version": "1.5.0",
      "model_name": "ProgressStyleModel",
      "state": {
       "_model_module": "@jupyter-widgets/controls",
       "_model_module_version": "1.5.0",
       "_model_name": "ProgressStyleModel",
       "_view_count": null,
       "_view_module": "@jupyter-widgets/base",
       "_view_module_version": "1.2.0",
       "_view_name": "StyleView",
       "bar_color": null,
       "description_width": ""
      }
     },
     "aec6de8e7fed47ef93dc3a117df2b1b7": {
      "model_module": "@jupyter-widgets/controls",
      "model_module_version": "1.5.0",
      "model_name": "FloatProgressModel",
      "state": {
       "_dom_classes": [],
       "_model_module": "@jupyter-widgets/controls",
       "_model_module_version": "1.5.0",
       "_model_name": "FloatProgressModel",
       "_view_count": null,
       "_view_module": "@jupyter-widgets/controls",
       "_view_module_version": "1.5.0",
       "_view_name": "ProgressView",
       "bar_style": "success",
       "description": "",
       "description_tooltip": null,
       "layout": "IPY_MODEL_408cc2e0299e491d9f20c9b8f35180da",
       "max": 349939883.0,
       "min": 0.0,
       "orientation": "horizontal",
       "style": "IPY_MODEL_0bc0704bfa7540eb9416112a449998ca",
       "value": 349939883.0
      }
     },
     "b46431936b3e43fb8e2405a858867b66": {
      "model_module": "@jupyter-widgets/controls",
      "model_module_version": "1.5.0",
      "model_name": "HTMLModel",
      "state": {
       "_dom_classes": [],
       "_model_module": "@jupyter-widgets/controls",
       "_model_module_version": "1.5.0",
       "_model_name": "HTMLModel",
       "_view_count": null,
       "_view_module": "@jupyter-widgets/controls",
       "_view_module_version": "1.5.0",
       "_view_name": "HTMLView",
       "description": "",
       "description_tooltip": null,
       "layout": "IPY_MODEL_4e611f45896a457b8c5849b9d0b24a53",
       "placeholder": "​",
       "style": "IPY_MODEL_64f1f182406a48f59c6ecc4759eafd95",
       "value": " 69.9k/69.9k [00:00&lt;00:00, 4.50MB/s]"
      }
     },
     "b47fc420a34a4d9e884412184d0941e5": {
      "model_module": "@jupyter-widgets/controls",
      "model_module_version": "1.5.0",
      "model_name": "DescriptionStyleModel",
      "state": {
       "_model_module": "@jupyter-widgets/controls",
       "_model_module_version": "1.5.0",
       "_model_name": "DescriptionStyleModel",
       "_view_count": null,
       "_view_module": "@jupyter-widgets/base",
       "_view_module_version": "1.2.0",
       "_view_name": "StyleView",
       "description_width": ""
      }
     },
     "b5bee2e9703040caba90f92740ffa510": {
      "model_module": "@jupyter-widgets/controls",
      "model_module_version": "1.5.0",
      "model_name": "HBoxModel",
      "state": {
       "_dom_classes": [],
       "_model_module": "@jupyter-widgets/controls",
       "_model_module_version": "1.5.0",
       "_model_name": "HBoxModel",
       "_view_count": null,
       "_view_module": "@jupyter-widgets/controls",
       "_view_module_version": "1.5.0",
       "_view_name": "HBoxView",
       "box_style": "",
       "children": [
        "IPY_MODEL_8eec2d7347a04dda9c8e01545987d8a6",
        "IPY_MODEL_aec6de8e7fed47ef93dc3a117df2b1b7",
        "IPY_MODEL_5c9c2b33314a44b3bd0f7f4acd3f0845"
       ],
       "layout": "IPY_MODEL_8dfa5fa6f542490f83a72cbd949152b3"
      }
     },
     "beaaaf1abd6d44a490600874aa112d2f": {
      "model_module": "@jupyter-widgets/controls",
      "model_module_version": "1.5.0",
      "model_name": "DescriptionStyleModel",
      "state": {
       "_model_module": "@jupyter-widgets/controls",
       "_model_module_version": "1.5.0",
       "_model_name": "DescriptionStyleModel",
       "_view_count": null,
       "_view_module": "@jupyter-widgets/base",
       "_view_module_version": "1.2.0",
       "_view_name": "StyleView",
       "description_width": ""
      }
     },
     "cec93998ba6d45879cd1a558a4a4b636": {
      "model_module": "@jupyter-widgets/controls",
      "model_module_version": "1.5.0",
      "model_name": "DescriptionStyleModel",
      "state": {
       "_model_module": "@jupyter-widgets/controls",
       "_model_module_version": "1.5.0",
       "_model_name": "DescriptionStyleModel",
       "_view_count": null,
       "_view_module": "@jupyter-widgets/base",
       "_view_module_version": "1.2.0",
       "_view_name": "StyleView",
       "description_width": ""
      }
     },
     "d0b48501b3d14350a41e69e90aeb11c5": {
      "model_module": "@jupyter-widgets/controls",
      "model_module_version": "1.5.0",
      "model_name": "HTMLModel",
      "state": {
       "_dom_classes": [],
       "_model_module": "@jupyter-widgets/controls",
       "_model_module_version": "1.5.0",
       "_model_name": "HTMLModel",
       "_view_count": null,
       "_view_module": "@jupyter-widgets/controls",
       "_view_module_version": "1.5.0",
       "_view_name": "HTMLView",
       "description": "",
       "description_tooltip": null,
       "layout": "IPY_MODEL_8548ab123fc7439488060ff4fd1b75b5",
       "placeholder": "​",
       "style": "IPY_MODEL_4ee431fa17a5484bab0c3e934f0e7fef",
       "value": " 3.19k/? [00:00&lt;00:00, 232kB/s]"
      }
     },
     "d6ea938c3172498cab504e75594a6438": {
      "model_module": "@jupyter-widgets/base",
      "model_module_version": "1.2.0",
      "model_name": "LayoutModel",
      "state": {
       "_model_module": "@jupyter-widgets/base",
       "_model_module_version": "1.2.0",
       "_model_name": "LayoutModel",
       "_view_count": null,
       "_view_module": "@jupyter-widgets/base",
       "_view_module_version": "1.2.0",
       "_view_name": "LayoutView",
       "align_content": null,
       "align_items": null,
       "align_self": null,
       "border": null,
       "bottom": null,
       "display": null,
       "flex": null,
       "flex_flow": null,
       "grid_area": null,
       "grid_auto_columns": null,
       "grid_auto_flow": null,
       "grid_auto_rows": null,
       "grid_column": null,
       "grid_gap": null,
       "grid_row": null,
       "grid_template_areas": null,
       "grid_template_columns": null,
       "grid_template_rows": null,
       "height": null,
       "justify_content": null,
       "justify_items": null,
       "left": null,
       "margin": null,
       "max_height": null,
       "max_width": null,
       "min_height": null,
       "min_width": null,
       "object_fit": null,
       "object_position": null,
       "order": null,
       "overflow": null,
       "overflow_x": null,
       "overflow_y": null,
       "padding": null,
       "right": null,
       "top": null,
       "visibility": null,
       "width": null
      }
     },
     "ec447dc6d47345c2b517f02b8c52c9cd": {
      "model_module": "@jupyter-widgets/controls",
      "model_module_version": "1.5.0",
      "model_name": "HTMLModel",
      "state": {
       "_dom_classes": [],
       "_model_module": "@jupyter-widgets/controls",
       "_model_module_version": "1.5.0",
       "_model_name": "HTMLModel",
       "_view_count": null,
       "_view_module": "@jupyter-widgets/controls",
       "_view_module_version": "1.5.0",
       "_view_name": "HTMLView",
       "description": "",
       "description_tooltip": null,
       "layout": "IPY_MODEL_60860d4b85434d869701ece7ad207928",
       "placeholder": "​",
       "style": "IPY_MODEL_2e6a7ebf4a3c46a2bb03805f1811cc44",
       "value": "Downloading builder script: "
      }
     },
     "f13dea996ee6478c919926610397b10c": {
      "model_module": "@jupyter-widgets/controls",
      "model_module_version": "1.5.0",
      "model_name": "HTMLModel",
      "state": {
       "_dom_classes": [],
       "_model_module": "@jupyter-widgets/controls",
       "_model_module_version": "1.5.0",
       "_model_name": "HTMLModel",
       "_view_count": null,
       "_view_module": "@jupyter-widgets/controls",
       "_view_module_version": "1.5.0",
       "_view_name": "HTMLView",
       "description": "",
       "description_tooltip": null,
       "layout": "IPY_MODEL_1a026258b1c44ca5a945e9cb2ddc013d",
       "placeholder": "​",
       "style": "IPY_MODEL_4160e223d9d44e619b5f6eafd4d6d409",
       "value": "Downloading config.json: 100%"
      }
     },
     "f58724ad8327458a82dfc4f80ec9325e": {
      "model_module": "@jupyter-widgets/controls",
      "model_module_version": "1.5.0",
      "model_name": "HBoxModel",
      "state": {
       "_dom_classes": [],
       "_model_module": "@jupyter-widgets/controls",
       "_model_module_version": "1.5.0",
       "_model_name": "HBoxModel",
       "_view_count": null,
       "_view_module": "@jupyter-widgets/controls",
       "_view_module_version": "1.5.0",
       "_view_name": "HBoxView",
       "box_style": "",
       "children": [
        "IPY_MODEL_ec447dc6d47345c2b517f02b8c52c9cd",
        "IPY_MODEL_9cc2adec7e0f43038beac2d8dd0fc9e3",
        "IPY_MODEL_d0b48501b3d14350a41e69e90aeb11c5"
       ],
       "layout": "IPY_MODEL_32a16c886d0f4f03a4d6968614fa45dc"
      }
     }
    },
    "version_major": 2,
    "version_minor": 0
   }
  }
 },
 "nbformat": 4,
 "nbformat_minor": 5
}
